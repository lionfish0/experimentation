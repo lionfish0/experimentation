{
 "cells": [
  {
   "cell_type": "code",
   "execution_count": 22,
   "metadata": {},
   "outputs": [],
   "source": [
    "from scipy.optimize import curve_fit\n",
    "import numpy as np\n",
    "import matplotlib.pyplot as plt\n",
    "%matplotlib inline\n",
    "np.set_printoptions(precision=3,suppress=True)"
   ]
  },
  {
   "cell_type": "code",
   "execution_count": 93,
   "metadata": {},
   "outputs": [],
   "source": [
    "def f(x,height,pos,std):\n",
    "    y = height*np.exp(-(x-pos)**2/(2*std))\n",
    "    y[y>255]=255\n",
    "    return y\n",
    "    \n",
    "x = np.arange(10)\n",
    "y = 1.0*(523*np.exp(-(x-4.4)**2/(2*0.25))+np.random.randn(10)*2).astype(int)\n",
    "y[y>255]=255\n",
    "p0 = np.array([2,3,2])\n",
    "popt, pcov = curve_fit(f,x,y,p0)"
   ]
  },
  {
   "cell_type": "code",
   "execution_count": 94,
   "metadata": {},
   "outputs": [
    {
     "data": {
      "text/plain": [
       "array([713.575,   4.339,   0.21 ])"
      ]
     },
     "execution_count": 94,
     "metadata": {},
     "output_type": "execute_result"
    }
   ],
   "source": [
    "popt"
   ]
  },
  {
   "cell_type": "code",
   "execution_count": 95,
   "metadata": {},
   "outputs": [
    {
     "data": {
      "text/plain": [
       "array([442.075,   0.101,   0.062])"
      ]
     },
     "execution_count": 95,
     "metadata": {},
     "output_type": "execute_result"
    }
   ],
   "source": [
    "1.96*np.sqrt(np.diag(pcov))"
   ]
  },
  {
   "cell_type": "code",
   "execution_count": 96,
   "metadata": {},
   "outputs": [
    {
     "data": {
      "text/plain": [
       "442.07470809575125"
      ]
     },
     "execution_count": 96,
     "metadata": {},
     "output_type": "execute_result"
    }
   ],
   "source": [
    "1.96*np.sqrt(pcov[0,0])"
   ]
  },
  {
   "cell_type": "code",
   "execution_count": 97,
   "metadata": {},
   "outputs": [
    {
     "data": {
      "text/plain": [
       "0.10084039266727224"
      ]
     },
     "execution_count": 97,
     "metadata": {},
     "output_type": "execute_result"
    }
   ],
   "source": [
    "1.96*np.sqrt(pcov[1,1])"
   ]
  },
  {
   "cell_type": "code",
   "execution_count": 100,
   "metadata": {},
   "outputs": [
    {
     "data": {
      "text/plain": [
       "[<matplotlib.lines.Line2D at 0x7fbe888f8f40>]"
      ]
     },
     "execution_count": 100,
     "metadata": {},
     "output_type": "execute_result"
    },
    {
     "data": {
      "image/png": "[encoded data removed]",
      "text/plain": [
       "<Figure size 432x288 with 1 Axes>"
      ]
     },
     "metadata": {
      "needs_background": "light"
     },
     "output_type": "display_data"
    }
   ],
   "source": [
    "plt.plot(x,y,'x')\n",
    "testx = np.linspace(0,10,100)\n",
    "testy = f(testx,popt[0],popt[1],popt[2])\n",
    "plt.plot(testx,testy,'g-')\n",
    "testy = f(testx,popt[0]+1.96*np.sqrt(pcov[0,0]),popt[1],popt[2])\n",
    "plt.plot(testx,testy,'--g')\n",
    "testy = f(testx,popt[0]-1.96*np.sqrt(pcov[0,0]),popt[1],popt[2])\n",
    "plt.plot(testx,testy,'--g')\n",
    "testx = np.linspace(0,10,100)\n",
    "testy = f(testx,523,4.4,0.25)\n",
    "plt.plot(testx,testy,'r--')"
   ]
  },
  {
   "cell_type": "code",
   "execution_count": 101,
   "metadata": {},
   "outputs": [
    {
     "data": {
      "text/plain": [
       "array([713.575,   4.339,   0.21 ])"
      ]
     },
     "execution_count": 101,
     "metadata": {},
     "output_type": "execute_result"
    }
   ],
   "source": [
    "popt"
   ]
  },
  {
   "cell_type": "code",
   "execution_count": 104,
   "metadata": {},
   "outputs": [
    {
     "data": {
      "text/plain": [
       "442.07470809575125"
      ]
     },
     "execution_count": 104,
     "metadata": {},
     "output_type": "execute_result"
    }
   ],
   "source": [
    "1.96*np.sqrt(pcov[0,0])"
   ]
  },
  {
   "cell_type": "markdown",
   "metadata": {},
   "source": [
    "- is the PSF really Gaussian\n",
    "- are the values in the image really linear\n",
    "- how to handle ceiling effect (saturation)\n",
    "- also pixels are integrals\n",
    "- also image is 2d!\n",
    "- need to try on real data.\n",
    "- maybe need to look at how sensors work re RGB location of sensors - what does this mean for the predictions?\n"
   ]
  }
 ],
 "metadata": {
  "kernelspec": {
   "display_name": "Python 3",
   "language": "python",
   "name": "python3"
  },
  "language_info": {
   "codemirror_mode": {
    "name": "ipython",
    "version": 3
   },
   "file_extension": ".py",
   "mimetype": "text/x-python",
   "name": "python",
   "nbconvert_exporter": "python",
   "pygments_lexer": "ipython3",
   "version": "3.8.3"
  }
 },
 "nbformat": 4,
 "nbformat_minor": 4
}
