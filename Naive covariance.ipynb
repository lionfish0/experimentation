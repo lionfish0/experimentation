{
 "cells": [
  {
   "cell_type": "code",
   "execution_count": 34,
   "metadata": {
    "collapsed": false
   },
   "outputs": [
    {
     "name": "stdout",
     "output_type": "stream",
     "text": [
      "The eigen values are:\n",
      "[  2.30315188e+01   1.55254592e+00   1.16108850e+00   1.11994388e+00\n",
      "   1.02922490e+00   8.71807877e-01   6.54379590e-01   5.89026454e-01\n",
      "   5.14503395e-01   4.86342234e-01  -4.87185921e-01   3.90944406e-01\n",
      "   3.16370017e-01  -3.71747260e-01  -3.44707249e-01   2.48753594e-01\n",
      "  -2.79988870e-01   1.64935790e-01  -2.38789163e-01  -2.05859328e-01\n",
      "   1.21606539e-01  -1.27714554e-01   5.86657376e-02  -9.63372009e-02\n",
      "  -7.80903990e-02  -5.46247675e-02   1.24368525e-02  -2.28424374e-02\n",
      "  -4.13774914e-03  -1.20695662e-02]\n",
      "The smallest is\n",
      "-0.487185920768\n"
     ]
    }
   ],
   "source": [
    "import numpy as np\n",
    "import scipy.sparse\n",
    "\n",
    "def check_trig_inequality(g):\n",
    "    N = g.shape[0]\n",
    "    for i in range(N):\n",
    "        for j in range(N):\n",
    "            for k in range(N):\n",
    "                assert g[i,j]<=g[i,k]+g[k,j]\n",
    "N = 30\n",
    "d = np.random.rand(N,N)\n",
    "d += d.T #symmetry\n",
    "d = d - np.diag(np.diag(d)) #zeros on diag\n",
    "sd = scipy.sparse.csgraph.floyd_warshall(d)\n",
    "check_trig_inequality(sd) #check trig ineq.\n",
    "covmat = np.exp(-.5 * sd**2)\n",
    "evs = np.linalg.eigvals(covmat)\n",
    "print \"The eigen values are:\"\n",
    "print evs\n",
    "print \"The smallest is\"\n",
    "print np.min(evs)"
   ]
  }
 ],
 "metadata": {
  "kernelspec": {
   "display_name": "Python 2",
   "language": "python",
   "name": "python2"
  },
  "language_info": {
   "codemirror_mode": {
    "name": "ipython",
    "version": 2
   },
   "file_extension": ".py",
   "mimetype": "text/x-python",
   "name": "python",
   "nbconvert_exporter": "python",
   "pygments_lexer": "ipython2",
   "version": "2.7.12"
  }
 },
 "nbformat": 4,
 "nbformat_minor": 0
}
