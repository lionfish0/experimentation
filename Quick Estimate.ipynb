{
 "cells": [
  {
   "cell_type": "markdown",
   "metadata": {},
   "source": [
    "# GP Regression attempt"
   ]
  },
  {
   "cell_type": "markdown",
   "metadata": {},
   "source": [
    "Summary: Just multiply the number of people on day 3 by 2, to get an estimate of the number on day 10 :)\n",
    "\n",
    "Here we get the average for other days"
   ]
  },
  {
   "cell_type": "code",
   "execution_count": 67,
   "metadata": {},
   "outputs": [],
   "source": [
    "import glob\n",
    "import pandas as pd\n",
    "import numpy as np\n",
    "from datetime import datetime\n",
    "\n",
    "\n",
    "ratios = []\n",
    "days = range(15)\n",
    "for day in days:\n",
    "    Xs = []\n",
    "    ys = []\n",
    "    for fname in glob.glob('*.csv'):\n",
    "        data = pd.read_csv(fname)\n",
    "        datetime_object = datetime.strptime(data.date[0], '%d-%m-%Y')\n",
    "        (datetime.now() - datetime_object).days\n",
    "        X = np.r_[data[1:3].total.values,(datetime.now() - datetime_object).days]\n",
    "        y = data.total[day]\n",
    "\n",
    "        Xs.append(X)\n",
    "        ys.append(y)\n",
    "    Xs = np.array(Xs)\n",
    "    ys = np.array(ys)[:,None]\n",
    "    \n",
    "    keep = Xs[:,0]>30 #chuck out surveys with less than 30 people on day 2\n",
    "    ys = ys[keep,:]\n",
    "    Xs = Xs[keep,:]\n",
    "    #keep = Xs[:,2]<30 #chuck out surveys more than a month ago\n",
    "    #ys = ys[keep,:]\n",
    "    #Xs = Xs[keep,:]\n",
    "    ratios.append(ys[:,0]/Xs[:,1])\n",
    "    \n",
    "ratio = np.mean(ratios,1)\n",
    "ratiomin = np.min(ratios,1)\n",
    "ratiomax = np.max(ratios,1)"
   ]
  },
  {
   "cell_type": "code",
   "execution_count": 68,
   "metadata": {},
   "outputs": [
    {
     "data": {
      "text/plain": [
       "[<matplotlib.lines.Line2D at 0x7fca26766cf8>]"
      ]
     },
     "execution_count": 68,
     "metadata": {},
     "output_type": "execute_result"
    },
    {
     "data": {
      "image/png": "[encoded data removed]",
      "text/plain": [
       "<matplotlib.figure.Figure at 0x7fca260f2f28>"
      ]
     },
     "metadata": {},
     "output_type": "display_data"
    }
   ],
   "source": [
    "plt.plot(ratio)\n",
    "plt.plot(ratiomin)\n",
    "plt.plot(ratiomax)"
   ]
  },
  {
   "cell_type": "code",
   "execution_count": 69,
   "metadata": {},
   "outputs": [
    {
     "name": "stdout",
     "output_type": "stream",
     "text": [
      "I expect 89 people on day 10 (maybe between: 50 and 147)\n"
     ]
    }
   ],
   "source": [
    "day = 10 #day of interest\n",
    "day3 = 40 #number of people on day 3\n",
    "\n",
    "print(\"I expect %d people on day %d (maybe between: %d and %d)\" % (ratio[day]*day3, day, ratiomin[day]*day3, ratiomax[day]*day3))"
   ]
  },
  {
   "cell_type": "markdown",
   "metadata": {},
   "source": [
    "# You don't need anything below this point :)"
   ]
  },
  {
   "cell_type": "code",
   "execution_count": 66,
   "metadata": {},
   "outputs": [
    {
     "data": {
      "text/plain": [
       "(array([ 1.,  1.,  1.,  1.,  1.,  1.,  2.,  2.,  2.,  3.]),\n",
       " array([ 0.50732598,  0.72129206,  0.93525813,  1.14922421,  1.36319029,\n",
       "         1.57715637,  1.79112244,  2.00508852,  2.2190546 ,  2.43302068,\n",
       "         2.64698675]),\n",
       " <a list of 10 Patch objects>)"
      ]
     },
     "execution_count": 66,
     "metadata": {},
     "output_type": "execute_result"
    },
    {
     "data": {
      "image/png": "[encoded data removed]",
      "text/plain": [
       "<matplotlib.figure.Figure at 0x7fca261d0780>"
      ]
     },
     "metadata": {},
     "output_type": "display_data"
    }
   ],
   "source": [
    "plt.hist(ratio,10)"
   ]
  },
  {
   "cell_type": "markdown",
   "metadata": {},
   "source": [
    "Almost no data is here...\n",
    "in particular there's only 2-3 with more than 500 responses..."
   ]
  },
  {
   "cell_type": "markdown",
   "metadata": {},
   "source": [
    "# Clever stuff using Gaussian Processes!"
   ]
  },
  {
   "cell_type": "code",
   "execution_count": 6,
   "metadata": {},
   "outputs": [
    {
     "name": "stderr",
     "output_type": "stream",
     "text": [
      " /home/mike/anaconda3/lib/python3.6/site-packages/paramz/transformations.py:109: RuntimeWarning:overflow encountered in expm1\n",
      " /home/mike/GPy/GPy/kern/src/stationary.py:158: RuntimeWarning:overflow encountered in true_divide\n",
      " /home/mike/GPy/GPy/kern/src/stationary.py:130: RuntimeWarning:invalid value encountered in add\n"
     ]
    },
    {
     "data": {
      "text/plain": [
       "<paramz.optimization.optimization.opt_lbfgsb at 0x7fca625bcd30>"
      ]
     },
     "execution_count": 6,
     "metadata": {},
     "output_type": "execute_result"
    }
   ],
   "source": [
    "import GPy\n",
    "k = GPy.kern.RBF(3,ARD=True)\n",
    "m = GPy.models.GPRegression(Xs[0:-1,:],ys[0:-1,:],k)\n",
    "m.rbf.lengthscale = 1000.0\n",
    "m.Gaussian_noise = 100.0\n",
    "m.optimize()\n"
   ]
  },
  {
   "cell_type": "code",
   "execution_count": 7,
   "metadata": {},
   "outputs": [
    {
     "data": {
      "text/html": [
       "<style type=\"text/css\">\n",
       ".tg  {padding:2px 3px;word-break:normal;border-collapse:collapse;border-spacing:0;border-color:#DCDCDC;margin:0px auto;width:100%;}\n",
       ".tg td{font-family:\"Courier New\", Courier, monospace !important;font-weight:bold;color:#444;background-color:#F7FDFA;border-style:solid;border-width:1px;overflow:hidden;word-break:normal;border-color:#DCDCDC;}\n",
       ".tg th{font-family:\"Courier New\", Courier, monospace !important;font-weight:normal;color:#fff;background-color:#26ADE4;border-style:solid;border-width:1px;overflow:hidden;word-break:normal;border-color:#DCDCDC;}\n",
       ".tg .tg-left{font-family:\"Courier New\", Courier, monospace !important;font-weight:normal;text-align:left;}\n",
       ".tg .tg-right{font-family:\"Courier New\", Courier, monospace !important;font-weight:normal;text-align:right;}\n",
       "</style>\n",
       "<table class=\"tg\">\n",
       "\n",
       "<tr>\n",
       "  <th><b>index</b></th>\n",
       "  <th><b>GP_regression.rbf.lengthscale</b></th>\n",
       "  <th><b>constraints</b></th><th><b>priors</b></th>\n",
       "</tr>\n",
       "<tr><td class=tg-left>  [0]  </td><td class=tg-right>                 985.59244545</td><td class=tg-left>    +ve    </td><td class=tg-left>      </td></tr>\n",
       "<tr><td class=tg-left>  [1]  </td><td class=tg-right>              503000.49908762</td><td class=tg-left>    +ve    </td><td class=tg-left>      </td></tr>\n",
       "<tr><td class=tg-left>  [2]  </td><td class=tg-right>                9488.95224899</td><td class=tg-left>    +ve    </td><td class=tg-left>      </td></tr>"
      ],
      "text/plain": [
       "\u001b[1mGP_regression.rbf.lengthscale\u001b[0;0m:\n",
       "Param([    985.59244545,  503000.49908762,    9488.95224899])"
      ]
     },
     "execution_count": 7,
     "metadata": {},
     "output_type": "execute_result"
    }
   ],
   "source": [
    "m.rbf.lengthscale"
   ]
  },
  {
   "cell_type": "code",
   "execution_count": 8,
   "metadata": {},
   "outputs": [
    {
     "data": {
      "text/plain": [
       "array([[398, 489,  49]])"
      ]
     },
     "execution_count": 8,
     "metadata": {},
     "output_type": "execute_result"
    }
   ],
   "source": [
    "Xs[-1:,:]"
   ]
  },
  {
   "cell_type": "code",
   "execution_count": 9,
   "metadata": {},
   "outputs": [
    {
     "name": "stdout",
     "output_type": "stream",
     "text": [
      "In 10 days I would expect 1314 (between 949 and 1679 people, 95% CI)\n",
      "Actual: 1804\n"
     ]
    }
   ],
   "source": [
    "pred,var = m.predict_noiseless(Xs[-1:,:])\n",
    "#noiseless prediction a bit dubious. but I think people will be upset by large uncertainty otherwise...\n",
    "print(\"In 10 days I would expect %0.0f (between %0.0f and %0.0f people, 95%% CI)\" % (pred, pred-np.sqrt(var)*1.96,pred+np.sqrt(var)*1.96,))\n",
    "print(\"Actual: %d\" % ys[-1:,:])"
   ]
  },
  {
   "cell_type": "markdown",
   "metadata": {},
   "source": [
    "New attempt, using all data.\n",
    "We assume we've had 20 & 30 people on days 2 and 3... how many on day 10 (in 7 days)?"
   ]
  },
  {
   "cell_type": "code",
   "execution_count": null,
   "metadata": {},
   "outputs": [],
   "source": [
    "\n",
    "k = GPy.kern.RBF(3,ARD=True)\n",
    "m = GPy.models.GPRegression(Xs,ys,k)\n",
    "m.rbf.lengthscale = 100.0\n",
    "m.Gaussian_noise = 10.0\n",
    "m.optimize()"
   ]
  },
  {
   "cell_type": "code",
   "execution_count": null,
   "metadata": {},
   "outputs": [],
   "source": [
    "newX = np.array([[20,30,-7]]) #-7 = 7 days into future.\n",
    "pred,var = m.predict_noiseless(newX) #warning: shouldn't be using noiseless...\n",
    "print(\"In 10 days I would expect %0.0f (between %0.0f and %0.0f people, 95%% CI)\" % (pred, pred-np.sqrt(var)*1.96,pred+np.sqrt(var)*1.96,))\n",
    "print(\"Actual: don't know\")"
   ]
  },
  {
   "cell_type": "code",
   "execution_count": 20,
   "metadata": {},
   "outputs": [
    {
     "data": {
      "text/plain": [
       "100"
      ]
     },
     "execution_count": 20,
     "metadata": {},
     "output_type": "execute_result"
    }
   ],
   "source": [
    "50*2"
   ]
  }
 ],
 "metadata": {
  "kernelspec": {
   "display_name": "Python 3",
   "language": "python",
   "name": "python3"
  },
  "language_info": {
   "codemirror_mode": {
    "name": "ipython",
    "version": 3
   },
   "file_extension": ".py",
   "mimetype": "text/x-python",
   "name": "python",
   "nbconvert_exporter": "python",
   "pygments_lexer": "ipython3",
   "version": "3.6.1"
  }
 },
 "nbformat": 4,
 "nbformat_minor": 2
}
