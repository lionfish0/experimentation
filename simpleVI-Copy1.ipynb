{
 "cells": [
  {
   "cell_type": "code",
   "execution_count": 74,
   "metadata": {},
   "outputs": [],
   "source": [
    "from scipy.special import erf\n",
    "import numpy as np\n",
    "import matplotlib.pyplot as plt\n",
    "%matplotlib inline\n",
    "def pdistskew(x):\n",
    "    alpha=10.0\n",
    "    return (1/np.sqrt(np.pi) * np.exp(-x**2))*(1+erf(alpha*x/np.sqrt(2)))\n",
    "\n",
    "def pdist(x):\n",
    "    return (.2/np.sqrt(2*np.pi)) * np.exp((-(x+3)**2)/2) + (.8/np.sqrt(2*np.pi)) * np.exp((-(x-3)**2)/2)\n",
    "\n",
    "def gradlogq(x,mu,l):\n",
    "    return (x-mu)/(l**2), (x-mu)**2/(l**3)\n",
    "\n",
    "def logq(x,mu,l):\n",
    "    return np.log((1/np.sqrt(2*np.pi*l**2)))-(x-mu)**2/(l**2*2)\n",
    "\n",
    "def q(x,mu,l):\n",
    "    return (1/np.sqrt(2*np.pi*l**2))*np.exp((-(x-mu)**2)/(l**2*2))\n",
    "\n",
    "def qsample(mu,l,n=1):\n",
    "    return np.random.randn(n)*l+mu\n",
    "\n"
   ]
  },
  {
   "cell_type": "code",
   "execution_count": 79,
   "metadata": {},
   "outputs": [
    {
     "name": "stdout",
     "output_type": "stream",
     "text": [
      "2.00, -2.800, -9.31, 9.534, 0.03433\n",
      "0.96, -1.363, -5.02, 6.005, 0.31004\n",
      "0.46, -0.698, -2.43, 4.267, 0.56929\n",
      "0.28, -0.350, -1.25, 3.422, 0.73471\n",
      "0.22, -0.116, -0.66, 2.980, 0.83413\n",
      "0.20, 0.082, -0.39, 2.729, 0.89090\n",
      "0.19, 0.271, -0.24, 2.578, 0.91567\n",
      "0.20, 0.462, -0.20, 2.472, 0.92047\n",
      "0.20, 0.662, -0.15, 2.387, 0.90945\n",
      "0.22, 0.874, -0.15, 2.310, 0.88654\n",
      "0.24, 1.103, -0.19, 2.222, 0.85522\n",
      "0.27, 1.357, -0.25, 2.115, 0.81126\n",
      "0.31, 1.647, -0.34, 1.970, 0.74673\n",
      "0.37, 1.985, -0.48, 1.765, 0.63770\n",
      "0.38, 2.362, -0.58, 1.495, 0.45874\n",
      "0.27, 2.689, -0.50, 1.214, 0.28592\n",
      "0.12, 2.874, -0.26, 1.029, 0.22814\n",
      "0.05, 2.952, -0.12, 0.942, 0.22702\n",
      "0.02, 2.981, -0.05, 0.903, 0.23277\n",
      "0.01, 2.992, -0.02, 0.888, 0.23621\n",
      "0.00, 2.996, -0.01, 0.880, 0.23803\n",
      "0.00, 2.998, -0.01, 0.878, 0.23880\n",
      "-0.00, 2.998, -0.00, 0.876, 0.23918\n",
      "-0.00, 2.998, 0.00, 0.876, 0.23934\n",
      "-0.00, 2.998, 0.00, 0.875, 0.23941\n",
      "0.00, 2.998, -0.01, 0.876, 0.23932\n",
      "-0.00, 2.998, -0.00, 0.875, 0.23952\n",
      "0.00, 2.998, -0.01, 0.875, 0.23956\n",
      "0.00, 2.999, 0.00, 0.875, 0.23956\n",
      "0.00, 2.999, -0.00, 0.875, 0.23944\n",
      "0.00, 2.999, -0.00, 0.875, 0.23947\n",
      "0.00, 2.998, -0.00, 0.875, 0.23953\n",
      "0.00, 2.998, -0.00, 0.875, 0.23956\n",
      "-0.00, 2.998, -0.00, 0.875, 0.23949\n",
      "0.00, 2.998, 0.00, 0.875, 0.23942\n",
      "0.00, 2.999, 0.00, 0.875, 0.23955\n",
      "-0.00, 2.998, 0.00, 0.876, 0.23929\n",
      "0.00, 2.999, -0.00, 0.875, 0.23961\n",
      "0.00, 2.999, -0.00, 0.875, 0.23948\n",
      "-0.00, 2.998, 0.00, 0.875, 0.23943\n",
      "0.00, 2.999, 0.00, 0.875, 0.23959\n",
      "-0.00, 2.998, 0.00, 0.876, 0.23927\n",
      "-0.00, 2.998, 0.00, 0.875, 0.23953\n",
      "0.00, 2.999, -0.01, 0.875, 0.23957\n",
      "-0.00, 2.999, 0.01, 0.875, 0.23951\n",
      "0.00, 2.998, 0.00, 0.875, 0.23953\n",
      "-0.00, 2.998, 0.00, 0.875, 0.23945\n",
      "0.00, 2.998, 0.00, 0.875, 0.23941\n",
      "0.00, 2.998, 0.00, 0.876, 0.23915\n",
      "-0.00, 2.998, 0.00, 0.876, 0.23918\n"
     ]
    }
   ],
   "source": [
    "mu = -3\n",
    "l = 10\n",
    "\n",
    "x = np.linspace(-6,6,1000)\n",
    "for it in range(500):\n",
    "    sample = qsample(mu,l,100000)\n",
    "    grads = gradlogq(sample,mu,l)\n",
    "    #print(grads)\n",
    "    diff = (np.log(1e-100+pdist(sample)) - logq(sample,mu,l))\n",
    "    vals = grads[0] * diff\n",
    "    vals = vals[np.isfinite(vals)]\n",
    "    mudelta = np.mean(vals)\n",
    "    mu = mu + 0.1*mudelta\n",
    "    \n",
    "    vals = grads[1] * diff\n",
    "    vals = vals[np.isfinite(vals)]\n",
    "    ldelta = np.mean(vals)\n",
    "    #if np.abs(ldelta)>1: ldelta = np.sign(ldelta)\n",
    "    l = l + 0.05*ldelta    \n",
    "    if (l<1e-1): l=1e-1\n",
    "    \n",
    "    #print(mu)\n",
    "    t = (np.log(pdist(x))-np.log(q(x,mu,l)))\n",
    "    t = q(x,mu,l)*t\n",
    "    t = t[np.isfinite(t)]\n",
    "    if it%10==0:  print(\"%0.2f, %0.3f, %0.2f, %0.3f, %0.5f\" % (mudelta,mu,ldelta,l,-np.sum(t)*(x[1]-x[0])))\n",
    "    #temp.append([mu,-np.sum(t)])"
   ]
  },
  {
   "cell_type": "code",
   "execution_count": 80,
   "metadata": {},
   "outputs": [
    {
     "data": {
      "text/plain": [
       "2.9982968595103574"
      ]
     },
     "execution_count": 80,
     "metadata": {},
     "output_type": "execute_result"
    }
   ],
   "source": [
    "mu"
   ]
  },
  {
   "cell_type": "code",
   "execution_count": 81,
   "metadata": {},
   "outputs": [
    {
     "data": {
      "text/plain": [
       "0.8759278748150661"
      ]
     },
     "execution_count": 81,
     "metadata": {},
     "output_type": "execute_result"
    }
   ],
   "source": [
    "l"
   ]
  },
  {
   "cell_type": "code",
   "execution_count": 82,
   "metadata": {},
   "outputs": [
    {
     "data": {
      "text/plain": [
       "[<matplotlib.lines.Line2D at 0x7fcf876abc50>]"
      ]
     },
     "execution_count": 82,
     "metadata": {},
     "output_type": "execute_result"
    },
    {
     "data": {
      "image/png": "[encoded data removed]",
      "text/plain": [
       "<Figure size 432x288 with 1 Axes>"
      ]
     },
     "metadata": {},
     "output_type": "display_data"
    }
   ],
   "source": [
    "x = np.linspace(-6,6,1000)\n",
    "plt.plot(x,pdist(x))\n",
    "plt.plot(x,q(x,mu,l))"
   ]
  },
  {
   "cell_type": "code",
   "execution_count": null,
   "metadata": {},
   "outputs": [],
   "source": []
  },
  {
   "cell_type": "code",
   "execution_count": null,
   "metadata": {},
   "outputs": [],
   "source": []
  }
 ],
 "metadata": {
  "kernelspec": {
   "display_name": "Python 3",
   "language": "python",
   "name": "python3"
  },
  "language_info": {
   "codemirror_mode": {
    "name": "ipython",
    "version": 3
   },
   "file_extension": ".py",
   "mimetype": "text/x-python",
   "name": "python",
   "nbconvert_exporter": "python",
   "pygments_lexer": "ipython3",
   "version": "3.6.9"
  }
 },
 "nbformat": 4,
 "nbformat_minor": 2
}
