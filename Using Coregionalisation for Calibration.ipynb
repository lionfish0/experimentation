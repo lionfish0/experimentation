{
 "cells": [
  {
   "cell_type": "markdown",
   "metadata": {},
   "source": [
    "# Using Coregionalisation for Calibration\n",
    "\n",
    "**Example** We have three sensors, a static reference sensor (#0) a mobile sensor (#1) and another low-cost static sensor (#2). Can we use the results from the mobile sensor to allow us to make predictions at #2 in the output-space of sensor #0?\n",
    "\n",
    "Questions and Ideas:\n",
    "\n",
    "- Is there anything to be gained from this labourious calibration method?\n",
    "- We can however colocate sensors (e.g. #0 and #2) and compute a coregionalisation matrix (which will incorporate the uncertainty). Then use this for later use when sensor #2 is in place.\n",
    "- If in future other sensors are available, and we don't have access to the high-quality sensor, we can still find the coregionalisation between #2 and #3, and add to the coregionalisation matrix.\n",
    "\n",
    "\n",
    "## Demo\n",
    "\n",
    "Below we demonstrate the most simple case, as described in the example above. In this toy example there is no noise!"
   ]
  },
  {
   "cell_type": "code",
   "execution_count": 1,
   "metadata": {},
   "outputs": [],
   "source": [
    "import GPy\n",
    "import numpy as np\n",
    "import matplotlib.pyplot as plt\n",
    "%matplotlib inline"
   ]
  },
  {
   "cell_type": "code",
   "execution_count": 2,
   "metadata": {},
   "outputs": [
    {
     "name": "stderr",
     "output_type": "stream",
     "text": [
      " /home/mike/anaconda3/lib/python3.6/site-packages/GPy/kern/src/stationary.py:136: RuntimeWarning:overflow encountered in square\n",
      " /home/mike/anaconda3/lib/python3.6/site-packages/GPy/kern/src/stationary.py:137: RuntimeWarning:invalid value encountered in add\n",
      " /home/mike/anaconda3/lib/python3.6/site-packages/GPy/kern/src/rbf.py:46: RuntimeWarning:invalid value encountered in multiply\n"
     ]
    },
    {
     "data": {
      "text/plain": [
       "<paramz.optimization.optimization.opt_lbfgsb at 0x7faf02328588>"
      ]
     },
     "execution_count": 2,
     "metadata": {},
     "output_type": "execute_result"
    }
   ],
   "source": [
    "X = np.array([[0,0,0],[1,0,0],[2,0,0],[3,0,0],[4,0,0],[0,0,1],[1,0,1],[2,1,1],[3,1,1],[0,1,2],[1,1,2],[2,1,2],[3,1,2],[4,1,2]])\n",
    "Y = np.array([[2,4,6,4,2,1,2,4.5,6,1,2,3,4,5]]).T\n",
    "kern = GPy.kern.RBF(2,ARD=True)**GPy.kern.Coregionalize(input_dim=1,output_dim=3, rank=1)\n",
    "m = GPy.models.GPRegression(X,Y,kern)\n",
    "m.kern.rbf.variance.fix(1.0)\n",
    "m.optimize()"
   ]
  },
  {
   "cell_type": "markdown",
   "metadata": {},
   "source": [
    "The figure below shows the measurements taken. Five from each of the static units, and four from the mobile unit that moves between them."
   ]
  },
  {
   "cell_type": "code",
   "execution_count": 3,
   "metadata": {},
   "outputs": [
    {
     "data": {
      "text/plain": [
       "<matplotlib.legend.Legend at 0x7faec9fe8518>"
      ]
     },
     "execution_count": 3,
     "metadata": {},
     "output_type": "execute_result"
    },
    {
     "data": {
      "image/png": "[encoded data removed]",
      "text/plain": [
       "<matplotlib.figure.Figure at 0x7faecc0cffd0>"
      ]
     },
     "metadata": {},
     "output_type": "display_data"
    }
   ],
   "source": [
    "markers = ['xb','.r','og']\n",
    "labels = ['Static Reference','Mobile','Static Low-cost']\n",
    "for i in range(3):\n",
    "    plt.plot(X[X[:,2]==i,0]+i/10,X[X[:,2]==i,1],markers[i],label=labels[i])\n",
    "for x,y in zip(X,Y):\n",
    "    plt.text(x[0]+x[2]/3-.3,x[1]*0.85+0.05,\"%0.1f\" % y[0])\n",
    "plt.legend()"
   ]
  },
  {
   "cell_type": "markdown",
   "metadata": {},
   "source": [
    "The mobile unit appears to estimate 0.5x the static reference (see along bottom of figure).\n",
    "The low-cost sensor appears to estimate 0.67x the mobile sensor.\n",
    "\n",
    "So if we measure 5 at the low-cost sensor, what would the reference sensor have measured?\n",
    "\n",
    "Naively we can say that the mobile sensor is 1.5x the low-cost sensor (so 5x1.5=7.5) and then we can say the reference sensor is 2x this. So we would expect this point to have a static sensor value of 15:"
   ]
  },
  {
   "cell_type": "code",
   "execution_count": 4,
   "metadata": {},
   "outputs": [
    {
     "data": {
      "text/plain": [
       "(array([[ 15.00000002]]), array([[  1.05629169e-07]]))"
      ]
     },
     "execution_count": 4,
     "metadata": {},
     "output_type": "execute_result"
    }
   ],
   "source": [
    "m.predict(np.array([[4,1,0]]))"
   ]
  },
  {
   "cell_type": "markdown",
   "metadata": {},
   "source": [
    "This is about 15!\n",
    "\n",
    "We can look at the coregionalisation matrix (dividing by the coregionalisation 'variance' for the low-cost sensor), to check the above:"
   ]
  },
  {
   "cell_type": "code",
   "execution_count": 5,
   "metadata": {},
   "outputs": [
    {
     "data": {
      "text/plain": [
       "array([[ 8.99999997,  4.49999997,  2.99999999],\n",
       "       [ 4.49999997,  2.24999998,  1.49999999],\n",
       "       [ 2.99999999,  1.49999999,  1.        ]])"
      ]
     },
     "execution_count": 5,
     "metadata": {},
     "output_type": "execute_result"
    }
   ],
   "source": [
    "m.kern.coregion.B/m.kern.coregion.B[2,2]"
   ]
  },
  {
   "cell_type": "markdown",
   "metadata": {},
   "source": [
    "The coregionalisation matrix element [1,2] is about 1.5 (actually 1.456), and if we divide element [2,3] by element [2,2] we get about 2 (actually 2.096). Thus this does as above."
   ]
  },
  {
   "cell_type": "markdown",
   "metadata": {},
   "source": [
    "There is no room for noise here, the fit assumes that sensor #2 is exactly twice #1, etc:"
   ]
  },
  {
   "cell_type": "code",
   "execution_count": 6,
   "metadata": {},
   "outputs": [
    {
     "data": {
      "text/plain": [
       "array([[ 1.,  1.,  1.],\n",
       "       [ 1.,  1.,  1.],\n",
       "       [ 1.,  1.,  1.]])"
      ]
     },
     "execution_count": 6,
     "metadata": {},
     "output_type": "execute_result"
    }
   ],
   "source": [
    "(m.kern.coregion.B/np.sqrt(np.diag(m.kern.coregion.B))).T/np.sqrt(np.diag(m.kern.coregion.B))"
   ]
  },
  {
   "cell_type": "markdown",
   "metadata": {},
   "source": [
    "# Repeat of the above, with noise"
   ]
  },
  {
   "cell_type": "code",
   "execution_count": 7,
   "metadata": {},
   "outputs": [
    {
     "data": {
      "text/plain": [
       "array([ 0.4,  1.2,  1.2,  1.2])"
      ]
     },
     "execution_count": 7,
     "metadata": {},
     "output_type": "execute_result"
    }
   ],
   "source": [
    "sensor = np.array([1,2,2,2])\n",
    "sensoroffsets = np.array([1,0.4,1.2])\n",
    "sensoroffsets[sensor]"
   ]
  },
  {
   "cell_type": "code",
   "execution_count": 11,
   "metadata": {},
   "outputs": [],
   "source": [
    "def get_sim_sensor(time,loc,sensor):\n",
    "    sensoroffsets = np.array([0,60,10])\n",
    "    sensorbias = np.array([1.0,2.0,1.5])\n",
    "    sensorint = [int(x) for x in sensor]\n",
    "    return sensoroffsets[sensorint][:,None]+50+sensorbias[sensorint][:,None]*(10*np.sin(time)[:,None]+25*np.cos(loc)[:,None])+2*np.random.randn(len(loc),1)\n",
    "\n",
    "X = np.empty([0,3])\n",
    "Y = np.empty([0,1])\n",
    "for i in range(3):\n",
    "    time = np.arange(0,4,0.5)\n",
    "    loc = np.empty_like(time)\n",
    "    sensor = np.full_like(time,i)\n",
    "    if i==0:\n",
    "        loc[:]=0\n",
    "    if i==2:\n",
    "        loc[:]=1\n",
    "    if i==1:\n",
    "        loc[0:int(len(loc)/2)] = 0\n",
    "        loc[int(len(loc)/2):] = 1\n",
    "    Xsensor = np.c_[time,loc,sensor]\n",
    "    \n",
    "    Ysensor = get_sim_sensor(time,loc,sensor)\n",
    "    X = np.r_[X,Xsensor]\n",
    "    Y = np.r_[Y,Ysensor]"
   ]
  },
  {
   "cell_type": "code",
   "execution_count": 13,
   "metadata": {},
   "outputs": [
    {
     "data": {
      "text/plain": [
       "<paramz.optimization.optimization.opt_lbfgsb at 0x7faec9f402e8>"
      ]
     },
     "execution_count": 13,
     "metadata": {},
     "output_type": "execute_result"
    }
   ],
   "source": [
    "kern = GPy.kern.RBF(2,ARD=True)**GPy.kern.Coregionalize(input_dim=1,output_dim=3, rank=1)\n",
    "m = GPy.models.GPRegression(X,Y,kern)\n",
    "m.kern.rbf.variance.fix(1.0)\n",
    "m.optimize()"
   ]
  },
  {
   "cell_type": "code",
   "execution_count": 14,
   "metadata": {},
   "outputs": [
    {
     "data": {
      "text/plain": [
       "array([[   0.        ,    0.        ,    0.        ,   77.47555988],\n",
       "       [   0.5       ,    0.        ,    0.        ,   78.19801531],\n",
       "       [   1.        ,    0.        ,    0.        ,   85.29153017],\n",
       "       [   1.5       ,    0.        ,    0.        ,   81.11524611],\n",
       "       [   2.        ,    0.        ,    0.        ,   84.08960461],\n",
       "       [   2.5       ,    0.        ,    0.        ,   83.25646269],\n",
       "       [   3.        ,    0.        ,    0.        ,   75.07827052],\n",
       "       [   3.5       ,    0.        ,    0.        ,   73.49943698],\n",
       "       [   0.        ,    0.        ,    1.        ,  158.10426852],\n",
       "       [   0.5       ,    0.        ,    1.        ,  172.55167001],\n",
       "       [   1.        ,    0.        ,    1.        ,  175.32700616],\n",
       "       [   1.5       ,    0.        ,    1.        ,  176.45970291],\n",
       "       [   2.        ,    1.        ,    1.        ,  155.80933572],\n",
       "       [   2.5       ,    1.        ,    1.        ,  153.27715049],\n",
       "       [   3.        ,    1.        ,    1.        ,  143.61363011],\n",
       "       [   3.5       ,    1.        ,    1.        ,  130.78069273],\n",
       "       [   0.        ,    1.        ,    2.        ,   81.1975857 ],\n",
       "       [   0.5       ,    1.        ,    2.        ,   88.2176764 ],\n",
       "       [   1.        ,    1.        ,    2.        ,   92.7464139 ],\n",
       "       [   1.5       ,    1.        ,    2.        ,   96.98475995],\n",
       "       [   2.        ,    1.        ,    2.        ,   94.17871605],\n",
       "       [   2.5       ,    1.        ,    2.        ,   87.84855234],\n",
       "       [   3.        ,    1.        ,    2.        ,   83.84583438],\n",
       "       [   3.5       ,    1.        ,    2.        ,   71.97610268]])"
      ]
     },
     "execution_count": 14,
     "metadata": {},
     "output_type": "execute_result"
    }
   ],
   "source": [
    "np.c_[X,Y]"
   ]
  },
  {
   "cell_type": "code",
   "execution_count": 15,
   "metadata": {},
   "outputs": [
    {
     "data": {
      "text/plain": [
       "array([[ 57.79040578]])"
      ]
     },
     "execution_count": 15,
     "metadata": {},
     "output_type": "execute_result"
    }
   ],
   "source": [
    "get_sim_sensor(np.array([3.5]),np.array([1]),np.array([0]))"
   ]
  },
  {
   "cell_type": "code",
   "execution_count": 16,
   "metadata": {},
   "outputs": [
    {
     "data": {
      "text/plain": [
       "(array([[ 62.04301782]]), array([[ 5.85807576]]))"
      ]
     },
     "execution_count": 16,
     "metadata": {},
     "output_type": "execute_result"
    }
   ],
   "source": [
    "m.predict(np.array([[3.5,1,0]]))"
   ]
  }
 ],
 "metadata": {
  "kernelspec": {
   "display_name": "Python 3",
   "language": "python",
   "name": "python3"
  },
  "language_info": {
   "codemirror_mode": {
    "name": "ipython",
    "version": 3
   },
   "file_extension": ".py",
   "mimetype": "text/x-python",
   "name": "python",
   "nbconvert_exporter": "python",
   "pygments_lexer": "ipython3",
   "version": "3.6.3"
  }
 },
 "nbformat": 4,
 "nbformat_minor": 2
}
