{
 "cells": [
  {
   "cell_type": "code",
   "execution_count": 121,
   "metadata": {},
   "outputs": [],
   "source": [
    "#Import Modules\n",
    "\n",
    "#numpy\n",
    "import numpy as np\n",
    "from numpy.random import multivariate_normal #For later example\n",
    "\n",
    "import pandas as pd\n",
    "\n",
    "#advectionGP\n",
    "from advectionGP.models import AdjointAdvectionDiffusionReactionModel as Model #Model module builds basic parts of the PDE problem, combines other classes into full model\n",
    "from advectionGP.sensors import FixedSensorModel #Builds sensor arrays to generate data for foward model or to generate observations for comparison\n",
    "from advectionGP.kernels import EQ #Generates exponentiated quadratic kernel approximation\n",
    "from advectionGP.test import TestKernels #Unit test model\n",
    "from advectionGP.wind import WindFixU #Wind model\n",
    "\n",
    "#Plotting tools\n",
    "from mpl_toolkits.mplot3d import Axes3D \n",
    "import matplotlib.pyplot as plt\n",
    "from matplotlib import cm\n",
    "from matplotlib.ticker import LinearLocator, FormatStrFormatter\n",
    "\n",
    "\n",
    "# generate sensor locations for training data with shape [total observations, 4], where each row has elements \n",
    "#[lower time location, upper time location, x location, y location]\n",
    "\n",
    "tlocL = np.linspace(6,8,6) # lower time\n",
    "xloc=np.linspace(6,8,8) # x locations\n",
    "yloc=np.linspace(6,8,8) # y locations\n",
    "sensN = len(xloc)*len(yloc) # total number of sensors \n",
    "obsN = len(tlocL) # total time points at which an observation is taken\n",
    "X= np.zeros((obsN*sensN,4)) # obsN*sensN is total observations over all sensors and all times\n",
    "# Build sensor locations\n",
    "X[:,0] = np.asarray(np.meshgrid(tlocL,xloc,yloc)).reshape(3,sensN*obsN)[0] #lower time\n",
    "X[:,2] = np.asarray(np.meshgrid(tlocL,xloc,yloc)).reshape(3,sensN*obsN)[1] # x location\n",
    "X[:,3] = np.asarray(np.meshgrid(tlocL,xloc,yloc)).reshape(3,sensN*obsN)[2] # ylocation\n",
    "X[:,1] = X[:,0]+0.1 # upper time\n",
    "\n",
    "sensors = FixedSensorModel(X,0.1) # establish sensor model arguments are sensor locations and spatial averaging\n",
    "\n",
    "# generate sensor locations for test data with shape [total observations, 4], where each row has elements \n",
    "#[lower time location, upper time location, x location, y location]\n",
    "\n",
    "tlocL = np.linspace(6,9,5) # lower time\n",
    "xloc=np.linspace(6.5,7.5,4) # x locations\n",
    "yloc=np.linspace(6.5,7.5,4) # y locations\n",
    "sensN = len(xloc)*len(yloc) # total number of sensors \n",
    "obsN = len(tlocL) # total time points at which an observation is taken\n",
    "Xtest= np.zeros((obsN*sensN,4)) # obsN*sensN is total observations over all sensors and all times\n",
    "# Build sensor locations\n",
    "Xtest[:,0] = np.asarray(np.meshgrid(tlocL,xloc,yloc)).reshape(3,sensN*obsN)[0] \n",
    "Xtest[:,2] = np.asarray(np.meshgrid(tlocL,xloc,yloc)).reshape(3,sensN*obsN)[1]\n",
    "Xtest[:,3] = np.asarray(np.meshgrid(tlocL,xloc,yloc)).reshape(3,sensN*obsN)[2]\n",
    "Xtest[:,1] = Xtest[:,0]+1\n",
    "\n",
    "sensorsTest = FixedSensorModel(Xtest,1) # establish sensor model"
   ]
  },
  {
   "cell_type": "code",
   "execution_count": 122,
   "metadata": {},
   "outputs": [
    {
     "data": {
      "text/plain": [
       "array([6.        , 6.1       , 6.        , 6.28571429])"
      ]
     },
     "execution_count": 122,
     "metadata": {},
     "output_type": "execute_result"
    }
   ],
   "source": [
    "X[1,:]"
   ]
  },
  {
   "cell_type": "code",
   "execution_count": 413,
   "metadata": {},
   "outputs": [
    {
     "name": "stdout",
     "output_type": "stream",
     "text": [
      "0.0\n",
      "6.3608385755943235\n"
     ]
    }
   ],
   "source": [
    "# Run forward model to generate concentration\n",
    "#u = [0.05,0.] #Advection\n",
    "\n",
    "\n",
    "k_0 = 0.02 #Diffusion\n",
    "R=0.1\n",
    "noiseSD = 0.05 #Observation noise\n",
    "N_feat=2000 # number of features used to approximate ground truth GP\n",
    "boundary = ([5,5,5],[10,10,10])# corners of the grid - in units of space\n",
    "k = EQ(0.2, 2.0) # generate EQ kernel arguments are lengthscale and variance\n",
    "res = [200,60,60] # grid size for time, x and y\n",
    "wind=np.cos(np.linspace(0,6*np.pi,res[1]))*0.05\n",
    "u=[]\n",
    "u.append(0*np.ones(res)*wind) #x direction wind\n",
    "u.append(0*np.ones(res)*0.0) # y direction wind\n",
    "windmodel=WindFixU(u) # establish fixed wind model\n",
    "m = Model(resolution=res,boundary=boundary,N_feat=N_feat,noiseSD=noiseSD,kernel=k,sensormodel=sensors,windmodel=windmodel,k_0=k_0,R=R) #initiate PDE model to build concentration\n",
    "\n",
    "dt,dx,dy,dx2,dy2,Nt,Nx,Ny = m.getGridStepSize() # useful numbers!\n",
    "\n",
    "z=np.random.normal(0,1.0,N_feat) # Generate z to compute source\n",
    "source=(m.computeSourceFromPhi(z))+5# Compute source\n",
    "#source[source<0]=0\n",
    "\n",
    "#source = np.zeros(m.resolution)\n",
    "##source[0,int(Nx/2)-1,int(Ny/2)-1] = 10.0\n",
    "#source[:,15:25,15:25] = 5\n",
    "#source[:,2:7,2:7] = 25\n",
    "#source[:,7:12,15:20] = 25\n",
    "#source[:,18:28,10:20] = 25\n",
    "\n",
    "concTrain=m.computeConcentration(source) # Compute concentration - runs advection diffusion forward model\n",
    "yTrain= m.computeObservations() # Compute observations with noise uses m.sensormodel for observation locations\n",
    "concTrainNN=m.computeConcentration(source,enforce_nonnegative=True) # Compute concentration - runs advection diffusion forward model\n",
    "yTrainNN= m.computeObservations() # Compute observations with noise uses m.sensormodel for observation locations\n",
    "\n",
    "m.sensormodel=sensorsTest\n",
    "yTest= m.computeObservations()\n",
    "\n",
    "print(np.min(concTrain))\n",
    "print(np.min(yTest))"
   ]
  },
  {
   "cell_type": "code",
   "execution_count": 414,
   "metadata": {},
   "outputs": [],
   "source": [
    "N_feat = 10 #Number of features used to infer the source\n",
    "k = EQ(2, 2.0) \n",
    "mInfer = Model(resolution=res,boundary=boundary,N_feat=N_feat,noiseSD=noiseSD,kernel=k,sensormodel=sensors,windmodel=windmodel,k_0=k_0,R=R) #Initiate new model for inference\n",
    "#%timeit -n1 -r1 regress = mInfer.computeModelRegressors() # Compute regressor matrix"
   ]
  },
  {
   "cell_type": "code",
   "execution_count": 415,
   "metadata": {},
   "outputs": [],
   "source": [
    "from time import time"
   ]
  },
  {
   "cell_type": "code",
   "execution_count": 416,
   "metadata": {},
   "outputs": [
    {
     "name": "stdout",
     "output_type": "stream",
     "text": [
      "getHs (all)            166.4ms\n",
      "computeAdjoint (once)   54.4ms\n",
      "getHs & comp.Adjoints 19649.4ms\n",
      "getPhis                147.9ms\n",
      "getPhis and products  6030.2ms\n"
     ]
    }
   ],
   "source": [
    "\"\"\"\n",
    "Computes the regressor matrix X, using getHs from the sensor model and getPhi from the kernel.\n",
    "X here is used to infer the distribution of z (and hence the source).\n",
    "X is [features x observations]\n",
    "\"\"\"\n",
    "dt,dx,dy,dx2,dy2,Nt,Nx,Ny = mInfer.getGridStepSize()\n",
    "X = np.zeros([mInfer.N_feat,len(mInfer.sensormodel.obsLocs)])\n",
    "\n",
    "adjs = []\n",
    "st = time()\n",
    "for j,H in enumerate(mInfer.sensormodel.getHs(mInfer)):\n",
    "    pass\n",
    "print(\"getHs (all)           %6.1fms\" % (1e3*(time()-st)))\n",
    "\n",
    "st = time()\n",
    "mInfer.computeAdjoint(H)\n",
    "print(\"computeAdjoint (once) %6.1fms\" % (1e3*(time()-st)))\n",
    "\n",
    "\n",
    "st = time()\n",
    "#O(GN)\n",
    "for j,H in enumerate(mInfer.sensormodel.getHs(mInfer)):\n",
    "    adjs.append(mInfer.computeAdjoint(H))\n",
    "print(\"getHs & comp.Adjoints %6.1fms\" % (1e3*(time()-st)))\n",
    "\n",
    "st = time()\n",
    "for i,phi in enumerate(mInfer.kernel.getPhi(mInfer.coords)):\n",
    "    pass\n",
    "print(\"getPhis               %6.1fms\" % (1e3*(time()-st)))\n",
    "\n",
    "st = time()\n",
    "#O(GNF)\n",
    "for i,phi in enumerate(mInfer.kernel.getPhi(mInfer.coords)):\n",
    "    for j,adj in enumerate(adjs):\n",
    "        X[i,j] = np.sum((phi*adj))*dt*dx*dy\n",
    "        \n",
    "print(\"getPhis and products  %6.1fms\" % (1e3*(time()-st)))\n",
    "#phi * v, --> scale"
   ]
  },
  {
   "cell_type": "code",
   "execution_count": 417,
   "metadata": {},
   "outputs": [],
   "source": [
    "phis = np.array([p for p in mInfer.kernel.getPhi(mInfer.coords)])"
   ]
  },
  {
   "cell_type": "code",
   "execution_count": 418,
   "metadata": {},
   "outputs": [],
   "source": [
    "def getphival(kernel,i,coords):\n",
    "    c=1/(kernel.l2)\n",
    "    norm = 1./np.sqrt(kernel.N_feat)\n",
    "    return norm*np.sqrt(2*kernel.sigma2)*np.cos(c*(mInfer.kernel.W[i,:]@coords.T)+kernel.b[i])"
   ]
  },
  {
   "cell_type": "code",
   "execution_count": 441,
   "metadata": {},
   "outputs": [],
   "source": [
    "scale = Nsamps / mInfer.sensormodel.spatialAveraging**2 / np.pi\n",
    "newX= []\n",
    "for obsi in range(len(mInfer.sensormodel.obsLocs)):\n",
    "    locA = mInfer.sensormodel.obsLocs[obsi,[0,2,3]]\n",
    "    locB = mInfer.sensormodel.obsLocs[obsi,[1,2,3]]\n",
    "\n",
    "    Nsamps = 500\n",
    "    \n",
    "    particles = np.repeat(locA[None,:],Nsamps,0)\n",
    "    particles[:,0]+=np.random.rand(len(particles))*(locB[0]-locA[0])\n",
    "    #particles\n",
    "    #approx_ad = np.zeros_like(ad)\n",
    "    phiTimesAdj = np.zeros(len(phis))\n",
    "    NewphiTimesAdj = np.zeros(len(phis))\n",
    "    for nit in range(200):\n",
    "        particles[:,1:]+=np.random.randn(len(particles),2)*dt*np.pi*2*np.sqrt(mInfer.k_0) #plus wind\n",
    "        particles[:,0]-=dt\n",
    "        gridp = mInfer.getGridCoord(particles)    \n",
    "        keep = np.all((gridp>=0) & (gridp<np.array([Nt,Nx,Ny])),axis=1)\n",
    "        #for gp in gridp[keep,:]:\n",
    "        #    approx_ad[gp[0],gp[1],gp[2]]+=1\n",
    "        for i in range(N_feat):\n",
    "            NewphiTimesAdj[i] += np.sum(getphival(mInfer.kernel,i,particles[keep,:]))\n",
    "        #for i,phi in enumerate(phis):        \n",
    "        #    phiTimesAdj[i]+=np.sum(phi[gridp[keep,0],gridp[keep,1],gridp[keep,2]])\n",
    "        if not np.any(keep): break\n",
    "    newX.append(NewphiTimesAdj)\n",
    "newX = np.array(newX)/scale"
   ]
  },
  {
   "cell_type": "code",
   "execution_count": 448,
   "metadata": {},
   "outputs": [
    {
     "data": {
      "text/plain": [
       "<matplotlib.image.AxesImage at 0x7fed06721af0>"
      ]
     },
     "execution_count": 448,
     "metadata": {},
     "output_type": "execute_result"
    },
    {
     "data": {
      "image/png": "[encoded data removed]",
      "text/plain": [
       "<Figure size 432x288 with 1 Axes>"
      ]
     },
     "metadata": {
      "needs_background": "light"
     },
     "output_type": "display_data"
    }
   ],
   "source": [
    "plt.imshow(newX[:10,:])"
   ]
  },
  {
   "cell_type": "code",
   "execution_count": 450,
   "metadata": {},
   "outputs": [
    {
     "data": {
      "text/plain": [
       "<matplotlib.image.AxesImage at 0x7fed08f60490>"
      ]
     },
     "execution_count": 450,
     "metadata": {},
     "output_type": "execute_result"
    },
    {
     "data": {
      "image/png": "[encoded data removed]",
      "text/plain": [
       "<Figure size 432x288 with 1 Axes>"
      ]
     },
     "metadata": {
      "needs_background": "light"
     },
     "output_type": "display_data"
    }
   ],
   "source": [
    "plt.imshow(X.T[:10,:])"
   ]
  },
  {
   "cell_type": "code",
   "execution_count": 437,
   "metadata": {},
   "outputs": [
    {
     "name": "stdout",
     "output_type": "stream",
     "text": [
      "[-0.13207665  0.56705862 -0.62292856  0.63873101 -0.1104844   0.12413087\n",
      "  0.61506791  0.20458711  0.50588019 -0.2791748 ]\n"
     ]
    }
   ],
   "source": [
    "print(X[:,1])"
   ]
  },
  {
   "cell_type": "code",
   "execution_count": 436,
   "metadata": {},
   "outputs": [
    {
     "data": {
      "text/plain": [
       "<matplotlib.image.AxesImage at 0x7fed066e7850>"
      ]
     },
     "execution_count": 436,
     "metadata": {},
     "output_type": "execute_result"
    },
    {
     "data": {
      "image/png": "[encoded data removed]",
      "text/plain": [
       "<Figure size 432x288 with 1 Axes>"
      ]
     },
     "metadata": {
      "needs_background": "light"
     },
     "output_type": "display_data"
    }
   ],
   "source": [
    "plt.imshow(approx_ad[1,:,:])"
   ]
  },
  {
   "cell_type": "code",
   "execution_count": 428,
   "metadata": {},
   "outputs": [
    {
     "data": {
      "text/plain": [
       "<matplotlib.colorbar.Colorbar at 0x7fed0a5964c0>"
      ]
     },
     "execution_count": 428,
     "metadata": {},
     "output_type": "execute_result"
    },
    {
     "data": {
      "image/png": "[encoded data removed]",
      "text/plain": [
       "<Figure size 432x288 with 2 Axes>"
      ]
     },
     "metadata": {
      "needs_background": "light"
     },
     "output_type": "display_data"
    }
   ],
   "source": [
    "it = mInfer.sensormodel.getHs(mInfer)\n",
    "next(it)\n",
    "H = next(it)\n",
    "\n",
    "ad = mInfer.computeAdjoint(H)\n",
    "plt.imshow(ad[1,:,:])\n",
    "plt.colorbar()"
   ]
  },
  {
   "cell_type": "code",
   "execution_count": 429,
   "metadata": {},
   "outputs": [
    {
     "data": {
      "text/plain": [
       "(5000.0, 136.04721975014556)"
      ]
     },
     "execution_count": 429,
     "metadata": {},
     "output_type": "execute_result"
    }
   ],
   "source": [
    "np.sum(approx_ad[1,:,:]),np.sum(ad[1,:,:])"
   ]
  },
  {
   "cell_type": "code",
   "execution_count": 393,
   "metadata": {},
   "outputs": [
    {
     "data": {
      "text/plain": [
       "500.0"
      ]
     },
     "execution_count": 393,
     "metadata": {},
     "output_type": "execute_result"
    }
   ],
   "source": []
  },
  {
   "cell_type": "markdown",
   "metadata": {},
   "source": [
    "```\n",
    "Nfeat=1\n",
    "getHs (all)              9.9ms O(N)\n",
    "computeAdjoint (once)    9.7ms O(G)\n",
    "getHs & comp.Adjoints 3360.4ms aGN+bN\n",
    "getPhis                 84.3ms O(GF)\n",
    "getPhis and products  2818.3ms cGNF+dGF\n",
    "```"
   ]
  },
  {
   "cell_type": "code",
   "execution_count": 107,
   "metadata": {},
   "outputs": [],
   "source": [
    "#1.63ns * GNF"
   ]
  },
  {
   "cell_type": "markdown",
   "metadata": {},
   "source": [
    "Number of features, Number of observations"
   ]
  },
  {
   "cell_type": "code",
   "execution_count": 108,
   "metadata": {},
   "outputs": [
    {
     "data": {
      "text/plain": [
       "(200, 384)"
      ]
     },
     "execution_count": 108,
     "metadata": {},
     "output_type": "execute_result"
    }
   ],
   "source": [
    "X.shape"
   ]
  },
  {
   "cell_type": "code",
   "execution_count": 109,
   "metadata": {},
   "outputs": [
    {
     "data": {
      "text/plain": [
       "45000"
      ]
     },
     "execution_count": 109,
     "metadata": {},
     "output_type": "execute_result"
    }
   ],
   "source": [
    "Nt*Nx*Ny"
   ]
  },
  {
   "cell_type": "markdown",
   "metadata": {},
   "source": [
    "So computeAdjoint takes 3.4s, the product still takes 2.8s"
   ]
  },
  {
   "cell_type": "code",
   "execution_count": 115,
   "metadata": {},
   "outputs": [
    {
     "data": {
      "text/plain": [
       "-1.06266672825184"
      ]
     },
     "execution_count": 115,
     "metadata": {},
     "output_type": "execute_result"
    }
   ],
   "source": [
    "np.sum((phi*adj))*dt*dx*dy"
   ]
  },
  {
   "cell_type": "code",
   "execution_count": 122,
   "metadata": {},
   "outputs": [
    {
     "data": {
      "text/plain": [
       "0.01"
      ]
     },
     "execution_count": 122,
     "metadata": {},
     "output_type": "execute_result"
    }
   ],
   "source": [
    "for it in range()\n",
    "mInfer.k_0"
   ]
  },
  {
   "cell_type": "code",
   "execution_count": null,
   "metadata": {},
   "outputs": [],
   "source": [
    "Parameters:\n",
    "    boundary = a two element tuple of the corners of the grid. e.g. ([0,0,0],[10,10,10])        \n",
    "    resolution = a list of the grid size in each dimension. e.g. [10,20,20]\n",
    "    kernel = the kernel to use\n",
    "    noiseSD = the noise standard deviation\n",
    "    sensormodel = an instatiation of a SensorModel class that implements the getHs method.\n",
    "    N_feat = number of fourier features\n",
    "    spatial_averaging = how big the volume the sensor measures (default 0.001).\n",
    "    u = wind speed\n",
    "    k_0 = diffusion constant\n",
    "    R = reaction constant"
   ]
  },
  {
   "cell_type": "code",
   "execution_count": null,
   "metadata": {},
   "outputs": [],
   "source": []
  },
  {
   "cell_type": "code",
   "execution_count": 120,
   "metadata": {},
   "outputs": [
    {
     "data": {
      "text/plain": [
       "<matplotlib.image.AxesImage at 0x7f372839a190>"
      ]
     },
     "execution_count": 120,
     "metadata": {},
     "output_type": "execute_result"
    },
    {
     "data": {
      "image/png": "[encoded data removed]",
      "text/plain": [
       "<Figure size 720x720 with 1 Axes>"
      ]
     },
     "metadata": {
      "needs_background": "light"
     },
     "output_type": "display_data"
    }
   ],
   "source": [
    "plt.figure(figsize=[10,10])\n",
    "phi = next(mInfer.kernel.getPhi(mInfer.coords))\n",
    "#plt.imshow(phi[25,:,:])\n",
    "plt.imshow(adj[25,:,:])"
   ]
  },
  {
   "cell_type": "code",
   "execution_count": null,
   "metadata": {},
   "outputs": [],
   "source": []
  }
 ],
 "metadata": {
  "kernelspec": {
   "display_name": "Python 3",
   "language": "python",
   "name": "python3"
  },
  "language_info": {
   "codemirror_mode": {
    "name": "ipython",
    "version": 3
   },
   "file_extension": ".py",
   "mimetype": "text/x-python",
   "name": "python",
   "nbconvert_exporter": "python",
   "pygments_lexer": "ipython3",
   "version": "3.8.3"
  }
 },
 "nbformat": 4,
 "nbformat_minor": 4
}
