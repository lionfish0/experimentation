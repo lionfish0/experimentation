{
 "cells": [
  {
   "cell_type": "markdown",
   "metadata": {},
   "source": [
    "We have two cameras, that haven taken non-synchronised photos.\n",
    "\n",
    "For each photo we get a vector from the camera that passes through the bee. \n",
    "\n",
    "Can we reconstruct the path of the bee (with obvious uncertainty).\n",
    "\n",
    "Here we assume the bee's latent (true) flight, follows a 3-output Gaussian process, with an EQ kernel. \n",
    "\n",
    "The likelihood is a Normal distribution over the distance of the point from the vector at that observation. (this is sort of backwards in some sense, P(data|model) vs P(model|data)... Might have to think about this.\n",
    "\n",
    "At the stochastic VI step, we sample from a 3 dimensional Gaussian, so the dependencies between the three axes are represented in the samples."
   ]
  },
  {
   "cell_type": "code",
   "execution_count": 1,
   "metadata": {},
   "outputs": [],
   "source": [
    "import numpy as np\n",
    "np.set_printoptions(precision=3)\n",
    "import matplotlib.pyplot as plt\n",
    "%matplotlib inline\n",
    "import tensorflow as tf\n",
    "import tensorflow_probability as tfp\n",
    "from tensorflow_probability import distributions as tfd\n",
    "optimizer = tf.keras.optimizers.Adam(learning_rate=0.02)"
   ]
  },
  {
   "cell_type": "code",
   "execution_count": 29,
   "metadata": {},
   "outputs": [],
   "source": [
    "def K(X1,X2):\n",
    "    \"\"\"\n",
    "    Our kernel. An EQ kernel (ls=2, scale=10^2). The prior is UNCORRELATED between dimensions.\n",
    "    \"\"\"\n",
    "    cov = 100*np.exp(-np.sum(np.subtract(X1[:,None],X2[None,:])**2/(2*2.0**2),2))\n",
    "    axsel = tf.cast((X1[:,1][:,None]==X2[:,1][None,:]),dtype=tf.float32)\n",
    "    cov = cov * axsel\n",
    "    return cov"
   ]
  },
  {
   "cell_type": "code",
   "execution_count": 30,
   "metadata": {},
   "outputs": [],
   "source": [
    "def buildinputmatrix(min_time,max_time,size):\n",
    "    \"\"\"\n",
    "    Constructs a matrix of [3*size,2], where the first column is time and second is axis (x,y,z).\n",
    "    \"\"\"\n",
    "    A = []\n",
    "    for ax in range(3):\n",
    "        Aax = np.c_[np.linspace(min_time,max_time,size),np.full(size,ax)]\n",
    "        A.extend(Aax)\n",
    "    A = np.array(A)\n",
    "    A = tf.Variable(A,dtype=tf.float32)    \n",
    "    return A\n",
    "\n",
    "def buildoutputmatrix(X):\n",
    "    \"\"\"Builds synthetic dataset, based on input X. If X is [3*size,2] this will be [size,6].\n",
    "    The first three columns represent the camera location, the last three a (unit) vector pointing at the bee.\"\"\"\n",
    "    size = int(X.shape[0]/3)\n",
    "    cam =np.random.choice([True, False],size)\n",
    "    actual = tf.concat([tf.math.cos(X[:size,0:1]),tf.math.sin(X[:size,0:1]),X[:size,0:1]/4],axis=1)\n",
    "    camera = tf.where(cam[:,None] ,np.array([[2.0,0,0]],dtype=np.float32),np.array([[0.0,2,0]],dtype=np.float32))\n",
    "    vect = actual-camera\n",
    "    vect = vect/np.linalg.norm(vect,axis=1)[:,None]\n",
    "    return tf.concat([camera,vect],axis=1),actual\n"
   ]
  },
  {
   "cell_type": "code",
   "execution_count": 31,
   "metadata": {},
   "outputs": [],
   "source": [
    "#Build the inducing point locations:\n",
    "Z = buildinputmatrix(0,10,10)\n",
    "\n",
    "#Build the synthetic data:\n",
    "X = buildinputmatrix(0,10,30)\n",
    "y,actual = buildoutputmatrix(X)"
   ]
  },
  {
   "cell_type": "code",
   "execution_count": 102,
   "metadata": {},
   "outputs": [],
   "source": [
    "def cross(a,b):\n",
    "    \"\"\"\n",
    "    Compute cross product with batching. Currently only allows particular number of dimensions in the input...\n",
    "    a - [!,3] tensor\n",
    "    b - [*,!,3] tensor\n",
    "    e.g.\n",
    "    a.shape = [20,3]\n",
    "    b.shape = [15,20,3]\n",
    "    result.shape = [15,20,3]\n",
    "    TODO: Generalise for any compatible input batch shapes\n",
    "    \"\"\"\n",
    "    #print(a.shape,b.shape)\n",
    "    size = a.shape[0]\n",
    "    A = tf.Variable([[tf.zeros(size), -a[:,2], a[:,1]],[a[:,2], tf.zeros(size), -a[:,0]],[-a[:,1], a[:,0],tf.zeros(size)]])\n",
    "    A = tf.transpose(A,[2,0,1])\n",
    "    A = A[None,:,:,:]\n",
    "    b = b[:,:,:,None]\n",
    "    return (A@b)[:,:,:,0]"
   ]
  },
  {
   "cell_type": "code",
   "execution_count": 107,
   "metadata": {},
   "outputs": [
    {
     "name": "stdout",
     "output_type": "stream",
     "text": [
      "0 [2113161.]\n",
      "20 [129293.22]\n",
      "40 [19321.186]\n",
      "60 [4940.953]\n",
      "80 [2670.439]\n",
      "100 [2463.912]\n",
      "120 [2298.968]\n",
      "140 [2210.61]\n",
      "160 [2200.377]\n",
      "180 [2087.767]\n",
      "200 [2078.531]\n",
      "220 [2022.839]\n",
      "240 [2035.984]\n",
      "260 [2032.934]\n",
      "280 [2009.863]\n"
     ]
    }
   ],
   "source": [
    "#number of inducing points.\n",
    "m = Z.shape[0]\n",
    "#create variables that describe q(u), the variational distribution.\n",
    "mu = tf.Variable(tf.random.normal([m]))\n",
    "scale = tf.Variable(tf.random.normal([m, m]))\n",
    "\n",
    "#parameters for p(u), the prior.\n",
    "mu_u = tf.zeros([1,m])\n",
    "cov_u = tf.Variable(K(Z,Z))\n",
    "pu = tfd.MultivariateNormalFullCovariance(mu_u,cov_u+np.eye(cov_u.shape[0])*0.01)\n",
    "\n",
    "#We don't optimise the hyperparameters, so precompute.\n",
    "invKzz = tf.linalg.inv(K(Z,Z)+np.eye(Z.shape[0],dtype=np.float32)*0.01)\n",
    "#TODO: Painfully unstable - will copy stable version from other VI code soon.!!\n",
    "\n",
    "size = int(X.shape[0]/3) #number of input points\n",
    "\n",
    "for it in range(300):\n",
    "    with tf.GradientTape() as tape:\n",
    "        \n",
    "        #the variational approximating distribution.\n",
    "        qu = tfd.MultivariateNormalTriL(mu,scale) \n",
    "        \n",
    "        #compute the approximation over our training point locations\n",
    "        #TODO only need some diagonals and off diagonal parts of qf_cov, so prob could be quicker!\n",
    "        qf_mu = K(X,Z) @ invKzz @ mu[:,None]\n",
    "        qf_cov = K(X,X) - K(X,Z) @ invKzz @ K(Z,X) + K(X,Z)@ invKzz @(scale@tf.transpose(scale))@ invKzz @ K(Z,X)\n",
    "        \n",
    "        \n",
    "        #this gets us the covariance and mean for the relevant parts of the predictions. Specifically\n",
    "        #a 3x3 covariance and a 3-element mean.\n",
    "        C = tf.transpose(tf.concat([qf_cov[i::size,i::size][:,:,None] for i in range(size)],axis=2),[2,0,1])\n",
    "        M = tf.transpose(tf.reshape(qf_mu,[3,size]),[1,0])\n",
    "        Nsamps = 500\n",
    "        \n",
    "        jitter = tf.eye(3)*1e-8\n",
    "        for jitteri in range(6):\n",
    "            try:\n",
    "                #we sample from the multivariate Gaussian our variational distribution,q, predicts for\n",
    "                #all of the observation locations in X.\n",
    "                samps = tfd.MultivariateNormalTriL(M,tf.linalg.cholesky(C+jitter)).sample(Nsamps)\n",
    "                break\n",
    "            except tf.errors.InvalidArgumentError:\n",
    "                jitter*=10\n",
    "            \n",
    "        #we compute the distance from each of the observed vectors to the samples and compute their\n",
    "        #log likelihoods assuming a normal distributed likelihood model over the distance from the\n",
    "        #vector.\n",
    "        d = tf.norm(cross(y[:,3:],samps-y[:,:3]),axis=2)/tf.norm(y[:,3:],axis=1)\n",
    "        logprobs = tfd.Normal(0,0.02).log_prob(d)\n",
    "        ell = tf.reduce_mean(tf.reduce_sum(logprobs,1))\n",
    "        \n",
    "        #we compute the ELBO = - (expected log likelihood of the data - KL[prior, variational_distribution]).\n",
    "        elbo_loss = -( ell - tfd.kl_divergence(qu,pu) )\n",
    "    #compute gradients and optimise...\n",
    "    gradients = tape.gradient(elbo_loss, [mu, scale])\n",
    "    optimizer.apply_gradients(zip(gradients, [mu, scale]))\n",
    "    if it%20 == 0: print(it,elbo_loss.numpy())"
   ]
  },
  {
   "cell_type": "code",
   "execution_count": 108,
   "metadata": {},
   "outputs": [],
   "source": [
    "#compute the predictions for some test points in Xtest.\n",
    "Xtest = buildinputmatrix(0,10,500)\n",
    "qf_mu = K(Xtest,Z) @ invKzz @ mu[:,None]\n",
    "#need to solve in a numerically stable manner.\n",
    "qf_cov = K(Xtest,Xtest) - K(Xtest,Z) @ invKzz @ K(Z,Xtest) + K(Xtest,Z)@ invKzz @(scale@tf.transpose(scale))@ invKzz @ K(Z,Xtest)"
   ]
  },
  {
   "cell_type": "markdown",
   "metadata": {},
   "source": [
    "Here are the posterior MEANS and true (dashed and of same colour) path."
   ]
  },
  {
   "cell_type": "code",
   "execution_count": 113,
   "metadata": {},
   "outputs": [
    {
     "data": {
      "text/plain": [
       "Text(0.5, 0, 'Time')"
      ]
     },
     "execution_count": 113,
     "metadata": {},
     "output_type": "execute_result"
    },
    {
     "data": {
      "image/png": "[encoded data removed]",
      "text/plain": [
       "<Figure size 432x288 with 1 Axes>"
      ]
     },
     "metadata": {
      "needs_background": "light"
     },
     "output_type": "display_data"
    }
   ],
   "source": [
    "lab = ['x','y','z']\n",
    "lt = ['r','g','b']\n",
    "testsize = int(Xtest.shape[0]/3)\n",
    "for i in range(3):\n",
    "    plt.plot(Xtest.numpy()[:testsize,0],qf_mu[(i*testsize):((i+1)*testsize),0],lt[i],label=lab[i])\n",
    "    plt.plot(X.numpy()[:size,0],actual.numpy()[:,i],'--.'+lt[i],alpha=0.3)\n",
    "plt.legend()\n",
    "plt.xlabel('Time')"
   ]
  },
  {
   "cell_type": "markdown",
   "metadata": {},
   "source": [
    "To properly visualise the uncertainty, we sample from the posterior and plot them in 3d."
   ]
  },
  {
   "cell_type": "code",
   "execution_count": 114,
   "metadata": {},
   "outputs": [],
   "source": [
    "C = tf.transpose(tf.concat([qf_cov[i::testsize,i::testsize][:,:,None] for i in range(testsize)],axis=2),[2,0,1])\n",
    "M = tf.transpose(tf.reshape(qf_mu,[3,testsize]),[1,0])\n",
    "Nsamps = 100\n",
    "jitter = tf.eye(3)*1e-2\n",
    "samps = tfd.MultivariateNormalFullCovariance(M,(C+jitter)/10).sample(Nsamps)"
   ]
  },
  {
   "cell_type": "code",
   "execution_count": 116,
   "metadata": {},
   "outputs": [],
   "source": [
    "import ipyvolume as ipv"
   ]
  },
  {
   "cell_type": "code",
   "execution_count": 117,
   "metadata": {},
   "outputs": [
    {
     "data": {
      "application/vnd.jupyter.widget-view+json": {
       "model_id": "5f477f7eac6249aa8f5a18b82ec4ac7d",
       "version_major": 2,
       "version_minor": 0
      },
      "text/plain": [
       "VBox(children=(Figure(camera=PerspectiveCamera(fov=46.0, position=(0.0, 0.0, 2.0), projectionMatrix=(1.0, 0.0,…"
      ]
     },
     "metadata": {},
     "output_type": "display_data"
    }
   ],
   "source": [
    "ipv.clear()\n",
    "def plot(mat):\n",
    "    ipv.plot(mat[...,0],mat[...,1],mat[...,2],color='green')\n",
    "def scatter(mat):\n",
    "    ipv.scatter(mat[...,0],mat[...,1],mat[...,2],size=1,marker='sphere',color='black')\n",
    "def plotlines(start,end):\n",
    "    for s,e in zip(start,end):\n",
    "        ipv.plot([s[0],e[0]],[s[1],e[1]],[s[2],e[2]])\n",
    "#plot(samps[0,:,:].numpy())\n",
    "for i in range(20):\n",
    "    scatter(samps[i,:400,:])\n",
    "#plot(np.mean(samps,0))\n",
    "#plot(tf.transpose(samps,[1,0,2]).numpy())\n",
    "plotlines(y[:,:3].numpy(),(y[:,:3]+y[:,3:]*3).numpy())\n",
    "plot(actual)\n",
    "box = 2\n",
    "ipv.xlim(-box,box)\n",
    "ipv.ylim(-box,box)\n",
    "ipv.zlim(0,box)\n",
    "ipv.show()"
   ]
  }
 ],
 "metadata": {
  "kernelspec": {
   "display_name": "Python 3",
   "language": "python",
   "name": "python3"
  },
  "language_info": {
   "codemirror_mode": {
    "name": "ipython",
    "version": 3
   },
   "file_extension": ".py",
   "mimetype": "text/x-python",
   "name": "python",
   "nbconvert_exporter": "python",
   "pygments_lexer": "ipython3",
   "version": "3.8.3"
  }
 },
 "nbformat": 4,
 "nbformat_minor": 2
}
