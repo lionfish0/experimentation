{
 "cells": [
  {
   "cell_type": "code",
   "execution_count": 145,
   "metadata": {},
   "outputs": [],
   "source": [
    "import scipy.optimize\n",
    "import numpy as np\n",
    "\n",
    "#example 2d data.\n",
    "y = np.zeros([10,10])\n",
    "for x0 in range(10):\n",
    "    for x1 in range(10):\n",
    "        y[x0,x1] = 5*np.exp(-(((x0-5)**2 +(x1-5.3)**2))/4)\n",
    "y+=np.random.randn(10,10)*0.4\n",
    "y[y<0]=0"
   ]
  },
  {
   "cell_type": "code",
   "execution_count": 146,
   "metadata": {},
   "outputs": [
    {
     "data": {
      "text/plain": [
       "72.36279776322974"
      ]
     },
     "execution_count": 146,
     "metadata": {},
     "output_type": "execute_result"
    }
   ],
   "source": [
    "np.sum(y)"
   ]
  },
  {
   "cell_type": "code",
   "execution_count": 147,
   "metadata": {},
   "outputs": [
    {
     "data": {
      "text/plain": [
       "<matplotlib.image.AxesImage at 0x7f7495167ca0>"
      ]
     },
     "execution_count": 147,
     "metadata": {},
     "output_type": "execute_result"
    },
    {
     "data": {
      "image/png": "[encoded data removed]",
      "text/plain": [
       "<Figure size 432x288 with 1 Axes>"
      ]
     },
     "metadata": {
      "needs_background": "light"
     },
     "output_type": "display_data"
    }
   ],
   "source": [
    "import matplotlib.pyplot as plt\n",
    "%matplotlib inline\n",
    "plt.imshow(y)"
   ]
  },
  {
   "cell_type": "code",
   "execution_count": 148,
   "metadata": {},
   "outputs": [
    {
     "data": {
      "text/plain": [
       "(10, 10)"
      ]
     },
     "execution_count": 148,
     "metadata": {},
     "output_type": "execute_result"
    }
   ],
   "source": [
    "xv, yv = np.meshgrid(np.linspace(0, 9, 10), np.linspace(0, 9, 10))\n",
    "xv.shape #,sparse=True)"
   ]
  },
  {
   "cell_type": "code",
   "execution_count": 149,
   "metadata": {},
   "outputs": [],
   "source": [
    "x = np.c_[xv.flatten(),yv.flatten()].T"
   ]
  },
  {
   "cell_type": "code",
   "execution_count": 150,
   "metadata": {},
   "outputs": [
    {
     "data": {
      "text/plain": [
       "array([[0., 1., 2., 3., 4., 5., 6., 7., 8., 9., 0., 1., 2., 3., 4., 5.,\n",
       "        6., 7., 8., 9., 0., 1., 2., 3., 4., 5., 6., 7., 8., 9., 0., 1.,\n",
       "        2., 3., 4., 5., 6., 7., 8., 9., 0., 1., 2., 3., 4., 5., 6., 7.,\n",
       "        8., 9., 0., 1., 2., 3., 4., 5., 6., 7., 8., 9., 0., 1., 2., 3.,\n",
       "        4., 5., 6., 7., 8., 9., 0., 1., 2., 3., 4., 5., 6., 7., 8., 9.,\n",
       "        0., 1., 2., 3., 4., 5., 6., 7., 8., 9., 0., 1., 2., 3., 4., 5.,\n",
       "        6., 7., 8., 9.],\n",
       "       [0., 0., 0., 0., 0., 0., 0., 0., 0., 0., 1., 1., 1., 1., 1., 1.,\n",
       "        1., 1., 1., 1., 2., 2., 2., 2., 2., 2., 2., 2., 2., 2., 3., 3.,\n",
       "        3., 3., 3., 3., 3., 3., 3., 3., 4., 4., 4., 4., 4., 4., 4., 4.,\n",
       "        4., 4., 5., 5., 5., 5., 5., 5., 5., 5., 5., 5., 6., 6., 6., 6.,\n",
       "        6., 6., 6., 6., 6., 6., 7., 7., 7., 7., 7., 7., 7., 7., 7., 7.,\n",
       "        8., 8., 8., 8., 8., 8., 8., 8., 8., 8., 9., 9., 9., 9., 9., 9.,\n",
       "        9., 9., 9., 9.]])"
      ]
     },
     "execution_count": 150,
     "metadata": {},
     "output_type": "execute_result"
    }
   ],
   "source": [
    "x"
   ]
  },
  {
   "cell_type": "code",
   "execution_count": 151,
   "metadata": {},
   "outputs": [],
   "source": [
    "\n",
    "#our \"PSF\", 3 parameters\n",
    "def func(x, meanX,meanY, std, height):\n",
    "    #print(x, meanX,meanY, std, height)\n",
    "    return height*np.exp(-((x[0]-meanX)**2 + (x[1] - meanY)**2)/((std**2)*2))\n",
    "\n",
    "\n",
    "#we optimise on the 3 parameters to fit the data (probably fitting sum squared error - worth checking)\n",
    "guess, guessCov = scipy.optimize.curve_fit(func,x,y.flatten())"
   ]
  },
  {
   "cell_type": "code",
   "execution_count": 152,
   "metadata": {},
   "outputs": [
    {
     "data": {
      "text/plain": [
       "0.090024"
      ]
     },
     "execution_count": 152,
     "metadata": {},
     "output_type": "execute_result"
    }
   ],
   "source": [
    "0.33*0.044*6.2"
   ]
  },
  {
   "cell_type": "code",
   "execution_count": 153,
   "metadata": {},
   "outputs": [
    {
     "data": {
      "text/plain": [
       "array([[ 2.98282633e-03,  5.73244615e-10,  1.28535965e-06,\n",
       "        -3.83540215e-06],\n",
       "       [ 5.73244615e-10,  2.98242844e-03,  6.67315253e-07,\n",
       "        -2.00708497e-06],\n",
       "       [ 1.28535965e-06,  6.67315253e-07,  1.49403397e-03,\n",
       "        -4.96456139e-03],\n",
       "       [-3.83540215e-06, -2.00708497e-06, -4.96456139e-03,\n",
       "         3.29670068e-02]])"
      ]
     },
     "execution_count": 153,
     "metadata": {},
     "output_type": "execute_result"
    }
   ],
   "source": [
    "#the guess comes with a covariance (assumes Gaussian?)\n",
    "guessCov"
   ]
  },
  {
   "cell_type": "code",
   "execution_count": 154,
   "metadata": {},
   "outputs": [
    {
     "data": {
      "text/plain": [
       "array([5.28601636, 5.11418755, 1.472627  , 4.89464346])"
      ]
     },
     "execution_count": 154,
     "metadata": {},
     "output_type": "execute_result"
    }
   ],
   "source": [
    "#the parameters (mean, std, height), note that I should have maybe transformed the std\n",
    "#so it is non-negative.\n",
    "guess"
   ]
  },
  {
   "cell_type": "code",
   "execution_count": 155,
   "metadata": {},
   "outputs": [],
   "source": [
    "#we can sample from the guesses' distribution\n",
    "samps = np.random.multivariate_normal(guess,guessCov,100)"
   ]
  },
  {
   "cell_type": "code",
   "execution_count": 156,
   "metadata": {},
   "outputs": [
    {
     "data": {
      "text/plain": [
       "<matplotlib.collections.PathCollection at 0x7f74958f5f70>"
      ]
     },
     "execution_count": 156,
     "metadata": {},
     "output_type": "execute_result"
    },
    {
     "data": {
      "image/png": "[encoded data removed]",
      "text/plain": [
       "<Figure size 432x288 with 1 Axes>"
      ]
     },
     "metadata": {
      "needs_background": "light"
     },
     "output_type": "display_data"
    }
   ],
   "source": [
    "import matplotlib.pyplot as plt\n",
    "%matplotlib inline\n",
    "plt.imshow(y)\n",
    "\n",
    "plt.scatter(samps[:,0],samps[:,1],1,color='w')"
   ]
  },
  {
   "cell_type": "code",
   "execution_count": null,
   "metadata": {},
   "outputs": [],
   "source": []
  },
  {
   "cell_type": "code",
   "execution_count": 157,
   "metadata": {},
   "outputs": [
    {
     "data": {
      "text/plain": [
       "(array([ 4.,  2., 12., 13., 20., 22., 13., 10.,  2.,  2.]),\n",
       " array([32.4014513 , 34.35585839, 36.31026549, 38.26467258, 40.21907968,\n",
       "        42.17348677, 44.12789387, 46.08230096, 48.03670806, 49.99111515,\n",
       "        51.94552225]),\n",
       " <a list of 10 Patch objects>)"
      ]
     },
     "execution_count": 157,
     "metadata": {},
     "output_type": "execute_result"
    },
    {
     "data": {
      "image/png": "[encoded data removed]",
      "text/plain": [
       "<Figure size 432x288 with 1 Axes>"
      ]
     },
     "metadata": {
      "needs_background": "light"
     },
     "output_type": "display_data"
    }
   ],
   "source": [
    "plt.hist(samps[:,2]**samps[:,3]*2*np.pi)"
   ]
  },
  {
   "cell_type": "code",
   "execution_count": 7,
   "metadata": {},
   "outputs": [
    {
     "data": {
      "image/png": "[encoded data removed]",
      "text/plain": [
       "<Figure size 432x288 with 1 Axes>"
      ]
     },
     "metadata": {
      "needs_background": "light"
     },
     "output_type": "display_data"
    }
   ],
   "source": [
    "import matplotlib.pyplot as plt\n",
    "%matplotlib inline\n",
    "\n",
    "#each sample we plot the equivalent PSF for\n",
    "#Here I also sum up the area, but look up the analytical expression for\n",
    "#area of a Gaussian: we don't need to integrate numerically.\n",
    "plt.plot(X,y,'x')\n",
    "xtest = np.linspace(0,9,100)\n",
    "plt.plot(xtest,[func(x,guess[0],guess[1],guess[2]) for x in xtest],lw=2)\n",
    "a = []\n",
    "for s in samps:\n",
    "    plt.plot(xtest,[func(x,s[0],s[1],s[2]) for x in xtest],'-k',alpha=0.05)\n",
    "    a.append(np.sum([func(x,s[0],s[1],s[2]) for x in xtest])*(xtest[1]-xtest[0]))\n",
    "    #need really to do this analytically"
   ]
  },
  {
   "cell_type": "code",
   "execution_count": 8,
   "metadata": {},
   "outputs": [
    {
     "data": {
      "text/plain": [
       "(array([ 4.,  9., 18., 16., 19., 18.,  5.,  5.,  4.,  2.]),\n",
       " array([ 8.28142321,  8.68220762,  9.08299202,  9.48377642,  9.88456083,\n",
       "        10.28534523, 10.68612963, 11.08691404, 11.48769844, 11.88848284,\n",
       "        12.28926725]),\n",
       " <a list of 10 Patch objects>)"
      ]
     },
     "execution_count": 8,
     "metadata": {},
     "output_type": "execute_result"
    },
    {
     "data": {
      "image/png": "[encoded data removed]",
      "text/plain": [
       "<Figure size 432x288 with 1 Axes>"
      ]
     },
     "metadata": {
      "needs_background": "light"
     },
     "output_type": "display_data"
    }
   ],
   "source": [
    "#here's the distribution of possible areas from the samples.\n",
    "plt.hist(a)"
   ]
  },
  {
   "cell_type": "code",
   "execution_count": 9,
   "metadata": {},
   "outputs": [],
   "source": [
    "# integrate over to get area for each.\n",
    "\n",
    "#To do:\n",
    "# - repeat but for a 2d dataset (instead of a 1d one)\n",
    "# - for each channel\n",
    "# - find the volume under each (for each channel) [for lots of samples]\n",
    "# - use analytic solution to area\n",
    "# - plot the (say) 95% CI boundary on the RGB triangle for each\n",
    "# - compare to the expected modelled spectral\n",
    "# - introduce 'background' to the model - i.e. the PSF + a constant"
   ]
  },
  {
   "cell_type": "code",
   "execution_count": null,
   "metadata": {},
   "outputs": [],
   "source": []
  }
 ],
 "metadata": {
  "kernelspec": {
   "display_name": "Python 3",
   "language": "python",
   "name": "python3"
  },
  "language_info": {
   "codemirror_mode": {
    "name": "ipython",
    "version": 3
   },
   "file_extension": ".py",
   "mimetype": "text/x-python",
   "name": "python",
   "nbconvert_exporter": "python",
   "pygments_lexer": "ipython3",
   "version": "3.8.3"
  }
 },
 "nbformat": 4,
 "nbformat_minor": 4
}
