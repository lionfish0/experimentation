{
 "cells": [
  {
   "cell_type": "code",
   "execution_count": 1,
   "metadata": {},
   "outputs": [],
   "source": [
    "import numpy as np\n",
    "\n",
    "geostationary = 1000*35786 #m\n",
    "endheight = geostationary\n",
    "earthradius = 1000*(6371) #m\n",
    "startheight = earthradius + 2e6 #m \n",
    "#tensilestrength = 62000e6 #pascals (N/m^2) #carbon nano etc\n",
    "tensilestrength = 1.0*5800e6 #pascals (N/m^2) #zylon\n",
    "#density = 1.34*1000000/1000 #kg/m^3 #carbon nano etc\n",
    "density = 1.54*1000000/1000 #kg/m^3 #zylon\n",
    "g_at_surface = 9.81\n",
    "stepsize = 100 #metre\n",
    "cross_section = 1e-6 #starts 1mm^2 = 1e-6 m^2\n",
    "totalweight = 0\n",
    "#payload of 400kg\n",
    "totalforce = 400 * g_at_surface / (startheight/earthradius)**2\n",
    "for height in np.arange(startheight,endheight,stepsize):\n",
    "    g = g_at_surface / (height/earthradius)**2\n",
    "    \n",
    "    #as stuff is moving - we can scale g by the distance between earth and geostationary...\n",
    "    g = g * (1-(height/geostationary))\n",
    "    \n",
    "    #the weight of this chunk\n",
    "    weight = cross_section * stepsize * density #m^2 x m * (kg/m^3) = kg\n",
    "    \n",
    "    #the force that this chunk will require to be held\n",
    "    force = weight * g #kg * m/s^2 -> N\n",
    "    totalweight += weight #kg\n",
    "    totalforce += force #N\n",
    "    #compute new cross-section...\n",
    "    cross_section = totalforce/tensilestrength #N / (N/m^3) = m^3\n",
    "    #print(cross_section,totalforce)"
   ]
  },
  {
   "cell_type": "code",
   "execution_count": 6,
   "metadata": {},
   "outputs": [
    {
     "data": {
      "text/plain": [
       "35786.0"
      ]
     },
     "execution_count": 6,
     "metadata": {},
     "output_type": "execute_result"
    }
   ],
   "source": [
    "endheight/1000"
   ]
  },
  {
   "cell_type": "code",
   "execution_count": 4,
   "metadata": {},
   "outputs": [
    {
     "data": {
      "text/plain": [
       "27415.0"
      ]
     },
     "execution_count": 4,
     "metadata": {},
     "output_type": "execute_result"
    }
   ],
   "source": [
    "(endheight - startheight)/1000.0"
   ]
  },
  {
   "cell_type": "code",
   "execution_count": 14,
   "metadata": {},
   "outputs": [
    {
     "name": "stdout",
     "output_type": "stream",
     "text": [
      "13871605.1341\n"
     ]
    }
   ],
   "source": [
    "totalenergy = 0\n",
    "for height in np.arange(earthradius+110000,startheight):\n",
    "    g = g_at_surface / (height/earthradius)**2\n",
    "    totalenergy += g\n",
    "print(totalenergy)"
   ]
  },
  {
   "cell_type": "markdown",
   "metadata": {},
   "source": [
    "rocket equation thoughts..."
   ]
  },
  {
   "cell_type": "code",
   "execution_count": 15,
   "metadata": {},
   "outputs": [
    {
     "name": "stdout",
     "output_type": "stream",
     "text": [
      "For every kg lifted, need 2.22kg of fuel\n"
     ]
    }
   ],
   "source": [
    "equivalentdeltav = np.sqrt(2*totalenergy) #m/s equivalent of energy / kg\n",
    "# delta-v = v_e * ln(m0/mf)\n",
    "#so... what is m0?\n",
    "ve = 4500\n",
    "m0 = np.exp(equivalentdeltav/ve)\n",
    "print(\"For every kg lifted, need %0.2fkg of fuel\" % (m0-1))"
   ]
  },
  {
   "cell_type": "code",
   "execution_count": 16,
   "metadata": {},
   "outputs": [
    {
     "name": "stdout",
     "output_type": "stream",
     "text": [
      "cross section (mm^2)\n",
      "85.3528425086\n",
      "diameter (mm)\n",
      "10.4247161175\n",
      "total weight (tonnes)\n",
      "2099.88402036\n",
      "total number of flights\n",
      "149.99171574\n"
     ]
    }
   ],
   "source": [
    "print(\"cross section (mm^2)\")\n",
    "print(cross_section*1000000) #tether cross section mm^2\n",
    "print(\"diameter (mm)\")\n",
    "print(2*(((cross_section*1000000)/3.14159)**.5)) #tether diameter\n",
    "print(\"total weight (tonnes)\")\n",
    "print(totalweight/1e3) #tonnes\n",
    "print(\"total number of flights\")\n",
    "print(totalweight/1e3/14) #flights"
   ]
  },
  {
   "cell_type": "markdown",
   "metadata": {},
   "source": [
    "## With rotation\n",
    "\n",
    "\n",
    "Using Zylon, with a target payload of just 100kg to 1000km\n",
    "cross section: 0.68cm^2\n",
    "total weight: 1,604 tonnes (~114 launches)\n",
    "energy to 1000km = 8.4MJ\n",
    "\n",
    "If we can only really use 33% of Zylon's strength, the total weight goes crazy...1,160 Megatonnes!\n",
    "\n",
    "It's interesting how just a small reduction in the material strength assumption makes this fail really quickly.\n",
    "\n",
    "Using Zylon [100% of tensile strength], with a target payload of just 100kg to 2000km\n",
    "cross section: 15mm^2 (ie just 4mm across!)\n",
    "total weight: 353 tonnes (~25 launches)\n",
    "energy to 2000km = 15MJ\n",
    "\n",
    "I guess that I'm hoping people could make something about twice as strong as Zylon!\n",
    "\n",
    "\n",
    "\n",
    "## wrong: Without taking into account rotation!\n",
    "\n",
    "Using Kevlar\n",
    "\n",
    "Assuming we need to support 1000kg at end of tether...\n",
    "From the surface:\n",
    "cross section at top: 1998m^2\n",
    "total weight: 16,696,178 tonnes\n",
    "\n",
    "From 1000km up:\n",
    "cross section at top: 51m^2\n",
    "total weight: 430,369,230 tonnes\n",
    "(need 8.5MJ to get 1kg to 1000km)\n",
    "\n",
    "From 2000km up:\n",
    "cross section at top: 3.1m^2\n",
    "total weight: 25,707,602 tonnes\n",
    "(need 14MJ to get 1kg to 2000km)\n",
    "\n",
    "From 4000km up:\n",
    "cross section at top: 0.05m^2\n",
    "total weight: 437,405 tonnes\n",
    "(need 24MJ to get 1kg to 4000km)\n",
    "\n",
    "Support just 100kg at end of tether?\n",
    "cross section at top: 0.005m^2\n",
    "total weight: 44,306 tonnes\n",
    "(need 24MJ to get 1kg to 4000km)\n",
    "\n",
    "Delta IV payload (GTO) 14,000kg: so need 3164 launches... although I guess there'll be a point where it'll be better to start using the tether, rather than going all the way to orbit immediately.\n",
    "\n",
    "I just googled (not checked) and it looks like it takes 58MJ to get 1kg into geostationary orbit...\n",
    "\n",
    "Using Zylon, with a target payload of just 100kg to 2000km\n",
    "cross section: 0.00157 m^2\n",
    "total weight: 18,779 tonnes\n",
    "\n",
    "Using Zylon, with a target payload of just 100kg to 3000km\n",
    "cross section: 0.000327 m^2\n",
    "total weight: 3897 tonnes -> 278 launches\n",
    "launch energy: 20MJ\n",
    "\n",
    "\n"
   ]
  },
  {
   "cell_type": "code",
   "execution_count": 46,
   "metadata": {},
   "outputs": [
    {
     "name": "stdout",
     "output_type": "stream",
     "text": [
      "72.72199074074074\n",
      "2644.2439686481907\n"
     ]
    }
   ],
   "source": [
    "#tether speed...\n",
    "speed = ((startheight-earthradius)*2*3.14159/(24*3600))\n",
    "print(speed)\n",
    "print(.5*speed**2)"
   ]
  },
  {
   "cell_type": "code",
   "execution_count": 7,
   "metadata": {},
   "outputs": [
    {
     "name": "stdout",
     "output_type": "stream",
     "text": [
      "2.4525\n",
      "2.4548830082039896\n"
     ]
    }
   ],
   "source": [
    "#just checking our g calc!\n",
    "h = 6371*2\n",
    "g = 9.81 / (h/6371)**2\n",
    "print(g)\n",
    "m = 5.972e24\n",
    "G = 6.674e-11\n",
    "print(m*G/((h*1000)**2))"
   ]
  },
  {
   "cell_type": "code",
   "execution_count": null,
   "metadata": {
    "collapsed": true
   },
   "outputs": [],
   "source": []
  }
 ],
 "metadata": {
  "kernelspec": {
   "display_name": "Python 3",
   "language": "python",
   "name": "python3"
  },
  "language_info": {
   "codemirror_mode": {
    "name": "ipython",
    "version": 3
   },
   "file_extension": ".py",
   "mimetype": "text/x-python",
   "name": "python",
   "nbconvert_exporter": "python",
   "pygments_lexer": "ipython3",
   "version": "3.6.3"
  }
 },
 "nbformat": 4,
 "nbformat_minor": 2
}
