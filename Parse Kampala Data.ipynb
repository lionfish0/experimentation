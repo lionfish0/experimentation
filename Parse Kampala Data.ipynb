{
 "cells": [
  {
   "cell_type": "code",
   "execution_count": 2,
   "metadata": {},
   "outputs": [],
   "source": [
    "import pandas as pd\n",
    "import pickle\n",
    "from datetime import datetime,timedelta\n",
    "import matplotlib.pyplot as plt\n",
    "import download_airnow_web\n",
    "import pyproj\n",
    "%matplotlib inline\n",
    "import numpy as np\n",
    "from calibration.dataprocessing import plotsensorencounters,build_encounters,combinedatasets,loaddata,processBAMdata"
   ]
  },
  {
   "cell_type": "markdown",
   "metadata": {},
   "source": [
    "# Download and organise data\n",
    "\n",
    "The following code can take a while as it downloads data from servers and merges big dataframes. If you want to analyse the data and have already downloaded it - you might be best skipping straight to the analysis step below.\n",
    "\n",
    "This method takes a long time as it downloads data from GCP.\n",
    "Typically I comment it out and just use the local copy."
   ]
  },
  {
   "cell_type": "code",
   "execution_count": 4,
   "metadata": {
    "scrolled": true
   },
   "outputs": [
    {
     "name": "stdout",
     "output_type": "stream",
     "text": [
      "Found cache file containing data up to 2020-10-28\n",
      "Downloading more data to date 2020-11-02\n",
      "SQL query:\n",
      "SELECT * FROM `airqo-250220.thingspeak.clean_feeds_pms` WHERE (created_at >= DATETIME('2020-10-28')) AND (created_at < DATETIME('2020-11-02'))\n",
      "Query complete, converting to dataframe...\n",
      "done\n",
      "                created_at  channel_id  entry_id  pm2_5    pm10  s2_pm2_5  \\\n",
      "0      2020-10-28 04:35:25      930427    193825  95.28  103.70     99.37   \n",
      "1      2020-10-28 01:25:45      912222    190421  40.12   47.93     38.10   \n",
      "2      2020-10-28 01:12:12      912222    190411  31.68   35.40     32.03   \n",
      "3      2020-10-28 02:08:03      689749    454517  19.17   21.47     22.17   \n",
      "4      2020-10-28 03:54:56      930426    241839  46.93   56.00     46.97   \n",
      "...                    ...         ...       ...    ...     ...       ...   \n",
      "225036 2020-11-01 11:47:39      730014    516366  10.77   11.12      9.73   \n",
      "225037 2020-11-01 11:46:18      730014    516365   9.92    9.92     11.35   \n",
      "225038 2020-11-01 10:16:33      730014    516300   9.25    9.35     10.95   \n",
      "225039 2020-11-01 07:30:59      730014    516180   9.55   10.28      9.42   \n",
      "225040 2020-11-01 11:57:23      730014    516373  18.87   19.52     17.95   \n",
      "\n",
      "        s2_pm10  latitude  longitude  voltage  altitude  wind  no_sats  hdope  \\\n",
      "0        105.90  0.268970  32.588303     4.12    1195.5  0.23      NaN    NaN   \n",
      "1         46.02  0.323432  32.634712     4.14    1197.5  0.05      NaN    NaN   \n",
      "2         36.12  0.323495  32.634720     4.14    1195.2  0.05      NaN    NaN   \n",
      "3         24.12  1.715410  33.620167     4.15    1129.5  0.05      NaN    NaN   \n",
      "4         56.38  0.365435  32.646778     4.16    1184.5  0.04      NaN    NaN   \n",
      "...         ...       ...        ...      ...       ...   ...      ...    ...   \n",
      "225036     9.77  0.234408  32.553013     4.13    1200.4  0.02     12.0   80.0   \n",
      "225037    12.03  0.234405  32.553017     4.13    1202.9  0.05     12.0   80.0   \n",
      "225038    11.22  0.234431  32.553017     4.13    1198.9  0.04     12.0   82.0   \n",
      "225039    10.07  0.234407  32.553028     4.13    1201.4  0.09     12.0   79.0   \n",
      "225040    18.70  0.234410  32.553032     4.13    1204.3  0.01     12.0   77.0   \n",
      "\n",
      "        temperature  humidity  \n",
      "0               NaN       NaN  \n",
      "1               NaN       NaN  \n",
      "2               NaN       NaN  \n",
      "3               NaN       NaN  \n",
      "4               NaN       NaN  \n",
      "...             ...       ...  \n",
      "225036        255.0     255.0  \n",
      "225037        255.0     255.0  \n",
      "225038        255.0     255.0  \n",
      "225039        255.0     255.0  \n",
      "225040        255.0     255.0  \n",
      "\n",
      "[225041 rows x 16 columns]\n",
      "Concatenating with cached data...\n",
      "Dropping duplicates...\n",
      "Saving new cache\n"
     ]
    }
   ],
   "source": [
    "import pickle\n",
    "airqodf = loaddata(\"/home/mike/.gcp_keys/airqo-250220-e1dc140554a6.json\")\n",
    "#pickle.dump(airqodf,open('airqodf.p','wb'))\n",
    "#airqodf = pickle.load(open('airqodf.p','rb'))"
   ]
  },
  {
   "cell_type": "code",
   "execution_count": 11,
   "metadata": {},
   "outputs": [
    {
     "data": {
      "text/plain": [
       "0"
      ]
     },
     "execution_count": 11,
     "metadata": {},
     "output_type": "execute_result"
    }
   ],
   "source": [
    "np.sum(airqodf['channel_id']==930432)"
   ]
  },
  {
   "cell_type": "code",
   "execution_count": 5,
   "metadata": {},
   "outputs": [
    {
     "data": {
      "text/plain": [
       "Timestamp('2020-10-20 23:59:59')"
      ]
     },
     "execution_count": 5,
     "metadata": {},
     "output_type": "execute_result"
    }
   ],
   "source": [
    "np.max(airqodf['created_at'])"
   ]
  },
  {
   "cell_type": "markdown",
   "metadata": {},
   "source": [
    "Download latest embassy data, add its latitude, longitude, channel_id (-1) and add new columns renaming them to our conventions."
   ]
  },
  {
   "cell_type": "code",
   "execution_count": 3,
   "metadata": {},
   "outputs": [],
   "source": [
    "embassydf = download_airnow_web.download('Kampala')\n",
    "embassydf['pm2_5'] = embassydf['Raw Conc.']\n",
    "embassydf['created_at'] = embassydf['Date (LT)']\n",
    "embassydf['channel_id']=-1\n",
    "embassydf['latitude'] = 0.299333\n",
    "embassydf['longitude'] = 32.592539"
   ]
  },
  {
   "cell_type": "markdown",
   "metadata": {},
   "source": [
    "The BAM data has been copied from the google folder Joel set up. This method parses that data and converts to a dataframe."
   ]
  },
  {
   "cell_type": "code",
   "execution_count": 4,
   "metadata": {},
   "outputs": [
    {
     "name": "stdout",
     "output_type": "stream",
     "text": [
      "Device Ids: \n",
      "['Y24517' 'Y24516']\n"
     ]
    }
   ],
   "source": [
    "bamdf = processBAMdata('/home/mike/Documents/Research/air/BAM Data',{'Y24517':-24517,'Y24516':-24516})"
   ]
  },
  {
   "cell_type": "markdown",
   "metadata": {},
   "source": [
    "I found that I ran out of memory doing some of this, so I drop many of the columns from the GCP airqo database."
   ]
  },
  {
   "cell_type": "code",
   "execution_count": 5,
   "metadata": {},
   "outputs": [],
   "source": [
    "airqodf = airqodf.drop(['entry_id','pm10','voltage','s2_pm10','altitude','wind','no_sats','hdope'],axis=1)"
   ]
  },
  {
   "cell_type": "markdown",
   "metadata": {},
   "source": [
    "Here we move everything to UTC:\n",
    "- the AirQo data is already in UTC\n",
    "- the BAM and Embassy data are in local time, so they get converted.\n",
    "\n",
    "We then call our 'combinedatasets' method to merge the three sets together, and save them."
   ]
  },
  {
   "cell_type": "code",
   "execution_count": 6,
   "metadata": {},
   "outputs": [
    {
     "name": "stderr",
     "output_type": "stream",
     "text": [
      "/home/mike/anaconda3/lib/python3.8/site-packages/pyproj/crs/crs.py:53: FutureWarning: '+init=<authority>:<code>' syntax is deprecated. '<authority>:<code>' is the preferred initialization method. When making the change, be mindful of axis order changes: https://pyproj4.github.io/pyproj/stable/gotchas.html#axis-order-changes-in-proj-6\n",
      "  return _prepare_from_string(\" \".join(pjargs))\n",
      "/home/mike/anaconda3/lib/python3.8/site-packages/pyproj/crs/crs.py:294: FutureWarning: '+init=<authority>:<code>' syntax is deprecated. '<authority>:<code>' is the preferred initialization method. When making the change, be mindful of axis order changes: https://pyproj4.github.io/pyproj/stable/gotchas.html#axis-order-changes-in-proj-6\n",
      "  projstring = _prepare_from_string(\" \".join((projstring, projkwargs)))\n",
      "/home/mike/anaconda3/lib/python3.8/site-packages/pyproj/crs/crs.py:53: FutureWarning: '+init=<authority>:<code>' syntax is deprecated. '<authority>:<code>' is the preferred initialization method. When making the change, be mindful of axis order changes: https://pyproj4.github.io/pyproj/stable/gotchas.html#axis-order-changes-in-proj-6\n",
      "  return _prepare_from_string(\" \".join(pjargs))\n",
      "/home/mike/anaconda3/lib/python3.8/site-packages/pyproj/crs/crs.py:294: FutureWarning: '+init=<authority>:<code>' syntax is deprecated. '<authority>:<code>' is the preferred initialization method. When making the change, be mindful of axis order changes: https://pyproj4.github.io/pyproj/stable/gotchas.html#axis-order-changes-in-proj-6\n",
      "  projstring = _prepare_from_string(\" \".join((projstring, projkwargs)))\n",
      "/home/mike/anaconda3/lib/python3.8/site-packages/pyproj/crs/crs.py:53: FutureWarning: '+init=<authority>:<code>' syntax is deprecated. '<authority>:<code>' is the preferred initialization method. When making the change, be mindful of axis order changes: https://pyproj4.github.io/pyproj/stable/gotchas.html#axis-order-changes-in-proj-6\n",
      "  return _prepare_from_string(\" \".join(pjargs))\n",
      "/home/mike/anaconda3/lib/python3.8/site-packages/pyproj/crs/crs.py:294: FutureWarning: '+init=<authority>:<code>' syntax is deprecated. '<authority>:<code>' is the preferred initialization method. When making the change, be mindful of axis order changes: https://pyproj4.github.io/pyproj/stable/gotchas.html#axis-order-changes-in-proj-6\n",
      "  projstring = _prepare_from_string(\" \".join((projstring, projkwargs)))\n",
      "/home/mike/anaconda3/lib/python3.8/site-packages/pyproj/crs/crs.py:53: FutureWarning: '+init=<authority>:<code>' syntax is deprecated. '<authority>:<code>' is the preferred initialization method. When making the change, be mindful of axis order changes: https://pyproj4.github.io/pyproj/stable/gotchas.html#axis-order-changes-in-proj-6\n",
      "  return _prepare_from_string(\" \".join(pjargs))\n",
      "/home/mike/anaconda3/lib/python3.8/site-packages/pyproj/crs/crs.py:294: FutureWarning: '+init=<authority>:<code>' syntax is deprecated. '<authority>:<code>' is the preferred initialization method. When making the change, be mindful of axis order changes: https://pyproj4.github.io/pyproj/stable/gotchas.html#axis-order-changes-in-proj-6\n",
      "  projstring = _prepare_from_string(\" \".join((projstring, projkwargs)))\n"
     ]
    }
   ],
   "source": [
    "airqodf['created_at'] = airqodf['created_at'].dt.tz_localize('UTC')\n",
    "bamdf['created_at'] = pd.to_datetime(bamdf['Time'],format=\"%Y-%m-%d %H:%M:%S\").dt.tz_localize('Africa/Kampala').dt.tz_convert('UTC')\n",
    "embassydf['created_at'] = pd.to_datetime(embassydf['created_at'],format=\"%Y-%m-%d %I:%M %p\").dt.tz_localize('Africa/Kampala').dt.tz_convert('UTC')\n",
    "\n",
    "df = combinedatasets(airqodf,bamdf)\n",
    "df = combinedatasets(df,embassydf)\n",
    "pickle.dump(df,open('alldataprocessed.p','wb'))"
   ]
  },
  {
   "cell_type": "markdown",
   "metadata": {},
   "source": [
    "# Analysis\n",
    "\n",
    "The above processing and collecting of the data is quite time consuming, so to use a saved version we just can start here."
   ]
  },
  {
   "cell_type": "code",
   "execution_count": 7,
   "metadata": {},
   "outputs": [],
   "source": [
    "df = pickle.load(open('alldataprocessed.p','rb'))"
   ]
  },
  {
   "cell_type": "code",
   "execution_count": 8,
   "metadata": {},
   "outputs": [],
   "source": [
    "#just use recent data\n",
    "df = df[df['created_at']>pd.Timestamp('2020-07-15',tz='UTC')]"
   ]
  },
  {
   "cell_type": "markdown",
   "metadata": {},
   "source": [
    "Here we build the encounters dataframe, this records all the times two sensors are near each other.\n",
    "It can take a few minutes, so if you've already run it - skip to loading it on the next line."
   ]
  },
  {
   "cell_type": "code",
   "execution_count": 9,
   "metadata": {},
   "outputs": [],
   "source": [
    "#min(df['created_at']) + (max(df['created_at'])-min(df['created_at']))/2\n",
    "#2020-07-15 to 2020-10-22\n",
    "#2020-09-02 is the middle\n",
    "#df.loc[(df['created_at']>pd.Timestamp('2020-09-02',tz='UTC')) & (df['channel_id']==-1),'channel_id'] = -2\n",
    "\n",
    "td=(df['created_at']-pd.Timestamp('2020-07-15',tz='UTC'))\n",
    "simnoncalsensor = (td/pd.Timedelta(hours=1))%48<24\n",
    "df.loc[simnoncalsensor & (df['channel_id']==-1),'channel_id'] = -2\n",
    "pickle.dump(df,open('alldataprocessed_embassycopy.p','wb'))"
   ]
  },
  {
   "cell_type": "code",
   "execution_count": 10,
   "metadata": {},
   "outputs": [
    {
     "name": "stdout",
     "output_type": "stream",
     "text": [
      "1 of 49 (181 encounters recorded)\n",
      "2 of 49 (181 encounters recorded)\n",
      "3 of 49 (181 encounters recorded)\n",
      "4 of 49 (183 encounters recorded)\n",
      "5 of 49 (184 encounters recorded)\n",
      "6 of 49 (188 encounters recorded)\n",
      "7 of 49 (188 encounters recorded)\n",
      "8 of 49 (188 encounters recorded)\n",
      "9 of 49 (188 encounters recorded)\n",
      "10 of 49 (633 encounters recorded)\n",
      "11 of 49 (633 encounters recorded)\n",
      "12 of 49 (633 encounters recorded)\n",
      "13 of 49 (633 encounters recorded)\n",
      "14 of 49 (633 encounters recorded)\n",
      "15 of 49 (633 encounters recorded)\n",
      "16 of 49 (756 encounters recorded)\n",
      "17 of 49 (756 encounters recorded)\n",
      "18 of 49 (939 encounters recorded)\n",
      "19 of 49 (939 encounters recorded)\n",
      "20 of 49 (939 encounters recorded)\n",
      "21 of 49 (1100 encounters recorded)\n",
      "22 of 49 (1100 encounters recorded)\n",
      "23 of 49 (1454 encounters recorded)\n",
      "24 of 49 (1454 encounters recorded)\n",
      "25 of 49 (1454 encounters recorded)\n",
      "26 of 49 (1454 encounters recorded)\n",
      "27 of 49 (1687 encounters recorded)\n",
      "28 of 49 (1712 encounters recorded)\n",
      "29 of 49 (1712 encounters recorded)\n",
      "30 of 49 (1901 encounters recorded)\n",
      "31 of 49 (2055 encounters recorded)\n",
      "32 of 49 (2055 encounters recorded)\n",
      "33 of 49 (2056 encounters recorded)\n",
      "34 of 49 (24372 encounters recorded)\n",
      "35 of 49 (65016 encounters recorded)\n",
      "36 of 49 (65044 encounters recorded)\n",
      "37 of 49 (68508 encounters recorded)\n",
      "38 of 49 (69955 encounters recorded)\n",
      "39 of 49 (69955 encounters recorded)\n",
      "40 of 49 (74462 encounters recorded)\n",
      "41 of 49 (74568 encounters recorded)\n",
      "42 of 49 (104993 encounters recorded)\n",
      "43 of 49 (105008 encounters recorded)\n",
      "44 of 49 (105008 encounters recorded)\n",
      "45 of 49 (105008 encounters recorded)\n",
      "46 of 49 (105008 encounters recorded)\n",
      "47 of 49 (112075 encounters recorded)\n",
      "48 of 49 (113077 encounters recorded)\n",
      "49 of 49 (114046 encounters recorded)\n"
     ]
    }
   ],
   "source": [
    "encounters = build_encounters(df)\n",
    "pickle.dump(encounters,open('encounters_embassycopy.p','wb'))"
   ]
  }
 ],
 "metadata": {
  "kernelspec": {
   "display_name": "Python 3",
   "language": "python",
   "name": "python3"
  },
  "language_info": {
   "codemirror_mode": {
    "name": "ipython",
    "version": 3
   },
   "file_extension": ".py",
   "mimetype": "text/x-python",
   "name": "python",
   "nbconvert_exporter": "python",
   "pygments_lexer": "ipython3",
   "version": "3.8.3"
  }
 },
 "nbformat": 4,
 "nbformat_minor": 2
}
