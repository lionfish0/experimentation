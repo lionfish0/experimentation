{
 "cells": [
  {
   "cell_type": "code",
   "execution_count": 1,
   "metadata": {},
   "outputs": [],
   "source": [
    "import numpy as np\n",
    "import matplotlib.pyplot as plt\n",
    "%matplotlib inline\n",
    "\n",
    "def eBL(L,beta=1,s=5000):\n",
    "    \"\"\"\n",
    "    Return approximate matrix exponential of L\"\"\"\n",
    "    return np.linalg.matrix_power(np.eye(L.shape[0])+beta*L/s,s)\n",
    "\n",
    "def rbf(X1,X2,l=1.0):\n",
    "    \"\"\"RBF covariance between x1 and x2, lengthscale l\n",
    "    X1 and X2 are N1x1 and N2x1 matrices. Returns N1xN2 matrix of covariances\"\"\"\n",
    "    assert len(X1.shape)==2\n",
    "    assert len(X2.shape)==2\n",
    "    assert X1.shape[1]==1\n",
    "    assert X2.shape[1]==1\n",
    "    return np.exp(-(X1-X2.T)**2/(2*l**2))\n",
    "   \n",
    "def buildL(N,W):\n",
    "    L = []\n",
    "    for i,(n,w) in enumerate(zip(N,W)):\n",
    "        Lrow = np.zeros(len(N))\n",
    "        Lrow[n]=w\n",
    "        Lrow[i] = -np.sum(Lrow)\n",
    "        L.append(Lrow)\n",
    "    return np.array(L)\n",
    "\n",
    "def buildstraightlinenetwork(num=10,w=1):\n",
    "    N = [[1]]\n",
    "    W = [[w]]\n",
    "    for i in range(1,num-1):\n",
    "        N.append([i-1,i+1])\n",
    "        W.append([w,w])\n",
    "    N.append([num-2])\n",
    "    W.append([w])\n",
    "    return N,W"
   ]
  },
  {
   "cell_type": "code",
   "execution_count": 20,
   "metadata": {},
   "outputs": [
    {
     "data": {
      "image/png": "[encoded data removed]",
      "text/plain": [
       "<Figure size 432x288 with 1 Axes>"
      ]
     },
     "metadata": {},
     "output_type": "display_data"
    }
   ],
   "source": [
    "#network\n",
    "beta = 90\n",
    "N,W = buildstraightlinenetwork(160,1)\n",
    "L = buildL(N,W)\n",
    "step = 3\n",
    "ratio = 1/(step**2)\n",
    "Nsparse,Wsparse = buildstraightlinenetwork(int(160/step),ratio)\n",
    "Lsparse = buildL(Nsparse,Wsparse)\n",
    "X = np.arange(len(L))\n",
    "cov = eBL(L,beta=beta)\n",
    "plt.plot(X,cov[:,96],label=\"Network\")\n",
    "Xsparse = step*np.arange(len(Lsparse))\n",
    "covsparse = eBL(Lsparse,beta=beta)\n",
    "\n",
    "#I'M HAVING TO NORMALISE THIS... WHICH NEEDS THINKING ABOUT!\n",
    "#covsparse = covsparse*np.sum(cov[:,96])/np.sum(covsparse[:,int(96/step)])/step\n",
    "plt.plot(Xsparse,covsparse[:,int(96/step)]/step,'k-x',label=\"Sparse network\")\n",
    "plt.xlim([60,160])\n",
    "\n",
    "#From textbook we can see that the lengthscale is equivalent to sqrt(beta*2), see text around eq 1.3 and 1.4?\n",
    "rbfvals = rbf(np.array([[96]]),X[:,None],np.sqrt(beta*2))[0,:]\n",
    "rbfvals/=np.sum(rbfvals)\n",
    "plt.plot(X,rbfvals,'--',lw=5,label=\"RBF Kernel\")\n",
    "plt.legend()\n",
    "plt.ylabel('Covariance between x\\' and x=96')\n",
    "plt.xlabel('x\\'')\n",
    "plt.grid()"
   ]
  },
  {
   "cell_type": "code",
   "execution_count": 10,
   "metadata": {},
   "outputs": [
    {
     "data": {
      "text/plain": [
       "6.168101997427148"
      ]
     },
     "execution_count": 10,
     "metadata": {},
     "output_type": "execute_result"
    }
   ],
   "source": [
    "np.max(covsparse[:,int(96/step)])/np.max(cov[:,96])"
   ]
  },
  {
   "cell_type": "code",
   "execution_count": 12,
   "metadata": {},
   "outputs": [
    {
     "data": {
      "text/plain": [
       "array([[-1.,  1.,  0., ...,  0.,  0.,  0.],\n",
       "       [ 1., -2.,  1., ...,  0.,  0.,  0.],\n",
       "       [ 0.,  1., -2., ...,  0.,  0.,  0.],\n",
       "       ...,\n",
       "       [ 0.,  0.,  0., ..., -2.,  1.,  0.],\n",
       "       [ 0.,  0.,  0., ...,  1., -2.,  1.],\n",
       "       [ 0.,  0.,  0., ...,  0.,  1., -1.]])"
      ]
     },
     "execution_count": 12,
     "metadata": {},
     "output_type": "execute_result"
    }
   ],
   "source": [
    "L"
   ]
  },
  {
   "cell_type": "code",
   "execution_count": 21,
   "metadata": {},
   "outputs": [
    {
     "data": {
      "text/plain": [
       "array([1.78558849e-11, 4.97766761e-11, 1.65742926e-10, 5.46663044e-10,\n",
       "       1.75507329e-09, 5.47382105e-09, 1.65712422e-08, 4.86595593e-08,\n",
       "       1.38484439e-07, 3.81691842e-07, 1.01800807e-06, 2.62513247e-06,\n",
       "       6.53937186e-06, 1.57223316e-05, 3.64496886e-05, 8.14058582e-05,\n",
       "       1.74977234e-04, 3.61611191e-04, 7.17794104e-04, 1.36714269e-03,\n",
       "       2.49597062e-03, 4.36348101e-03, 7.29718511e-03, 1.16620688e-02,\n",
       "       1.77941285e-02, 2.58976788e-02, 3.59215667e-02, 4.74481119e-02,\n",
       "       5.96415455e-02, 7.12995315e-02, 8.10259692e-02, 8.75001843e-02,\n",
       "       8.97733979e-02, 8.75001843e-02, 8.10259692e-02, 7.12995315e-02,\n",
       "       5.96415455e-02, 4.74481119e-02, 3.59215667e-02, 2.58976788e-02,\n",
       "       1.77941285e-02, 1.16620688e-02, 7.29718516e-03, 4.36348117e-03,\n",
       "       2.49597116e-03, 1.36714445e-03, 7.17799578e-04, 3.61627762e-04,\n",
       "       1.75025893e-04, 8.15443426e-05, 3.68313805e-05, 1.67403397e-05,\n",
       "       9.16450433e-06])"
      ]
     },
     "execution_count": 21,
     "metadata": {},
     "output_type": "execute_result"
    }
   ],
   "source": [
    "covsparse[:,int(96/step)]"
   ]
  },
  {
   "cell_type": "code",
   "execution_count": 24,
   "metadata": {},
   "outputs": [
    {
     "data": {
      "text/plain": [
       "array([-0.11111111, -0.22222222, -0.22222222, -0.22222222, -0.22222222,\n",
       "       -0.22222222, -0.22222222, -0.22222222, -0.22222222, -0.22222222,\n",
       "       -0.22222222, -0.22222222, -0.22222222, -0.22222222, -0.22222222,\n",
       "       -0.22222222, -0.22222222, -0.22222222, -0.22222222, -0.22222222,\n",
       "       -0.22222222, -0.22222222, -0.22222222, -0.22222222, -0.22222222,\n",
       "       -0.22222222, -0.22222222, -0.22222222, -0.22222222, -0.22222222,\n",
       "       -0.22222222, -0.22222222, -0.22222222, -0.22222222, -0.22222222,\n",
       "       -0.22222222, -0.22222222, -0.22222222, -0.22222222, -0.22222222,\n",
       "       -0.22222222, -0.22222222, -0.22222222, -0.22222222, -0.22222222,\n",
       "       -0.22222222, -0.22222222, -0.22222222, -0.22222222, -0.22222222,\n",
       "       -0.22222222, -0.22222222, -0.11111111])"
      ]
     },
     "execution_count": 24,
     "metadata": {},
     "output_type": "execute_result"
    }
   ],
   "source": [
    "np.diag(Lsparse)"
   ]
  }
 ],
 "metadata": {
  "kernelspec": {
   "display_name": "Python 3",
   "language": "python",
   "name": "python3"
  },
  "language_info": {
   "codemirror_mode": {
    "name": "ipython",
    "version": 3
   },
   "file_extension": ".py",
   "mimetype": "text/x-python",
   "name": "python",
   "nbconvert_exporter": "python",
   "pygments_lexer": "ipython3",
   "version": "3.6.9"
  }
 },
 "nbformat": 4,
 "nbformat_minor": 2
}
