{
 "cells": [
  {
   "cell_type": "code",
   "execution_count": 382,
   "metadata": {},
   "outputs": [],
   "source": [
    "import numpy as np\n",
    "import matplotlib.pyplot as plt\n",
    "%matplotlib inline\n",
    "\n",
    "def eBL(L,beta=1,s=5000):\n",
    "    \"\"\"\n",
    "    Return approximate matrix exponential of L\"\"\"\n",
    "    return np.linalg.matrix_power(np.eye(L.shape[0])+beta*L/s,s)\n",
    "\n",
    "def rbf(X1,X2,l=1.0):\n",
    "    \"\"\"RBF covariance between x1 and x2, lengthscale l\n",
    "    X1 and X2 are N1x1 and N2x1 matrices. Returns N1xN2 matrix of covariances\"\"\"\n",
    "    assert len(X1.shape)==2\n",
    "    assert len(X2.shape)==2\n",
    "    assert X1.shape[1]==1\n",
    "    assert X2.shape[1]==1\n",
    "    return np.exp(-(X1-X2.T)**2/(2*l**2))\n",
    "   \n",
    "def buildL(N,W):\n",
    "    L = []\n",
    "    for i,(n,w) in enumerate(zip(N,W)):\n",
    "        Lrow = np.zeros(len(N))\n",
    "        Lrow[n]=w\n",
    "        Lrow[i] = -np.sum(Lrow)\n",
    "        L.append(Lrow)\n",
    "    return np.array(L)\n",
    "\n",
    "def buildstraightlinenetwork(num=10,w=1):\n",
    "    N = [[1]]\n",
    "    W = [[w]]\n",
    "    for i in range(1,num-1):\n",
    "        N.append([i-1,i+1])\n",
    "        W.append([w,w])\n",
    "    N.append([num-2])\n",
    "    W.append([w])\n",
    "    return N,W\n"
   ]
  },
  {
   "cell_type": "code",
   "execution_count": 386,
   "metadata": {},
   "outputs": [
    {
     "data": {
      "text/plain": [
       "array([[0.60653066]])"
      ]
     },
     "execution_count": 386,
     "metadata": {},
     "output_type": "execute_result"
    }
   ],
   "source": [
    "rbf(np.array([[0]]),np.array([[1]]))"
   ]
  },
  {
   "cell_type": "code",
   "execution_count": 402,
   "metadata": {},
   "outputs": [
    {
     "data": {
      "text/plain": [
       "7.745966692414834"
      ]
     },
     "execution_count": 402,
     "metadata": {},
     "output_type": "execute_result"
    }
   ],
   "source": [
    "np.sqrt(60)"
   ]
  },
  {
   "cell_type": "code",
   "execution_count": 429,
   "metadata": {},
   "outputs": [
    {
     "data": {
      "text/plain": [
       "15.491933384829668"
      ]
     },
     "execution_count": 429,
     "metadata": {},
     "output_type": "execute_result"
    }
   ],
   "source": []
  },
  {
   "cell_type": "code",
   "execution_count": 452,
   "metadata": {},
   "outputs": [
    {
     "data": {
      "text/plain": [
       "0.4986130383385739"
      ]
     },
     "execution_count": 452,
     "metadata": {},
     "output_type": "execute_result"
    }
   ],
   "source": [
    "rbf(np.array([[0]]),np.array([[1]]),np.sqrt(beta*2))[0,0]/2"
   ]
  },
  {
   "cell_type": "code",
   "execution_count": 471,
   "metadata": {},
   "outputs": [
    {
     "data": {
      "text/plain": [
       "Text(0.5, 0, \"x'\")"
      ]
     },
     "execution_count": 471,
     "metadata": {},
     "output_type": "execute_result"
    },
    {
     "data": {
      "image/png": "[encoded data removed]",
      "text/plain": [
       "<Figure size 432x288 with 1 Axes>"
      ]
     },
     "metadata": {},
     "output_type": "display_data"
    }
   ],
   "source": [
    "#network\n",
    "beta = 90\n",
    "N,W = buildstraightlinenetwork(160,rbf(np.array([[0]]),np.array([[1]]),np.sqrt(beta*2))[0,0])#rbf(np.array([[0]]),np.array([[1]]))[0,0])\n",
    "L = buildL(N,W)\n",
    "step = 6\n",
    "ratio = rbf(np.array([[0]]),np.array([[1]]),np.sqrt(beta*2))[0,0]/(step**2)\n",
    "Nsparse,Wsparse = buildstraightlinenetwork(int(160/step),ratio)#rbf(np.array([[0]]),np.array([[2.4]]))[0,0])#0.25)\n",
    "Lsparse = buildL(Nsparse,Wsparse)\n",
    "X = np.arange(len(L))\n",
    "cov = eBL(L,beta=beta)\n",
    "plt.plot(X,cov[:,96],label=\"Network\")\n",
    "Xsparse = step*np.arange(len(Lsparse))\n",
    "covsparse = eBL(Lsparse,beta=beta)\n",
    "\n",
    "#I'M HAVING TO NORMALISE THIS... WHICH NEEDS THINKING ABOUT!\n",
    "covsparse = covsparse*np.sum(cov[:,96])/np.sum(covsparse[:,int(96/step)])/step\n",
    "plt.plot(Xsparse,covsparse[:,int(96/step)],'k-x',label=\"Sparse network\")\n",
    "plt.xlim([60,160])\n",
    "\n",
    "#From textbook we can see that the lengthscale is equivalent to sqrt(beta*2), see text around eq 1.3 and 1.4?\n",
    "rbfvals = rbf(np.array([[96]]),X[:,None],np.sqrt(beta*2))[0,:]\n",
    "rbfvals/=np.sum(rbfvals)\n",
    "plt.plot(X,rbfvals,'--',lw=5,label=\"RBF Kernel\")\n",
    "plt.legend()\n",
    "plt.ylabel('Covariance between x\\' and x=96')\n",
    "plt.xlabel('x\\'')"
   ]
  },
  {
   "cell_type": "code",
   "execution_count": null,
   "metadata": {},
   "outputs": [],
   "source": []
  }
 ],
 "metadata": {
  "kernelspec": {
   "display_name": "Python 3",
   "language": "python",
   "name": "python3"
  },
  "language_info": {
   "codemirror_mode": {
    "name": "ipython",
    "version": 3
   },
   "file_extension": ".py",
   "mimetype": "text/x-python",
   "name": "python",
   "nbconvert_exporter": "python",
   "pygments_lexer": "ipython3",
   "version": "3.6.9"
  }
 },
 "nbformat": 4,
 "nbformat_minor": 2
}
