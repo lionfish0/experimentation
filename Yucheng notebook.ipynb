{
 "cells": [
  {
   "cell_type": "code",
   "execution_count": 1,
   "metadata": {},
   "outputs": [],
   "source": [
    "import pandas as pd\n",
    "import pickle\n",
    "df = pickle.load(open('splitbytime/time_210312_to_210411.p','rb'))"
   ]
  },
  {
   "cell_type": "code",
   "execution_count": 2,
   "metadata": {},
   "outputs": [
    {
     "data": {
      "text/html": [
       "<div>\n",
       "<style scoped>\n",
       "    .dataframe tbody tr th:only-of-type {\n",
       "        vertical-align: middle;\n",
       "    }\n",
       "\n",
       "    .dataframe tbody tr th {\n",
       "        vertical-align: top;\n",
       "    }\n",
       "\n",
       "    .dataframe thead th {\n",
       "        text-align: right;\n",
       "    }\n",
       "</style>\n",
       "<table border=\"1\" class=\"dataframe\">\n",
       "  <thead>\n",
       "    <tr style=\"text-align: right;\">\n",
       "      <th></th>\n",
       "      <th>created_at</th>\n",
       "      <th>channel_id</th>\n",
       "      <th>entry_id</th>\n",
       "      <th>pm2_5</th>\n",
       "      <th>pm10</th>\n",
       "      <th>s2_pm2_5</th>\n",
       "      <th>s2_pm10</th>\n",
       "      <th>latitude</th>\n",
       "      <th>longitude</th>\n",
       "      <th>voltage</th>\n",
       "      <th>altitude</th>\n",
       "      <th>wind</th>\n",
       "      <th>no_sats</th>\n",
       "      <th>hdope</th>\n",
       "      <th>temperature</th>\n",
       "      <th>humidity</th>\n",
       "    </tr>\n",
       "  </thead>\n",
       "  <tbody>\n",
       "    <tr>\n",
       "      <th>73</th>\n",
       "      <td>2021-03-12 05:08:57</td>\n",
       "      <td>870144</td>\n",
       "      <td>165993</td>\n",
       "      <td>41.50</td>\n",
       "      <td>51.67</td>\n",
       "      <td>41.62</td>\n",
       "      <td>49.55</td>\n",
       "      <td>0.307027</td>\n",
       "      <td>32.651630</td>\n",
       "      <td>3.52</td>\n",
       "      <td>1155.1</td>\n",
       "      <td>0.02</td>\n",
       "      <td>NaN</td>\n",
       "      <td>67.0</td>\n",
       "      <td>0.0</td>\n",
       "      <td>27769.0</td>\n",
       "    </tr>\n",
       "    <tr>\n",
       "      <th>74</th>\n",
       "      <td>2021-03-12 05:11:43</td>\n",
       "      <td>870144</td>\n",
       "      <td>165995</td>\n",
       "      <td>49.43</td>\n",
       "      <td>62.93</td>\n",
       "      <td>49.62</td>\n",
       "      <td>62.47</td>\n",
       "      <td>0.307019</td>\n",
       "      <td>32.651608</td>\n",
       "      <td>3.56</td>\n",
       "      <td>1155.6</td>\n",
       "      <td>0.03</td>\n",
       "      <td>NaN</td>\n",
       "      <td>64.0</td>\n",
       "      <td>0.0</td>\n",
       "      <td>27769.0</td>\n",
       "    </tr>\n",
       "    <tr>\n",
       "      <th>81</th>\n",
       "      <td>2021-03-12 05:15:54</td>\n",
       "      <td>870144</td>\n",
       "      <td>165998</td>\n",
       "      <td>58.78</td>\n",
       "      <td>72.08</td>\n",
       "      <td>58.02</td>\n",
       "      <td>69.23</td>\n",
       "      <td>0.307013</td>\n",
       "      <td>32.651623</td>\n",
       "      <td>3.61</td>\n",
       "      <td>1165.1</td>\n",
       "      <td>0.01</td>\n",
       "      <td>NaN</td>\n",
       "      <td>66.0</td>\n",
       "      <td>0.0</td>\n",
       "      <td>27769.0</td>\n",
       "    </tr>\n",
       "    <tr>\n",
       "      <th>85</th>\n",
       "      <td>2021-03-12 05:17:16</td>\n",
       "      <td>870144</td>\n",
       "      <td>165999</td>\n",
       "      <td>73.58</td>\n",
       "      <td>83.75</td>\n",
       "      <td>69.02</td>\n",
       "      <td>79.47</td>\n",
       "      <td>0.307009</td>\n",
       "      <td>32.651634</td>\n",
       "      <td>3.63</td>\n",
       "      <td>1161.1</td>\n",
       "      <td>0.02</td>\n",
       "      <td>NaN</td>\n",
       "      <td>72.0</td>\n",
       "      <td>0.0</td>\n",
       "      <td>27769.0</td>\n",
       "    </tr>\n",
       "    <tr>\n",
       "      <th>89</th>\n",
       "      <td>2021-03-12 05:24:27</td>\n",
       "      <td>870144</td>\n",
       "      <td>166004</td>\n",
       "      <td>51.50</td>\n",
       "      <td>59.55</td>\n",
       "      <td>49.48</td>\n",
       "      <td>56.95</td>\n",
       "      <td>0.307022</td>\n",
       "      <td>32.651615</td>\n",
       "      <td>3.68</td>\n",
       "      <td>1162.7</td>\n",
       "      <td>0.00</td>\n",
       "      <td>NaN</td>\n",
       "      <td>67.0</td>\n",
       "      <td>0.0</td>\n",
       "      <td>27769.0</td>\n",
       "    </tr>\n",
       "    <tr>\n",
       "      <th>...</th>\n",
       "      <td>...</td>\n",
       "      <td>...</td>\n",
       "      <td>...</td>\n",
       "      <td>...</td>\n",
       "      <td>...</td>\n",
       "      <td>...</td>\n",
       "      <td>...</td>\n",
       "      <td>...</td>\n",
       "      <td>...</td>\n",
       "      <td>...</td>\n",
       "      <td>...</td>\n",
       "      <td>...</td>\n",
       "      <td>...</td>\n",
       "      <td>...</td>\n",
       "      <td>...</td>\n",
       "      <td>...</td>\n",
       "    </tr>\n",
       "    <tr>\n",
       "      <th>954764</th>\n",
       "      <td>2021-04-10 20:31:32</td>\n",
       "      <td>832253</td>\n",
       "      <td>432752</td>\n",
       "      <td>37.33</td>\n",
       "      <td>46.53</td>\n",
       "      <td>17.67</td>\n",
       "      <td>23.30</td>\n",
       "      <td>0.271547</td>\n",
       "      <td>32.556038</td>\n",
       "      <td>4.68</td>\n",
       "      <td>1157.3</td>\n",
       "      <td>0.00</td>\n",
       "      <td>16.0</td>\n",
       "      <td>70.0</td>\n",
       "      <td>0.0</td>\n",
       "      <td>0.0</td>\n",
       "    </tr>\n",
       "    <tr>\n",
       "      <th>954767</th>\n",
       "      <td>2021-04-10 18:36:47</td>\n",
       "      <td>832253</td>\n",
       "      <td>432678</td>\n",
       "      <td>64.63</td>\n",
       "      <td>73.65</td>\n",
       "      <td>34.18</td>\n",
       "      <td>45.37</td>\n",
       "      <td>0.271582</td>\n",
       "      <td>32.556072</td>\n",
       "      <td>4.68</td>\n",
       "      <td>1164.7</td>\n",
       "      <td>0.00</td>\n",
       "      <td>16.0</td>\n",
       "      <td>60.0</td>\n",
       "      <td>0.0</td>\n",
       "      <td>0.0</td>\n",
       "    </tr>\n",
       "    <tr>\n",
       "      <th>954768</th>\n",
       "      <td>2021-04-10 20:20:25</td>\n",
       "      <td>832253</td>\n",
       "      <td>432744</td>\n",
       "      <td>61.68</td>\n",
       "      <td>74.97</td>\n",
       "      <td>46.92</td>\n",
       "      <td>61.90</td>\n",
       "      <td>0.271583</td>\n",
       "      <td>32.556084</td>\n",
       "      <td>4.68</td>\n",
       "      <td>1166.3</td>\n",
       "      <td>0.00</td>\n",
       "      <td>16.0</td>\n",
       "      <td>60.0</td>\n",
       "      <td>0.0</td>\n",
       "      <td>0.0</td>\n",
       "    </tr>\n",
       "    <tr>\n",
       "      <th>954769</th>\n",
       "      <td>2021-04-10 19:47:04</td>\n",
       "      <td>832253</td>\n",
       "      <td>432720</td>\n",
       "      <td>96.53</td>\n",
       "      <td>103.72</td>\n",
       "      <td>43.85</td>\n",
       "      <td>60.70</td>\n",
       "      <td>0.271557</td>\n",
       "      <td>32.556149</td>\n",
       "      <td>4.68</td>\n",
       "      <td>1175.2</td>\n",
       "      <td>0.00</td>\n",
       "      <td>16.0</td>\n",
       "      <td>60.0</td>\n",
       "      <td>0.0</td>\n",
       "      <td>0.0</td>\n",
       "    </tr>\n",
       "    <tr>\n",
       "      <th>954770</th>\n",
       "      <td>2021-04-10 19:08:21</td>\n",
       "      <td>832253</td>\n",
       "      <td>432692</td>\n",
       "      <td>54.15</td>\n",
       "      <td>67.70</td>\n",
       "      <td>28.93</td>\n",
       "      <td>41.60</td>\n",
       "      <td>0.271593</td>\n",
       "      <td>32.556164</td>\n",
       "      <td>4.68</td>\n",
       "      <td>1168.4</td>\n",
       "      <td>0.00</td>\n",
       "      <td>16.0</td>\n",
       "      <td>60.0</td>\n",
       "      <td>0.0</td>\n",
       "      <td>0.0</td>\n",
       "    </tr>\n",
       "  </tbody>\n",
       "</table>\n",
       "<p>1382523 rows × 16 columns</p>\n",
       "</div>"
      ],
      "text/plain": [
       "                created_at  channel_id  entry_id  pm2_5    pm10  s2_pm2_5  \\\n",
       "73     2021-03-12 05:08:57      870144    165993  41.50   51.67     41.62   \n",
       "74     2021-03-12 05:11:43      870144    165995  49.43   62.93     49.62   \n",
       "81     2021-03-12 05:15:54      870144    165998  58.78   72.08     58.02   \n",
       "85     2021-03-12 05:17:16      870144    165999  73.58   83.75     69.02   \n",
       "89     2021-03-12 05:24:27      870144    166004  51.50   59.55     49.48   \n",
       "...                    ...         ...       ...    ...     ...       ...   \n",
       "954764 2021-04-10 20:31:32      832253    432752  37.33   46.53     17.67   \n",
       "954767 2021-04-10 18:36:47      832253    432678  64.63   73.65     34.18   \n",
       "954768 2021-04-10 20:20:25      832253    432744  61.68   74.97     46.92   \n",
       "954769 2021-04-10 19:47:04      832253    432720  96.53  103.72     43.85   \n",
       "954770 2021-04-10 19:08:21      832253    432692  54.15   67.70     28.93   \n",
       "\n",
       "        s2_pm10  latitude  longitude  voltage  altitude  wind  no_sats  hdope  \\\n",
       "73        49.55  0.307027  32.651630     3.52    1155.1  0.02      NaN   67.0   \n",
       "74        62.47  0.307019  32.651608     3.56    1155.6  0.03      NaN   64.0   \n",
       "81        69.23  0.307013  32.651623     3.61    1165.1  0.01      NaN   66.0   \n",
       "85        79.47  0.307009  32.651634     3.63    1161.1  0.02      NaN   72.0   \n",
       "89        56.95  0.307022  32.651615     3.68    1162.7  0.00      NaN   67.0   \n",
       "...         ...       ...        ...      ...       ...   ...      ...    ...   \n",
       "954764    23.30  0.271547  32.556038     4.68    1157.3  0.00     16.0   70.0   \n",
       "954767    45.37  0.271582  32.556072     4.68    1164.7  0.00     16.0   60.0   \n",
       "954768    61.90  0.271583  32.556084     4.68    1166.3  0.00     16.0   60.0   \n",
       "954769    60.70  0.271557  32.556149     4.68    1175.2  0.00     16.0   60.0   \n",
       "954770    41.60  0.271593  32.556164     4.68    1168.4  0.00     16.0   60.0   \n",
       "\n",
       "        temperature  humidity  \n",
       "73              0.0   27769.0  \n",
       "74              0.0   27769.0  \n",
       "81              0.0   27769.0  \n",
       "85              0.0   27769.0  \n",
       "89              0.0   27769.0  \n",
       "...             ...       ...  \n",
       "954764          0.0       0.0  \n",
       "954767          0.0       0.0  \n",
       "954768          0.0       0.0  \n",
       "954769          0.0       0.0  \n",
       "954770          0.0       0.0  \n",
       "\n",
       "[1382523 rows x 16 columns]"
      ]
     },
     "execution_count": 2,
     "metadata": {},
     "output_type": "execute_result"
    }
   ],
   "source": [
    "df"
   ]
  },
  {
   "cell_type": "code",
   "execution_count": 1,
   "metadata": {},
   "outputs": [],
   "source": [
    "import GPy\n",
    "import numpy as np"
   ]
  },
  {
   "cell_type": "code",
   "execution_count": 18,
   "metadata": {},
   "outputs": [
    {
     "data": {
      "text/plain": [
       "<paramz.optimization.optimization.opt_lbfgsb at 0x7f885591e1f0>"
      ]
     },
     "execution_count": 18,
     "metadata": {},
     "output_type": "execute_result"
    }
   ],
   "source": [
    "X = np.array([[1,2,3,6,7,8]]).T\n",
    "Y = 1+np.cos(X)+np.random.randn(6,1)*0.1\n",
    "k = GPy.kern.RBF(1) #GPy.kern.Linear(1)\n",
    "m = GPy.models.GPRegression(X,Y,k)\n",
    "m.optimize()"
   ]
  },
  {
   "cell_type": "code",
   "execution_count": 19,
   "metadata": {},
   "outputs": [],
   "source": [
    "#m.Gaussian_noise = 0.00001\n",
    "#m.kern.lengthscale=0.01"
   ]
  },
  {
   "cell_type": "code",
   "execution_count": 20,
   "metadata": {},
   "outputs": [
    {
     "data": {
      "text/plain": [
       "{'dataplot': [<matplotlib.collections.PathCollection at 0x7f88558f6880>],\n",
       " 'gpmean': [[<matplotlib.lines.Line2D at 0x7f88558d25e0>]],\n",
       " 'gpconfidence': [<matplotlib.collections.PolyCollection at 0x7f88558d2880>]}"
      ]
     },
     "execution_count": 20,
     "metadata": {},
     "output_type": "execute_result"
    },
    {
     "data": {
      "image/png": "[encoded data removed]",
      "text/plain": [
       "<Figure size 432x288 with 1 Axes>"
      ]
     },
     "metadata": {
      "needs_background": "light"
     },
     "output_type": "display_data"
    }
   ],
   "source": [
    "m.plot()"
   ]
  },
  {
   "cell_type": "code",
   "execution_count": 21,
   "metadata": {},
   "outputs": [],
   "source": [
    "Xtest = np.array([[6.0]])\n",
    "ytest = np.cos(6.0)"
   ]
  },
  {
   "cell_type": "code",
   "execution_count": 22,
   "metadata": {},
   "outputs": [],
   "source": [
    "predmean, predvar = m.predict(Xtest)"
   ]
  },
  {
   "cell_type": "code",
   "execution_count": 23,
   "metadata": {},
   "outputs": [
    {
     "name": "stdout",
     "output_type": "stream",
     "text": [
      "[[6.]] 0.960170286650366\n"
     ]
    },
    {
     "name": "stderr",
     "output_type": "stream",
     "text": [
      " <ipython-input-23-e18b66ffa9e4>:6: RuntimeWarning:divide by zero encountered in log\n"
     ]
    },
    {
     "data": {
      "text/plain": [
       "inf"
      ]
     },
     "execution_count": 23,
     "metadata": {},
     "output_type": "execute_result"
    }
   ],
   "source": [
    "import scipy.stats\n",
    "print(Xtest,ytest)\n",
    "#this gives us the density at y=6, given X=6.\n",
    "probdensity = scipy.stats.norm(predmean[0,0],np.sqrt(predvar[0,0])).pdf(ytest)\n",
    "#NLPD is...\n",
    "-np.log(probdensity) #we want to minimise this."
   ]
  },
  {
   "cell_type": "code",
   "execution_count": 26,
   "metadata": {},
   "outputs": [],
   "source": [
    "Xtest = np.linspace(1,6,100)[:,None]\n",
    "predmean, predvar = m.predict(Xtest)"
   ]
  },
  {
   "cell_type": "code",
   "execution_count": 27,
   "metadata": {},
   "outputs": [
    {
     "data": {
      "text/plain": [
       "[<matplotlib.lines.Line2D at 0x7f88557987c0>]"
      ]
     },
     "execution_count": 27,
     "metadata": {},
     "output_type": "execute_result"
    },
    {
     "data": {
      "image/png": "[encoded data removed]",
      "text/plain": [
       "<Figure size 432x288 with 1 Axes>"
      ]
     },
     "metadata": {
      "needs_background": "light"
     },
     "output_type": "display_data"
    }
   ],
   "source": [
    "import matplotlib.pyplot as plt\n",
    "%matplotlib inline\n",
    "plt.plot(Xtest,predmean)\n",
    "plt.plot(Xtest,predmean+np.sqrt(predvar))\n",
    "plt.plot(Xtest,predmean-np.sqrt(predvar))"
   ]
  },
  {
   "cell_type": "code",
   "execution_count": 28,
   "metadata": {},
   "outputs": [
    {
     "data": {
      "text/plain": [
       "69"
      ]
     },
     "execution_count": 28,
     "metadata": {},
     "output_type": "execute_result"
    }
   ],
   "source": [
    "np.argmax(predvar)"
   ]
  },
  {
   "cell_type": "code",
   "execution_count": null,
   "metadata": {},
   "outputs": [],
   "source": []
  }
 ],
 "metadata": {
  "kernelspec": {
   "display_name": "Python 3",
   "language": "python",
   "name": "python3"
  },
  "language_info": {
   "codemirror_mode": {
    "name": "ipython",
    "version": 3
   },
   "file_extension": ".py",
   "mimetype": "text/x-python",
   "name": "python",
   "nbconvert_exporter": "python",
   "pygments_lexer": "ipython3",
   "version": "3.8.3"
  }
 },
 "nbformat": 4,
 "nbformat_minor": 4
}
