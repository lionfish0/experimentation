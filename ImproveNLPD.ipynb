{
 "cells": [
  {
   "cell_type": "code",
   "execution_count": 1,
   "metadata": {},
   "outputs": [],
   "source": [
    "import numpy as np\n",
    "import pandas as pd"
   ]
  },
  {
   "cell_type": "code",
   "execution_count": 79,
   "metadata": {},
   "outputs": [
    {
     "data": {
      "text/html": [
       "<div>\n",
       "<style scoped>\n",
       "    .dataframe tbody tr th:only-of-type {\n",
       "        vertical-align: middle;\n",
       "    }\n",
       "\n",
       "    .dataframe tbody tr th {\n",
       "        vertical-align: top;\n",
       "    }\n",
       "\n",
       "    .dataframe thead th {\n",
       "        text-align: right;\n",
       "    }\n",
       "</style>\n",
       "<table border=\"1\" class=\"dataframe\">\n",
       "  <thead>\n",
       "    <tr style=\"text-align: right;\">\n",
       "      <th></th>\n",
       "      <th>0</th>\n",
       "      <th>1</th>\n",
       "      <th>2</th>\n",
       "      <th>3</th>\n",
       "      <th>4</th>\n",
       "      <th>5</th>\n",
       "      <th>6</th>\n",
       "      <th>7</th>\n",
       "      <th>8</th>\n",
       "      <th>9</th>\n",
       "      <th>...</th>\n",
       "      <th>2038</th>\n",
       "      <th>2039</th>\n",
       "      <th>2040</th>\n",
       "      <th>2041</th>\n",
       "      <th>2042</th>\n",
       "      <th>2043</th>\n",
       "      <th>2044</th>\n",
       "      <th>2045</th>\n",
       "      <th>2046</th>\n",
       "      <th>2047</th>\n",
       "    </tr>\n",
       "  </thead>\n",
       "  <tbody>\n",
       "    <tr>\n",
       "      <th>0</th>\n",
       "      <td>0.205252</td>\n",
       "      <td>0.249533</td>\n",
       "      <td>2.468264</td>\n",
       "      <td>0.000000</td>\n",
       "      <td>2.778450</td>\n",
       "      <td>1.915088</td>\n",
       "      <td>0.846388</td>\n",
       "      <td>0.330514</td>\n",
       "      <td>0.027987</td>\n",
       "      <td>0.000000</td>\n",
       "      <td>...</td>\n",
       "      <td>0.008679</td>\n",
       "      <td>0.121032</td>\n",
       "      <td>0.008315</td>\n",
       "      <td>0.031075</td>\n",
       "      <td>0.017995</td>\n",
       "      <td>0.016965</td>\n",
       "      <td>0.031257</td>\n",
       "      <td>0.885887</td>\n",
       "      <td>0.190676</td>\n",
       "      <td>0.464940</td>\n",
       "    </tr>\n",
       "    <tr>\n",
       "      <th>1</th>\n",
       "      <td>1.617950</td>\n",
       "      <td>0.057612</td>\n",
       "      <td>0.270210</td>\n",
       "      <td>0.006480</td>\n",
       "      <td>0.004228</td>\n",
       "      <td>0.000000</td>\n",
       "      <td>0.367086</td>\n",
       "      <td>0.169956</td>\n",
       "      <td>0.005445</td>\n",
       "      <td>0.319232</td>\n",
       "      <td>...</td>\n",
       "      <td>0.037268</td>\n",
       "      <td>0.361500</td>\n",
       "      <td>0.229228</td>\n",
       "      <td>0.870521</td>\n",
       "      <td>0.000000</td>\n",
       "      <td>0.586490</td>\n",
       "      <td>0.010039</td>\n",
       "      <td>2.016196</td>\n",
       "      <td>0.590654</td>\n",
       "      <td>0.166361</td>\n",
       "    </tr>\n",
       "    <tr>\n",
       "      <th>2</th>\n",
       "      <td>0.000000</td>\n",
       "      <td>0.000000</td>\n",
       "      <td>0.000000</td>\n",
       "      <td>0.008871</td>\n",
       "      <td>0.583478</td>\n",
       "      <td>0.000000</td>\n",
       "      <td>1.180211</td>\n",
       "      <td>0.228068</td>\n",
       "      <td>0.000000</td>\n",
       "      <td>0.072185</td>\n",
       "      <td>...</td>\n",
       "      <td>0.000000</td>\n",
       "      <td>0.050236</td>\n",
       "      <td>0.596071</td>\n",
       "      <td>0.007021</td>\n",
       "      <td>0.000000</td>\n",
       "      <td>0.040999</td>\n",
       "      <td>0.000000</td>\n",
       "      <td>0.394930</td>\n",
       "      <td>0.044031</td>\n",
       "      <td>0.314719</td>\n",
       "    </tr>\n",
       "    <tr>\n",
       "      <th>3</th>\n",
       "      <td>0.000000</td>\n",
       "      <td>0.439345</td>\n",
       "      <td>0.899247</td>\n",
       "      <td>0.614806</td>\n",
       "      <td>0.573302</td>\n",
       "      <td>0.000000</td>\n",
       "      <td>0.511731</td>\n",
       "      <td>0.006354</td>\n",
       "      <td>0.218518</td>\n",
       "      <td>0.041050</td>\n",
       "      <td>...</td>\n",
       "      <td>0.000000</td>\n",
       "      <td>1.133643</td>\n",
       "      <td>0.191010</td>\n",
       "      <td>0.000000</td>\n",
       "      <td>0.481389</td>\n",
       "      <td>1.538416</td>\n",
       "      <td>0.215585</td>\n",
       "      <td>1.294243</td>\n",
       "      <td>0.387299</td>\n",
       "      <td>0.058883</td>\n",
       "    </tr>\n",
       "    <tr>\n",
       "      <th>4</th>\n",
       "      <td>0.713862</td>\n",
       "      <td>0.455414</td>\n",
       "      <td>1.520771</td>\n",
       "      <td>0.060180</td>\n",
       "      <td>0.772773</td>\n",
       "      <td>0.000000</td>\n",
       "      <td>0.280808</td>\n",
       "      <td>0.460845</td>\n",
       "      <td>0.000000</td>\n",
       "      <td>0.070070</td>\n",
       "      <td>...</td>\n",
       "      <td>0.230883</td>\n",
       "      <td>1.454101</td>\n",
       "      <td>0.414433</td>\n",
       "      <td>0.295896</td>\n",
       "      <td>0.029659</td>\n",
       "      <td>0.081867</td>\n",
       "      <td>0.004096</td>\n",
       "      <td>0.072701</td>\n",
       "      <td>0.811972</td>\n",
       "      <td>0.363433</td>\n",
       "    </tr>\n",
       "    <tr>\n",
       "      <th>...</th>\n",
       "      <td>...</td>\n",
       "      <td>...</td>\n",
       "      <td>...</td>\n",
       "      <td>...</td>\n",
       "      <td>...</td>\n",
       "      <td>...</td>\n",
       "      <td>...</td>\n",
       "      <td>...</td>\n",
       "      <td>...</td>\n",
       "      <td>...</td>\n",
       "      <td>...</td>\n",
       "      <td>...</td>\n",
       "      <td>...</td>\n",
       "      <td>...</td>\n",
       "      <td>...</td>\n",
       "      <td>...</td>\n",
       "      <td>...</td>\n",
       "      <td>...</td>\n",
       "      <td>...</td>\n",
       "      <td>...</td>\n",
       "      <td>...</td>\n",
       "    </tr>\n",
       "    <tr>\n",
       "      <th>6204</th>\n",
       "      <td>0.253925</td>\n",
       "      <td>0.578918</td>\n",
       "      <td>0.255666</td>\n",
       "      <td>0.000000</td>\n",
       "      <td>0.109713</td>\n",
       "      <td>0.000000</td>\n",
       "      <td>0.167994</td>\n",
       "      <td>0.287934</td>\n",
       "      <td>0.015431</td>\n",
       "      <td>0.021831</td>\n",
       "      <td>...</td>\n",
       "      <td>0.219655</td>\n",
       "      <td>0.073615</td>\n",
       "      <td>0.027513</td>\n",
       "      <td>0.227227</td>\n",
       "      <td>0.028447</td>\n",
       "      <td>0.000000</td>\n",
       "      <td>0.205858</td>\n",
       "      <td>0.017773</td>\n",
       "      <td>0.603405</td>\n",
       "      <td>0.786571</td>\n",
       "    </tr>\n",
       "    <tr>\n",
       "      <th>6205</th>\n",
       "      <td>0.274169</td>\n",
       "      <td>0.345489</td>\n",
       "      <td>0.470278</td>\n",
       "      <td>0.258174</td>\n",
       "      <td>1.462303</td>\n",
       "      <td>0.000000</td>\n",
       "      <td>1.393906</td>\n",
       "      <td>0.034041</td>\n",
       "      <td>0.000000</td>\n",
       "      <td>0.000000</td>\n",
       "      <td>...</td>\n",
       "      <td>0.081641</td>\n",
       "      <td>0.000000</td>\n",
       "      <td>0.077804</td>\n",
       "      <td>0.000000</td>\n",
       "      <td>0.055088</td>\n",
       "      <td>0.381468</td>\n",
       "      <td>0.000000</td>\n",
       "      <td>0.611305</td>\n",
       "      <td>1.447888</td>\n",
       "      <td>0.134379</td>\n",
       "    </tr>\n",
       "    <tr>\n",
       "      <th>6206</th>\n",
       "      <td>2.546535</td>\n",
       "      <td>0.786237</td>\n",
       "      <td>0.159672</td>\n",
       "      <td>0.000000</td>\n",
       "      <td>0.105839</td>\n",
       "      <td>0.000000</td>\n",
       "      <td>0.043736</td>\n",
       "      <td>0.658212</td>\n",
       "      <td>0.006366</td>\n",
       "      <td>0.000000</td>\n",
       "      <td>...</td>\n",
       "      <td>0.027105</td>\n",
       "      <td>0.164124</td>\n",
       "      <td>0.443468</td>\n",
       "      <td>0.297745</td>\n",
       "      <td>0.000000</td>\n",
       "      <td>0.000000</td>\n",
       "      <td>0.000000</td>\n",
       "      <td>0.085021</td>\n",
       "      <td>2.660668</td>\n",
       "      <td>0.036462</td>\n",
       "    </tr>\n",
       "    <tr>\n",
       "      <th>6207</th>\n",
       "      <td>0.000000</td>\n",
       "      <td>0.218152</td>\n",
       "      <td>0.058052</td>\n",
       "      <td>0.381265</td>\n",
       "      <td>1.797887</td>\n",
       "      <td>0.000000</td>\n",
       "      <td>0.882641</td>\n",
       "      <td>0.160167</td>\n",
       "      <td>0.198532</td>\n",
       "      <td>0.000000</td>\n",
       "      <td>...</td>\n",
       "      <td>0.000000</td>\n",
       "      <td>0.103092</td>\n",
       "      <td>0.558721</td>\n",
       "      <td>1.345153</td>\n",
       "      <td>0.000000</td>\n",
       "      <td>0.000000</td>\n",
       "      <td>0.000000</td>\n",
       "      <td>1.580165</td>\n",
       "      <td>0.413328</td>\n",
       "      <td>0.000000</td>\n",
       "    </tr>\n",
       "    <tr>\n",
       "      <th>6208</th>\n",
       "      <td>0.385554</td>\n",
       "      <td>0.326320</td>\n",
       "      <td>0.398470</td>\n",
       "      <td>0.000000</td>\n",
       "      <td>0.079357</td>\n",
       "      <td>0.168380</td>\n",
       "      <td>0.131762</td>\n",
       "      <td>0.678016</td>\n",
       "      <td>0.006071</td>\n",
       "      <td>0.495105</td>\n",
       "      <td>...</td>\n",
       "      <td>0.275013</td>\n",
       "      <td>0.000000</td>\n",
       "      <td>0.000000</td>\n",
       "      <td>0.550121</td>\n",
       "      <td>0.079096</td>\n",
       "      <td>1.907560</td>\n",
       "      <td>0.000000</td>\n",
       "      <td>0.481531</td>\n",
       "      <td>0.055896</td>\n",
       "      <td>0.050559</td>\n",
       "    </tr>\n",
       "  </tbody>\n",
       "</table>\n",
       "<p>6209 rows × 2048 columns</p>\n",
       "</div>"
      ],
      "text/plain": [
       "          0         1         2         3         4         5         6     \\\n",
       "0     0.205252  0.249533  2.468264  0.000000  2.778450  1.915088  0.846388   \n",
       "1     1.617950  0.057612  0.270210  0.006480  0.004228  0.000000  0.367086   \n",
       "2     0.000000  0.000000  0.000000  0.008871  0.583478  0.000000  1.180211   \n",
       "3     0.000000  0.439345  0.899247  0.614806  0.573302  0.000000  0.511731   \n",
       "4     0.713862  0.455414  1.520771  0.060180  0.772773  0.000000  0.280808   \n",
       "...        ...       ...       ...       ...       ...       ...       ...   \n",
       "6204  0.253925  0.578918  0.255666  0.000000  0.109713  0.000000  0.167994   \n",
       "6205  0.274169  0.345489  0.470278  0.258174  1.462303  0.000000  1.393906   \n",
       "6206  2.546535  0.786237  0.159672  0.000000  0.105839  0.000000  0.043736   \n",
       "6207  0.000000  0.218152  0.058052  0.381265  1.797887  0.000000  0.882641   \n",
       "6208  0.385554  0.326320  0.398470  0.000000  0.079357  0.168380  0.131762   \n",
       "\n",
       "          7         8         9     ...      2038      2039      2040  \\\n",
       "0     0.330514  0.027987  0.000000  ...  0.008679  0.121032  0.008315   \n",
       "1     0.169956  0.005445  0.319232  ...  0.037268  0.361500  0.229228   \n",
       "2     0.228068  0.000000  0.072185  ...  0.000000  0.050236  0.596071   \n",
       "3     0.006354  0.218518  0.041050  ...  0.000000  1.133643  0.191010   \n",
       "4     0.460845  0.000000  0.070070  ...  0.230883  1.454101  0.414433   \n",
       "...        ...       ...       ...  ...       ...       ...       ...   \n",
       "6204  0.287934  0.015431  0.021831  ...  0.219655  0.073615  0.027513   \n",
       "6205  0.034041  0.000000  0.000000  ...  0.081641  0.000000  0.077804   \n",
       "6206  0.658212  0.006366  0.000000  ...  0.027105  0.164124  0.443468   \n",
       "6207  0.160167  0.198532  0.000000  ...  0.000000  0.103092  0.558721   \n",
       "6208  0.678016  0.006071  0.495105  ...  0.275013  0.000000  0.000000   \n",
       "\n",
       "          2041      2042      2043      2044      2045      2046      2047  \n",
       "0     0.031075  0.017995  0.016965  0.031257  0.885887  0.190676  0.464940  \n",
       "1     0.870521  0.000000  0.586490  0.010039  2.016196  0.590654  0.166361  \n",
       "2     0.007021  0.000000  0.040999  0.000000  0.394930  0.044031  0.314719  \n",
       "3     0.000000  0.481389  1.538416  0.215585  1.294243  0.387299  0.058883  \n",
       "4     0.295896  0.029659  0.081867  0.004096  0.072701  0.811972  0.363433  \n",
       "...        ...       ...       ...       ...       ...       ...       ...  \n",
       "6204  0.227227  0.028447  0.000000  0.205858  0.017773  0.603405  0.786571  \n",
       "6205  0.000000  0.055088  0.381468  0.000000  0.611305  1.447888  0.134379  \n",
       "6206  0.297745  0.000000  0.000000  0.000000  0.085021  2.660668  0.036462  \n",
       "6207  1.345153  0.000000  0.000000  0.000000  1.580165  0.413328  0.000000  \n",
       "6208  0.550121  0.079096  1.907560  0.000000  0.481531  0.055896  0.050559  \n",
       "\n",
       "[6209 rows x 2048 columns]"
      ]
     },
     "execution_count": 79,
     "metadata": {},
     "output_type": "execute_result"
    }
   ],
   "source": [
    "pd.read_csv('Weights2 - 6th  layer/Uk_weights2_X_test.csv',header=None)"
   ]
  },
  {
   "cell_type": "code",
   "execution_count": 278,
   "metadata": {},
   "outputs": [],
   "source": [
    "layerXtest = pd.read_csv('Weights2 - 6th  layer/Uk_weights2_X_test.csv',header=None).to_numpy()\n",
    "layerYtest = pd.read_csv('Weights2 - 6th  layer/Uk_weights2_Y_test.csv',header=None).to_numpy()\n",
    "layerXtrain = pd.read_csv('Weights2 - 6th  layer/Uk_weights2_X_validation.csv',header=None).to_numpy()\n",
    "layerYtrain = pd.read_csv('Weights2 - 6th  layer/Uk_weights2_Y_validation.csv',header=None).to_numpy()\n",
    "smXtest = pd.read_csv('Weights2 - Softmax/Uk_weights2_X_test.csv',header=None).to_numpy()\n",
    "smYtest = pd.read_csv('Weights2 - Softmax/Uk_weights2_Y_test.csv',header=None).to_numpy()\n",
    "smXtrain = pd.read_csv('Weights2 - Softmax/Uk_weights2_X_validation.csv',header=None).to_numpy()\n",
    "smYtrain = pd.read_csv('Weights2 - Softmax/Uk_weights2_Y_validation.csv',header=None).to_numpy\n",
    "\n",
    "#we'll include the training data too...\n",
    "#smXtrain2 = pd.read_csv('Weights2 - Softmax/Uk_weights2_X_train.csv',header=None).to_numpy()\n",
    "#smYtrain2 = pd.read_csv('Weights2 - Softmax/Uk_weights2_Y_train.csv',header=None).to_numpy()\n",
    "#smXtrain = np.r_[smXtrain,smXtrain2]\n",
    "#smYtrain = np.r_[smYtrain,smYtrain2]"
   ]
  },
  {
   "cell_type": "code",
   "execution_count": 279,
   "metadata": {},
   "outputs": [],
   "source": [
    "def NLPD(actual,predicted):\n",
    "    \"\"\"(normalised) Negative Log Predictive Density\n",
    "    Definition of Negative Log Predictive Density (NLPD):\n",
    "    $$L = -\\frac{1}{n} \\sum_{i=1}^n \\log p(y_i=t_i|\\mathbf{x}_i)$$\n",
    "    See http://mlg.eng.cam.ac.uk/pub/pdf/QuiRasSinetal06.pdf, page 13.\n",
    "    \"This loss penalizes both over and under-confident predictions.\"\n",
    "    but\n",
    "    \"The NLPD loss favours conservative models, that is models that tend to be under-confident\n",
    "    rather than over-confident. This is illustrated in Fig. 7, and canbe deduced from the fact that\n",
    "    logarithms are being used. An interesting way ofusing the NLPD is to give it relative to the NLPD\n",
    "    of a predictor that ignoresthe inputs and always predicts the same Gaussian predictive distribution,\n",
    "    withmean and variance the empirical mean and variance of the training data. Thisrelative NLPD\n",
    "    translates into a gain of information with respect to the simpleGaussian predictor described.\"\n",
    "    \n",
    "    actual = 2d array of indices (Nx1), values are from 0 to D-1.\n",
    "    predicted = 2d array of probabilities (NxD) sum to one along rows.\n",
    "    \"\"\"\n",
    "    assert np.max(np.abs(np.sum(predicted,1)-1))<1e-5 #confirmed every row roughly adds up to one\n",
    "    assert 0<=np.max(predicted)<=1\n",
    "    return -np.sum(np.log(np.take_along_axis(predicted,actual.astype(int),axis=1)))\n",
    "\n",
    "def MNLPD(actual,predicted):\n",
    "    \"\"\"Mean of the NLPD\"\"\"\n",
    "    assert np.max(np.abs(np.sum(predicted,1)-1))<1e-5 #confirmed every row roughly adds up to one\n",
    "    assert 0<=np.max(predicted)<=1\n",
    "    return -np.mean(np.log(np.take_along_axis(predicted,actual.astype(int),axis=1)))\n",
    "def GMNLPD(actual,predicted):\n",
    "    \"\"\"Grouped Mean NLPD\n",
    "    This finds the mean of the MNLPDs for all the separate actual groups.\n",
    "    It means that if one large group is well classified it won't swamp the results from\n",
    "    the smaller groups\"\"\"\n",
    "    assert np.max(np.abs(np.sum(predicted,1)-1))<1e-5 #confirmed every row roughly adds up to one\n",
    "    assert 0<=np.max(predicted)<=1\n",
    "    res = []\n",
    "    for i in np.unique(actual):\n",
    "        res.append(MNLPD(actual[actual[:,0]==i],predicted[actual[:,0]==i,:]))\n",
    "    return np.mean(res)"
   ]
  },
  {
   "cell_type": "markdown",
   "metadata": {},
   "source": [
    "# CNN solution (softmax)"
   ]
  },
  {
   "cell_type": "code",
   "execution_count": 280,
   "metadata": {},
   "outputs": [
    {
     "data": {
      "text/plain": [
       "5655.690000928037"
      ]
     },
     "execution_count": 280,
     "metadata": {},
     "output_type": "execute_result"
    }
   ],
   "source": [
    "#Deep Neural network\n",
    "NLPD(smYtest,smXtest)"
   ]
  },
  {
   "cell_type": "code",
   "execution_count": 281,
   "metadata": {},
   "outputs": [
    {
     "data": {
      "text/plain": [
       "1.5655913587237136"
      ]
     },
     "execution_count": 281,
     "metadata": {},
     "output_type": "execute_result"
    }
   ],
   "source": [
    "#mean group means.\n",
    "GMNLPD(smYtest,smXtest)"
   ]
  },
  {
   "cell_type": "markdown",
   "metadata": {},
   "source": [
    "Trying to regularise the CNN softmax solution to see if it helps (as we regularise our EUE method, so it's fair to try it here too)."
   ]
  },
  {
   "cell_type": "code",
   "execution_count": 282,
   "metadata": {},
   "outputs": [],
   "source": [
    "tempX = smXtest+0.01\n",
    "tempX=(tempX.T/np.sum(tempX,1)).T"
   ]
  },
  {
   "cell_type": "code",
   "execution_count": 283,
   "metadata": {},
   "outputs": [
    {
     "data": {
      "text/plain": [
       "5764.5842905439085"
      ]
     },
     "execution_count": 283,
     "metadata": {},
     "output_type": "execute_result"
    }
   ],
   "source": [
    "#Deep Neural network\n",
    "NLPD(smYtest,tempX)"
   ]
  },
  {
   "cell_type": "code",
   "execution_count": 284,
   "metadata": {},
   "outputs": [
    {
     "data": {
      "text/plain": [
       "1.3017689271373074"
      ]
     },
     "execution_count": 284,
     "metadata": {},
     "output_type": "execute_result"
    }
   ],
   "source": [
    "#mean group means.\n",
    "GMNLPD(smYtest,tempX)"
   ]
  },
  {
   "cell_type": "markdown",
   "metadata": {},
   "source": [
    "It doesn't help the NLPD but it does help the grouped mean"
   ]
  },
  {
   "cell_type": "markdown",
   "metadata": {},
   "source": [
    "# Empirical Uncertainty Estimation\n",
    "\n",
    "Using just the confusion matrix"
   ]
  },
  {
   "cell_type": "code",
   "execution_count": 285,
   "metadata": {},
   "outputs": [],
   "source": [
    "import matplotlib.pyplot as plt\n",
    "%matplotlib inline"
   ]
  },
  {
   "cell_type": "code",
   "execution_count": 286,
   "metadata": {},
   "outputs": [
    {
     "ename": "TypeError",
     "evalue": "'method' object is not subscriptable",
     "output_type": "error",
     "traceback": [
      "\u001b[0;31m---------------------------------------------------------------------------\u001b[0m",
      "\u001b[0;31mTypeError\u001b[0m                                 Traceback (most recent call last)",
      "\u001b[0;32m<ipython-input-286-c4c2b0539d1f>\u001b[0m in \u001b[0;36m<module>\u001b[0;34m\u001b[0m\n\u001b[1;32m      1\u001b[0m \u001b[0mpreds\u001b[0m \u001b[0;34m=\u001b[0m \u001b[0mnp\u001b[0m\u001b[0;34m.\u001b[0m\u001b[0margmax\u001b[0m\u001b[0;34m(\u001b[0m\u001b[0msmXtrain\u001b[0m\u001b[0;34m,\u001b[0m\u001b[0;36m1\u001b[0m\u001b[0;34m)\u001b[0m\u001b[0;34m\u001b[0m\u001b[0;34m\u001b[0m\u001b[0m\n\u001b[1;32m      2\u001b[0m \u001b[0mconf\u001b[0m \u001b[0;34m=\u001b[0m \u001b[0mnp\u001b[0m\u001b[0;34m.\u001b[0m\u001b[0mzeros\u001b[0m\u001b[0;34m(\u001b[0m\u001b[0;34m[\u001b[0m\u001b[0;36m19\u001b[0m\u001b[0;34m,\u001b[0m\u001b[0;36m19\u001b[0m\u001b[0;34m]\u001b[0m\u001b[0;34m)\u001b[0m\u001b[0;34m\u001b[0m\u001b[0;34m\u001b[0m\u001b[0m\n\u001b[0;32m----> 3\u001b[0;31m \u001b[0;32mfor\u001b[0m \u001b[0mp\u001b[0m\u001b[0;34m,\u001b[0m\u001b[0ma\u001b[0m \u001b[0;32min\u001b[0m \u001b[0mzip\u001b[0m\u001b[0;34m(\u001b[0m\u001b[0mpreds\u001b[0m\u001b[0;34m,\u001b[0m\u001b[0msmYtrain\u001b[0m\u001b[0;34m[\u001b[0m\u001b[0;34m:\u001b[0m\u001b[0;34m,\u001b[0m\u001b[0;36m0\u001b[0m\u001b[0;34m]\u001b[0m\u001b[0;34m.\u001b[0m\u001b[0mastype\u001b[0m\u001b[0;34m(\u001b[0m\u001b[0mint\u001b[0m\u001b[0;34m)\u001b[0m\u001b[0;34m)\u001b[0m\u001b[0;34m:\u001b[0m\u001b[0;34m\u001b[0m\u001b[0;34m\u001b[0m\u001b[0m\n\u001b[0m\u001b[1;32m      4\u001b[0m     \u001b[0mconf\u001b[0m\u001b[0;34m[\u001b[0m\u001b[0mp\u001b[0m\u001b[0;34m,\u001b[0m\u001b[0ma\u001b[0m\u001b[0;34m]\u001b[0m\u001b[0;34m+=\u001b[0m\u001b[0;36m1.0\u001b[0m\u001b[0;34m\u001b[0m\u001b[0;34m\u001b[0m\u001b[0m\n\u001b[1;32m      5\u001b[0m \u001b[0mconf\u001b[0m\u001b[0;34m+=\u001b[0m\u001b[0;36m0.01\u001b[0m\u001b[0;34m\u001b[0m\u001b[0;34m\u001b[0m\u001b[0m\n",
      "\u001b[0;31mTypeError\u001b[0m: 'method' object is not subscriptable"
     ]
    }
   ],
   "source": [
    "preds = np.argmax(smXtrain,1)\n",
    "conf = np.zeros([19,19])\n",
    "for p,a in zip(preds,smYtrain[:,0].astype(int)):\n",
    "    conf[p,a]+=1.0\n",
    "conf+=0.01\n",
    "conf = (conf.T/np.sum(conf,1)).T\n",
    "#plt.matshow(conf)\n",
    "#plt.colorbar()\n",
    "newprobs = np.zeros_like(smXtest)\n",
    "preds = np.argmax(smXtest,1)\n",
    "for i,p in enumerate(preds):\n",
    "    newprobs[i,:] = conf[p,:]"
   ]
  },
  {
   "cell_type": "code",
   "execution_count": 287,
   "metadata": {},
   "outputs": [
    {
     "data": {
      "text/plain": [
       "5263.5786170675565"
      ]
     },
     "execution_count": 287,
     "metadata": {},
     "output_type": "execute_result"
    }
   ],
   "source": [
    "NLPD(smYtest,newprobs)"
   ]
  },
  {
   "cell_type": "code",
   "execution_count": 288,
   "metadata": {},
   "outputs": [
    {
     "data": {
      "text/plain": [
       "2.227997621593037"
      ]
     },
     "execution_count": 288,
     "metadata": {},
     "output_type": "execute_result"
    }
   ],
   "source": [
    "GMNLPD(smYtest,newprobs)"
   ]
  },
  {
   "cell_type": "markdown",
   "metadata": {},
   "source": [
    "Using the probabilities to build a sort of \"probability confusion matrix\" (this might have a name)."
   ]
  },
  {
   "cell_type": "code",
   "execution_count": 188,
   "metadata": {},
   "outputs": [
    {
     "data": {
      "text/plain": [
       "<matplotlib.colorbar.Colorbar at 0x7f3fa1eb9df0>"
      ]
     },
     "execution_count": 188,
     "metadata": {},
     "output_type": "execute_result"
    },
    {
     "data": {
      "image/png": "[encoded data removed]",
      "text/plain": [
       "<Figure size 288x288 with 2 Axes>"
      ]
     },
     "metadata": {
      "needs_background": "light"
     },
     "output_type": "display_data"
    }
   ],
   "source": [
    "plt.matshow(conf.T)\n",
    "plt.colorbar()"
   ]
  },
  {
   "cell_type": "code",
   "execution_count": 277,
   "metadata": {},
   "outputs": [
    {
     "data": {
      "text/plain": [
       "<matplotlib.colorbar.Colorbar at 0x7f3fa1f59ac0>"
      ]
     },
     "execution_count": 277,
     "metadata": {},
     "output_type": "execute_result"
    },
    {
     "data": {
      "image/png": "[encoded data removed]",
      "text/plain": [
       "<Figure size 288x288 with 2 Axes>"
      ]
     },
     "metadata": {
      "needs_background": "light"
     },
     "output_type": "display_data"
    }
   ],
   "source": [
    "plt.matshow(conf)\n",
    "plt.colorbar()"
   ]
  },
  {
   "cell_type": "code",
   "execution_count": 274,
   "metadata": {},
   "outputs": [],
   "source": [
    "conf = np.zeros([19,19])\n",
    "#count = np.zeros([19,19])\n",
    "for x,a in zip(smXtrain,smYtrain[:,0].astype(int)):\n",
    "    conf[:,a]+=x\n",
    "    #count[:,a]+=1\n",
    "    \n",
    "conf = (conf.T/np.sum(conf,1)).T\n",
    "#conf = (conf/np.sum(conf,0))\n",
    "\n",
    "#conf = conf/count\n",
    "#conf[conf>1]=1\n",
    "#plt.matshow(conf)\n",
    "#plt.colorbar()\n",
    "newprobs = np.zeros_like(smXtest)\n",
    "preds = np.argmax(smXtest,1)\n",
    "for i,p in enumerate(preds):\n",
    "    probs = smXtest[i,:]@conf\n",
    "    #p = np.argmax(probs)\n",
    "    newprobs[i,:] = conf[p,:]"
   ]
  },
  {
   "cell_type": "code",
   "execution_count": 275,
   "metadata": {},
   "outputs": [
    {
     "data": {
      "text/plain": [
       "5263.5786170675565"
      ]
     },
     "execution_count": 275,
     "metadata": {},
     "output_type": "execute_result"
    }
   ],
   "source": [
    "NLPD(smYtest,newprobs)"
   ]
  },
  {
   "cell_type": "code",
   "execution_count": 276,
   "metadata": {},
   "outputs": [
    {
     "data": {
      "text/plain": [
       "2.227997621593037"
      ]
     },
     "execution_count": 276,
     "metadata": {},
     "output_type": "execute_result"
    }
   ],
   "source": [
    "GMNLPD(smYtest,newprobs)"
   ]
  },
  {
   "cell_type": "markdown",
   "metadata": {},
   "source": [
    "So the NLPD is reduced to 5281 from 5655 (6.6% less).\n",
    "\n",
    "I think the benefit might be stronger in the less common speicies, it might be interesting to weight them evenly (at the moment as you mentioned it's not been rebalanced)."
   ]
  },
  {
   "cell_type": "code",
   "execution_count": null,
   "metadata": {},
   "outputs": [],
   "source": []
  }
 ],
 "metadata": {
  "kernelspec": {
   "display_name": "Python 3",
   "language": "python",
   "name": "python3"
  },
  "language_info": {
   "codemirror_mode": {
    "name": "ipython",
    "version": 3
   },
   "file_extension": ".py",
   "mimetype": "text/x-python",
   "name": "python",
   "nbconvert_exporter": "python",
   "pygments_lexer": "ipython3",
   "version": "3.8.3"
  }
 },
 "nbformat": 4,
 "nbformat_minor": 4
}
