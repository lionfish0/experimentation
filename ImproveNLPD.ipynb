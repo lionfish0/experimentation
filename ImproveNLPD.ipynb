{
 "cells": [
  {
   "cell_type": "code",
   "execution_count": 54,
   "metadata": {},
   "outputs": [],
   "source": [
    "import numpy as np\n",
    "import pandas as pd"
   ]
  },
  {
   "cell_type": "code",
   "execution_count": 55,
   "metadata": {},
   "outputs": [],
   "source": [
    "layerXtest = pd.read_csv('Weights2 - 6th  layer/Uk_weights2_X_test.csv',header=None).to_numpy()\n",
    "layerYtest = pd.read_csv('Weights2 - 6th  layer/Uk_weights2_Y_test.csv',header=None).to_numpy()\n",
    "layerXtrain = pd.read_csv('Weights2 - 6th  layer/Uk_weights2_X_validation.csv',header=None).to_numpy()\n",
    "layerYtrain = pd.read_csv('Weights2 - 6th  layer/Uk_weights2_Y_validation.csv',header=None).to_numpy()\n",
    "smXtest = pd.read_csv('Weights2 - Softmax/Uk_weights2_X_test.csv',header=None).to_numpy()\n",
    "smYtest = pd.read_csv('Weights2 - Softmax/Uk_weights2_Y_test.csv',header=None).to_numpy()\n",
    "smXtrain = pd.read_csv('Weights2 - Softmax/Uk_weights2_X_validation.csv',header=None).to_numpy()\n",
    "smYtrain = pd.read_csv('Weights2 - Softmax/Uk_weights2_Y_validation.csv',header=None).to_numpy()"
   ]
  },
  {
   "cell_type": "code",
   "execution_count": 56,
   "metadata": {},
   "outputs": [],
   "source": [
    "def NLPD(actual,predicted):\n",
    "    \"\"\"(normalised) Negative Log Predictive Density\n",
    "    Definition of Negative Log Predictive Density (NLPD):\n",
    "    $$L = -\\frac{1}{n} \\sum_{i=1}^n \\log p(y_i=t_i|\\mathbf{x}_i)$$\n",
    "    See http://mlg.eng.cam.ac.uk/pub/pdf/QuiRasSinetal06.pdf, page 13.\n",
    "    \"This loss penalizes both over and under-confident predictions.\"\n",
    "    but\n",
    "    \"The NLPD loss favours conservative models, that is models that tend to be under-confident\n",
    "    rather than over-confident. This is illustrated in Fig. 7, and canbe deduced from the fact that\n",
    "    logarithms are being used. An interesting way ofusing the NLPD is to give it relative to the NLPD\n",
    "    of a predictor that ignoresthe inputs and always predicts the same Gaussian predictive distribution,\n",
    "    withmean and variance the empirical mean and variance of the training data. Thisrelative NLPD\n",
    "    translates into a gain of information with respect to the simpleGaussian predictor described.\"\n",
    "    \n",
    "    actual = 2d array of indices (Nx1), values are from 0 to D-1.\n",
    "    predicted = 2d array of probabilities (NxD) sum to one along rows.\n",
    "    \"\"\"\n",
    "    assert np.max(np.abs(np.sum(predicted,1)-1))<1e-5 #confirmed every row roughly adds up to one\n",
    "    return -np.sum(np.log(np.take_along_axis(predicted,actual.astype(int),axis=1)))\n",
    "    "
   ]
  },
  {
   "cell_type": "markdown",
   "metadata": {},
   "source": [
    "# CNN solution (softmax)"
   ]
  },
  {
   "cell_type": "code",
   "execution_count": 57,
   "metadata": {},
   "outputs": [
    {
     "data": {
      "text/plain": [
       "5655.690000928037"
      ]
     },
     "execution_count": 57,
     "metadata": {},
     "output_type": "execute_result"
    }
   ],
   "source": [
    "#Deep Neural network\n",
    "NLPD(smYtest,smXtest)"
   ]
  },
  {
   "cell_type": "markdown",
   "metadata": {},
   "source": [
    "Trying to regularise the CNN softmax solution to see if it helps (as we regularise our EUE method, so it's fair to try it here too)."
   ]
  },
  {
   "cell_type": "code",
   "execution_count": 58,
   "metadata": {},
   "outputs": [],
   "source": [
    "tempX = smXtest+0.01\n",
    "tempX=(tempX.T/np.sum(tempX,1)).T"
   ]
  },
  {
   "cell_type": "code",
   "execution_count": 59,
   "metadata": {},
   "outputs": [
    {
     "data": {
      "text/plain": [
       "5764.5842905439085"
      ]
     },
     "execution_count": 59,
     "metadata": {},
     "output_type": "execute_result"
    }
   ],
   "source": [
    "#Deep Neural network\n",
    "NLPD(smYtest,tempX)"
   ]
  },
  {
   "cell_type": "markdown",
   "metadata": {},
   "source": [
    "No it doesn't."
   ]
  },
  {
   "cell_type": "markdown",
   "metadata": {},
   "source": [
    "# Empirical Uncertainty Estimation\n",
    "\n",
    "Using just the confusion matrix"
   ]
  },
  {
   "cell_type": "code",
   "execution_count": 60,
   "metadata": {},
   "outputs": [],
   "source": [
    "import matplotlib.pyplot as plt\n",
    "%matplotlib inline"
   ]
  },
  {
   "cell_type": "code",
   "execution_count": 61,
   "metadata": {},
   "outputs": [],
   "source": [
    "preds = np.argmax(smXtrain,1)\n",
    "conf = np.zeros([19,19])\n",
    "for p,a in zip(preds,smYtrain[:,0].astype(int)):\n",
    "    conf[p,a]+=1.0\n",
    "conf+=0.01\n",
    "conf = (conf.T/np.sum(conf,1)).T\n",
    "#plt.matshow(conf)\n",
    "#plt.colorbar()\n",
    "newprobs = np.zeros_like(smXtest)\n",
    "preds = np.argmax(smXtest,1)\n",
    "for i,p in enumerate(preds):\n",
    "    newprobs[i,:] = conf[p,:]"
   ]
  },
  {
   "cell_type": "code",
   "execution_count": 62,
   "metadata": {},
   "outputs": [
    {
     "data": {
      "text/plain": [
       "5437.860361644256"
      ]
     },
     "execution_count": 62,
     "metadata": {},
     "output_type": "execute_result"
    }
   ],
   "source": [
    "NLPD(smYtest,newprobs)"
   ]
  },
  {
   "cell_type": "markdown",
   "metadata": {},
   "source": [
    "Using the probabilities to build a sort of \"probability confusion matrix\" (this might have a name)."
   ]
  },
  {
   "cell_type": "code",
   "execution_count": 83,
   "metadata": {},
   "outputs": [],
   "source": [
    "conf = np.zeros([19,19])\n",
    "for x,a in zip(smXtrain,smYtrain[:,0].astype(int)):\n",
    "    conf[:,a]+=x\n",
    "conf+=0.05\n",
    "conf = (conf.T/np.sum(conf,1)).T\n",
    "#plt.matshow(conf)\n",
    "#plt.colorbar()\n",
    "newprobs = np.zeros_like(smXtest)\n",
    "preds = np.argmax(smXtest,1)\n",
    "for i,p in enumerate(preds):\n",
    "    newprobs[i,:] = conf[p,:]"
   ]
  },
  {
   "cell_type": "code",
   "execution_count": 84,
   "metadata": {},
   "outputs": [
    {
     "data": {
      "text/plain": [
       "5281.081177818252"
      ]
     },
     "execution_count": 84,
     "metadata": {},
     "output_type": "execute_result"
    }
   ],
   "source": [
    "NLPD(smYtest,newprobs)"
   ]
  },
  {
   "cell_type": "markdown",
   "metadata": {},
   "source": [
    "So the NLPD is reduced to 5281 from 5655 (6.6% less).\n",
    "\n",
    "I think the benefit might be stronger in the less common speicies, it might be interesting to weight them evenly (at the moment as you mentioned it's not been rebalanced)."
   ]
  },
  {
   "cell_type": "code",
   "execution_count": null,
   "metadata": {},
   "outputs": [],
   "source": []
  }
 ],
 "metadata": {
  "kernelspec": {
   "display_name": "Python 3",
   "language": "python",
   "name": "python3"
  },
  "language_info": {
   "codemirror_mode": {
    "name": "ipython",
    "version": 3
   },
   "file_extension": ".py",
   "mimetype": "text/x-python",
   "name": "python",
   "nbconvert_exporter": "python",
   "pygments_lexer": "ipython3",
   "version": "3.8.3"
  }
 },
 "nbformat": 4,
 "nbformat_minor": 4
}
