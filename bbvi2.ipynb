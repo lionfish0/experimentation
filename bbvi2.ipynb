{
 "cells": [
  {
   "cell_type": "code",
   "execution_count": 1,
   "metadata": {},
   "outputs": [
    {
     "name": "stderr",
     "output_type": "stream",
     "text": [
      "/home/mike/anaconda3/lib/python3.6/site-packages/tensorflow/python/framework/dtypes.py:516: FutureWarning: Passing (type, 1) or '1type' as a synonym of type is deprecated; in a future version of numpy, it will be understood as (type, (1,)) / '(1,)type'.\n",
      "  _np_qint8 = np.dtype([(\"qint8\", np.int8, 1)])\n",
      "/home/mike/anaconda3/lib/python3.6/site-packages/tensorflow/python/framework/dtypes.py:517: FutureWarning: Passing (type, 1) or '1type' as a synonym of type is deprecated; in a future version of numpy, it will be understood as (type, (1,)) / '(1,)type'.\n",
      "  _np_quint8 = np.dtype([(\"quint8\", np.uint8, 1)])\n",
      "/home/mike/anaconda3/lib/python3.6/site-packages/tensorflow/python/framework/dtypes.py:518: FutureWarning: Passing (type, 1) or '1type' as a synonym of type is deprecated; in a future version of numpy, it will be understood as (type, (1,)) / '(1,)type'.\n",
      "  _np_qint16 = np.dtype([(\"qint16\", np.int16, 1)])\n",
      "/home/mike/anaconda3/lib/python3.6/site-packages/tensorflow/python/framework/dtypes.py:519: FutureWarning: Passing (type, 1) or '1type' as a synonym of type is deprecated; in a future version of numpy, it will be understood as (type, (1,)) / '(1,)type'.\n",
      "  _np_quint16 = np.dtype([(\"quint16\", np.uint16, 1)])\n",
      "/home/mike/anaconda3/lib/python3.6/site-packages/tensorflow/python/framework/dtypes.py:520: FutureWarning: Passing (type, 1) or '1type' as a synonym of type is deprecated; in a future version of numpy, it will be understood as (type, (1,)) / '(1,)type'.\n",
      "  _np_qint32 = np.dtype([(\"qint32\", np.int32, 1)])\n",
      "/home/mike/anaconda3/lib/python3.6/site-packages/tensorflow/python/framework/dtypes.py:525: FutureWarning: Passing (type, 1) or '1type' as a synonym of type is deprecated; in a future version of numpy, it will be understood as (type, (1,)) / '(1,)type'.\n",
      "  np_resource = np.dtype([(\"resource\", np.ubyte, 1)])\n",
      "/home/mike/anaconda3/lib/python3.6/site-packages/h5py/__init__.py:36: FutureWarning: Conversion of the second argument of issubdtype from `float` to `np.floating` is deprecated. In future, it will be treated as `np.float64 == np.dtype(float).type`.\n",
      "  from ._conv import register_converters as _register_converters\n",
      "/home/mike/anaconda3/lib/python3.6/site-packages/tensorboard/compat/tensorflow_stub/dtypes.py:541: FutureWarning: Passing (type, 1) or '1type' as a synonym of type is deprecated; in a future version of numpy, it will be understood as (type, (1,)) / '(1,)type'.\n",
      "  _np_qint8 = np.dtype([(\"qint8\", np.int8, 1)])\n",
      "/home/mike/anaconda3/lib/python3.6/site-packages/tensorboard/compat/tensorflow_stub/dtypes.py:542: FutureWarning: Passing (type, 1) or '1type' as a synonym of type is deprecated; in a future version of numpy, it will be understood as (type, (1,)) / '(1,)type'.\n",
      "  _np_quint8 = np.dtype([(\"quint8\", np.uint8, 1)])\n",
      "/home/mike/anaconda3/lib/python3.6/site-packages/tensorboard/compat/tensorflow_stub/dtypes.py:543: FutureWarning: Passing (type, 1) or '1type' as a synonym of type is deprecated; in a future version of numpy, it will be understood as (type, (1,)) / '(1,)type'.\n",
      "  _np_qint16 = np.dtype([(\"qint16\", np.int16, 1)])\n",
      "/home/mike/anaconda3/lib/python3.6/site-packages/tensorboard/compat/tensorflow_stub/dtypes.py:544: FutureWarning: Passing (type, 1) or '1type' as a synonym of type is deprecated; in a future version of numpy, it will be understood as (type, (1,)) / '(1,)type'.\n",
      "  _np_quint16 = np.dtype([(\"quint16\", np.uint16, 1)])\n",
      "/home/mike/anaconda3/lib/python3.6/site-packages/tensorboard/compat/tensorflow_stub/dtypes.py:545: FutureWarning: Passing (type, 1) or '1type' as a synonym of type is deprecated; in a future version of numpy, it will be understood as (type, (1,)) / '(1,)type'.\n",
      "  _np_qint32 = np.dtype([(\"qint32\", np.int32, 1)])\n",
      "/home/mike/anaconda3/lib/python3.6/site-packages/tensorboard/compat/tensorflow_stub/dtypes.py:550: FutureWarning: Passing (type, 1) or '1type' as a synonym of type is deprecated; in a future version of numpy, it will be understood as (type, (1,)) / '(1,)type'.\n",
      "  np_resource = np.dtype([(\"resource\", np.ubyte, 1)])\n"
     ]
    }
   ],
   "source": [
    "from scipy.special import erf\n",
    "import numpy as np\n",
    "np.set_printoptions(precision=3)\n",
    "import matplotlib.pyplot as plt\n",
    "%matplotlib inline\n",
    "import tensorflow as tf\n",
    "import tensorflow_probability as tfp\n",
    "from tensorflow_probability import distributions as tfd\n",
    "\n",
    "kernel = tfp.math.psd_kernels.ExponentiatedQuadratic(amplitude=1.0,length_scale=2.0)\n",
    "\n",
    "trainingX = tf.Variable(np.array([[1.0,2,3,4,5]]).T,dtype=tf.float32)\n",
    "trainingY = tf.Variable(np.array([[1.0,2,3,4,5]]).T-3,dtype=tf.float32)\n",
    "inducingX = tf.Variable(np.array([1.0,3.5,5.0])[:,None],dtype=tf.float32)\n",
    "testX = tf.Variable(np.array([[1.1,3.9]]).T,dtype=tf.float32)\n",
    "testY = tf.Variable(np.array([[1,4]]).T,dtype=tf.float32)\n",
    "\n",
    "sigmasqr = 2.0**2\n",
    "invsigmasqr = 1/sigmasqr\n",
    "\n",
    "def drawcontour(pdist,xmin=-5,xmax=10,ymin=-5,ymax=10,delta=0.1):\n",
    "    x = np.arange(xmin, xmax, delta,dtype=np.float32)\n",
    "    y = np.arange(ymin, ymax, delta,dtype=np.float32)\n",
    "    X, Y = np.meshgrid(x, y)\n",
    "    plt.contour(x,y,pdist(np.vstack([X.flatten(),Y.flatten()]).T).numpy().reshape(X.shape[0],X.shape[1]))\n",
    "    \n",
    "def drawellipse(mu,cov,stds=[2],col='k'):\n",
    "    \"\"\"\n",
    "    mu = mean vector\n",
    "    cov = covariance matrix\n",
    "    col = colour\n",
    "    \"\"\"\n",
    "    #based on https://stackoverflow.com/questions/20126061/creating-a-confidence-ellipses-in-a-sccatterplot-using-matplotlib\n",
    "    lambda_, v = np.linalg.eig(cov)\n",
    "    lambda_ = np.sqrt(lambda_)\n",
    "    from matplotlib.patches import Ellipse\n",
    "    import matplotlib.pyplot as plt\n",
    "    ax = plt.subplot(111, aspect='equal')\n",
    "    plt.plot([mu[0],mu[0]+v[0,0]],[mu[1],mu[1]+v[0,1]])\n",
    "    for j in stds:\n",
    "        ell = Ellipse(xy=mu,\n",
    "                      width=lambda_[0]*j*2, height=lambda_[1]*j*2,\n",
    "                      angle=np.rad2deg(np.arctan2(v[0,0],v[1,0])),color=col,lw=2)\n",
    "        ell.set_facecolor('none')\n",
    "        ax.add_artist(ell)  "
   ]
  },
  {
   "cell_type": "code",
   "execution_count": 2,
   "metadata": {},
   "outputs": [],
   "source": [
    "u = np.array([[1,2,3.0],[1,2,3],[3,4,5],[5,4,2]],dtype=np.float32)\n",
    "Knm = kernel.matrix(trainingX,inducingX)\n",
    "Kmn = tf.transpose(Knm)\n",
    "Kmm = kernel.matrix(inducingX,inducingX)\n",
    "mean = Knm @ tf.linalg.solve(Kmm,tf.transpose(u))\n",
    "Knn = kernel.matrix(trainingX,trainingX) #to do - need to just use diagonal here. \n",
    "cov = Knn - Knm @ tf.linalg.solve(Kmm,Kmn)\n",
    "#dist = tfd.Normal(mean,np.diag(cov)+1e-6) #tfd.MultivariateNormalFullCovariance(tf.transpose(mean),np.diag(cov)+1e-1)#np.eye(mean.shape[0])*1e-6))\n",
    "#dist.log_prob(trainingY[:,0])\n",
    "\n",
    "\n"
   ]
  },
  {
   "cell_type": "code",
   "execution_count": 3,
   "metadata": {},
   "outputs": [],
   "source": [
    "np.set_printoptions(precision=2,suppress=True)\n",
    "def logpdist(u):\n",
    "    \"\"\"This returns p(y|u=u) which is proportional to p(u|y).\n",
    "    The surrogate returns q(u)~multivariate Gaussian.\"\"\"\n",
    "    Knm = kernel.matrix(trainingX,inducingX)\n",
    "    Kmn = tf.transpose(Knm)\n",
    "    Kmm = kernel.matrix(inducingX,inducingX)\n",
    "    mean = Knm @ tf.linalg.solve(Kmm,tf.transpose(u))\n",
    "    Knn = kernel.matrix(trainingX,trainingX) #to do - need to just use diagonal here. \n",
    "    cov = Knn - Knm @ tf.linalg.solve(Kmm,Kmn) #ditto\n",
    "    #print(cov)\n",
    "    dist = tfd.MultivariateNormalDiag(tf.transpose(mean),np.diag(cov)+1e-6) #tfd.MultivariateNormalFullCovariance(tf.transpose(mean),np.diag(cov)+1e-1)#np.eye(mean.shape[0])*1e-6))\n",
    "    prior = tfd.MultivariateNormalFullCovariance(tf.zeros(inducingX.shape[0]),Kmm)\n",
    "    return dist.log_prob(trainingY[:,0])#+prior.log_prob(u)\n",
    "\n",
    "def maybe_surrogate_posterior():\n",
    "    #So if i understand, in your surrogate_posterior you actually want it to return q(f) so you can evaluate the expected log likelihood, ie it should return:\n",
    "    #q(f) = N(f | mean, cov)\n",
    "    #mean=K(X, Z)K(Z, Z)^{-1} \\mu = Knm Kmm^-1 mu\n",
    "    #cov=K(X, X) - K(X, Z)K(Z, Z)^{-1}K(Z, X) + K(X, Z)K(Z, Z)^{-1} \\Sigma K(Z, Z)^{-1}K(Z, X)\n",
    "    #  = Knn - Knm Kmm^-1 Kmn + Knm Kmm^-1 Sigma Kmm^-1 Kmn\n",
    "\n",
    "    Knm = kernel.matrix(trainingX,inducingX)\n",
    "    Kmn = tf.transpose(Knm)\n",
    "    Kmm = kernel.matrix(inducingX,inducingX)\n",
    "    marginal_mean = Knm @ tf.linalg.solve(Kmm,mu[:,None])\n",
    "    Knn = kernel.matrix(trainingX,trainingX) #to do - need to just use diagonal here. \n",
    "    cov = Knn - Knm @ tf.linalg.solve(Kmm,Kmn) #ditto\n",
    "    A = Knm @ np.linalg.inv(Kmm)\n",
    "    \n",
    "    marginal_cov = cov + A @ (scale @ tf.transpose(scale)) @ tf.transpose(A)\n",
    "    print(marginal_mean,marginal_cov)\n",
    "    return tfd.MultivariateNormalFullCovariance(marginal_mean[:,0],marginal_cov)\n",
    "def surrogate_posterior():\n",
    "    return tfd.MultivariateNormalTriL(mu,scale_tril=scale)"
   ]
  },
  {
   "cell_type": "code",
   "execution_count": 9,
   "metadata": {},
   "outputs": [
    {
     "data": {
      "text/plain": [
       "<tfp.distributions.MultivariateNormalTriL 'MultivariateNormalTriL' batch_shape=[] event_shape=[3] dtype=float32>"
      ]
     },
     "execution_count": 9,
     "metadata": {},
     "output_type": "execute_result"
    }
   ],
   "source": [
    "dist = surrogate_posterior()\n",
    "dist"
   ]
  },
  {
   "cell_type": "code",
   "execution_count": 10,
   "metadata": {},
   "outputs": [
    {
     "name": "stdout",
     "output_type": "stream",
     "text": [
      "tf.Tensor(\n",
      "[[-1.  ]\n",
      " [ 0.  ]\n",
      " [ 1.  ]\n",
      " [ 1.42]\n",
      " [ 1.2 ]], shape=(5, 1), dtype=float32) tf.Tensor(\n",
      "[[ 5.16  0.41 -2.03 -1.49 -0.03]\n",
      " [ 0.41  5.19  1.84 -5.47 -9.36]\n",
      " [-2.03  1.84  3.91  3.4   1.77]\n",
      " [-1.49 -5.47  3.4  16.34 21.21]\n",
      " [-0.03 -9.36  1.77 21.21 29.87]], shape=(5, 5), dtype=float32)\n"
     ]
    },
    {
     "data": {
      "text/plain": [
       "<tfp.distributions.MultivariateNormalFullCovariance 'MultivariateNormalFullCovariance' batch_shape=[] event_shape=[5] dtype=float32>"
      ]
     },
     "execution_count": 10,
     "metadata": {},
     "output_type": "execute_result"
    }
   ],
   "source": [
    "dist = maybe_surrogate_posterior()\n",
    "dist"
   ]
  },
  {
   "cell_type": "code",
   "execution_count": 23,
   "metadata": {},
   "outputs": [
    {
     "ename": "TypeError",
     "evalue": "logpdist() missing 1 required positional argument: 'u'",
     "output_type": "error",
     "traceback": [
      "\u001b[0;31m---------------------------------------------------------------------------\u001b[0m",
      "\u001b[0;31mTypeError\u001b[0m                                 Traceback (most recent call last)",
      "\u001b[0;32m<ipython-input-23-1e2c72ccc5b2>\u001b[0m in \u001b[0;36m<module>\u001b[0;34m()\u001b[0m\n\u001b[0;32m----> 1\u001b[0;31m \u001b[0mlogpdist\u001b[0m\u001b[0;34m(\u001b[0m\u001b[0;34m)\u001b[0m\u001b[0;34m\u001b[0m\u001b[0;34m\u001b[0m\u001b[0m\n\u001b[0m",
      "\u001b[0;31mTypeError\u001b[0m: logpdist() missing 1 required positional argument: 'u'"
     ]
    }
   ],
   "source": [
    "logpdist()"
   ]
  },
  {
   "cell_type": "code",
   "execution_count": 60,
   "metadata": {},
   "outputs": [
    {
     "data": {
      "text/plain": [
       "<tf.Tensor: id=2570385, shape=(10, 3), dtype=float32, numpy=\n",
       "array([[-2.  , -1.  ,  0.01],\n",
       "       [-2.  , -1.  ,  0.01],\n",
       "       [-2.  , -1.  ,  0.  ],\n",
       "       [-2.  , -1.  ,  0.01],\n",
       "       [-2.  , -1.  ,  0.01],\n",
       "       [-2.  , -1.  ,  0.01],\n",
       "       [-2.  , -1.  ,  0.01],\n",
       "       [-2.  , -1.  ,  0.01],\n",
       "       [-2.  , -1.  ,  0.01],\n",
       "       [-2.  , -1.  ,  0.01]], dtype=float32)>"
      ]
     },
     "execution_count": 60,
     "metadata": {},
     "output_type": "execute_result"
    }
   ],
   "source": [
    "surrogate_posterior().sample(10)"
   ]
  },
  {
   "cell_type": "code",
   "execution_count": 67,
   "metadata": {},
   "outputs": [],
   "source": [
    "inducingX = tf.Variable(np.array([1,2,3.0])[:,None],dtype=tf.float32)\n",
    "mu = tf.Variable(np.array([-1,0,1.0]),dtype=tf.float32)\n",
    "scale = tf.Variable(np.random.randn(3,3),dtype=tf.float32)"
   ]
  },
  {
   "cell_type": "code",
   "execution_count": 68,
   "metadata": {
    "scrolled": false
   },
   "outputs": [
    {
     "name": "stdout",
     "output_type": "stream",
     "text": [
      "[5.48 0.66 4.35 0.66 3.28 1.28 4.35 1.28 3.65] [-1.17 -0.17  0.83] 3656082800000.0[[1. 2. 3.]]\n",
      "[5.28 0.56 3.84 0.56 3.23 1.12 3.84 1.12 2.95] [-1.3 -0.3  0.7] 2697049400000.0[[1. 2. 3.]]\n",
      "[5.14 0.49 3.46 0.49 3.19 1.   3.46 1.   2.48] [-1.4 -0.4  0.6] 2256385300000.0[[1. 2. 3.]]\n",
      "[5.04 0.44 3.19 0.44 3.16 0.91 3.19 0.91 2.15] [-1.47 -0.47  0.53] 1837498400000.0[[1. 2. 3.]]\n",
      "[4.98 0.41 2.99 0.41 3.14 0.85 2.99 0.85 1.92] [-1.53 -0.53  0.47] 1606593000000.0[[1. 2. 3.]]\n",
      "[4.93 0.39 2.84 0.39 3.13 0.8  2.84 0.8  1.76] [-1.57 -0.57  0.43] 1433812100000.0[[1. 2. 3.]]\n",
      "[4.89 0.37 2.73 0.37 3.12 0.77 2.73 0.77 1.64] [-1.6 -0.6  0.4] 1349973400000.0[[1. 2. 3.]]\n",
      "[4.87 0.36 2.64 0.36 3.11 0.74 2.64 0.74 1.55] [-1.62 -0.62  0.38] 1248337700000.0[[1. 2. 3.]]\n"
     ]
    }
   ],
   "source": [
    "discrepancy_fn = tfp.vi.kl_reverse\n",
    "optimizer = tf.keras.optimizers.Adam(learning_rate=0.005)\n",
    "innerloopits = 20\n",
    "fullits = 8\n",
    "\n",
    "lr = 0.04\n",
    "for it in range(fullits):\n",
    "    lr = lr * 0.1**(1/fullits)\n",
    "    #optimizer.learning_rate = optimizer.learning_rate.numpy() * 0.1**(1/fullits)\n",
    "    for innerit in range(innerloopits):\n",
    "        with tf.GradientTape() as tape:\n",
    "            elbo_loss = tfp.vi.monte_carlo_variational_loss(logpdist,surrogate_posterior(),sample_size=2000,discrepancy_fn=discrepancy_fn,use_reparametrization=True)\n",
    "        \n",
    "        #take turns optimising?\n",
    "        if innerit<innerloopits/2:\n",
    "            vargradients = tape.gradient(elbo_loss, [mu,scale])\n",
    "            #optimizer.apply_gradients(zip(vargradients, [mu,scale]))\n",
    "            mu.assign(mu-vargradients[0]/np.sqrt(np.sum(vargradients[0]**2))*lr)\n",
    "            scale.assign(scale-vargradients[1]/np.sqrt(np.sum(vargradients[1]**2))*lr)\n",
    "          #  print(vargradients)\n",
    "        else:\n",
    "            indgradients = tape.gradient(elbo_loss, [inducingX])\n",
    "            #print(indgradients[0].numpy())\n",
    "            #print(inducingX)\n",
    "     ##       inducingX.assign(inducingX-indgradients[0]/np.sqrt(np.sum(indgradients[0]**2))*lr)\n",
    "            #print(inducingX)\n",
    "            #inducingX=inducingX+indgradients[0].numpy()*1e-6\n",
    "            #optimizer.apply_gradients(zip(indgradients, [inducingX]))\n",
    "            \n",
    "        \n",
    "    #if it%50==0: \n",
    "    print(((scale.numpy())@(scale.numpy().T)).flatten(),mu.numpy().T,elbo_loss.numpy(),end=\"\")\n",
    "    print(inducingX.numpy().T)\n"
   ]
  },
  {
   "cell_type": "code",
   "execution_count": 69,
   "metadata": {},
   "outputs": [
    {
     "data": {
      "text/plain": [
       "<tf.Variable 'Variable:0' shape=(3, 1) dtype=float32, numpy=\n",
       "array([[1.],\n",
       "       [2.],\n",
       "       [3.]], dtype=float32)>"
      ]
     },
     "execution_count": 69,
     "metadata": {},
     "output_type": "execute_result"
    }
   ],
   "source": [
    "\n",
    "inducingX"
   ]
  },
  {
   "cell_type": "code",
   "execution_count": null,
   "metadata": {},
   "outputs": [],
   "source": []
  },
  {
   "cell_type": "code",
   "execution_count": 70,
   "metadata": {},
   "outputs": [],
   "source": [
    "cov = (scale @ tf.transpose(scale)).numpy()\n",
    "Kmm = kernel.matrix(inducingX,inducingX)\n",
    "invcov = np.linalg.inv(cov)\n",
    "xstar = np.linspace(-10,20,150)[:,None]\n",
    "invkmm = np.linalg.inv(Kmm) \n",
    "A = kernel.matrix(xstar, inducingX) @ invkmm\n",
    "Linv = kernel.matrix(xstar,xstar) - kernel.matrix(xstar,inducingX) @ invkmm @ kernel.matrix(inducingX,xstar)\n",
    "meanstar = A @ mu.numpy()[:,None]\n",
    "covstar = Linv + A @ cov @ tf.transpose(A)\n"
   ]
  },
  {
   "cell_type": "code",
   "execution_count": 71,
   "metadata": {},
   "outputs": [
    {
     "data": {
      "image/png": "[encoded data removed]",
      "text/plain": [
       "<Figure size 432x288 with 1 Axes>"
      ]
     },
     "metadata": {},
     "output_type": "display_data"
    }
   ],
   "source": [
    "plt.plot(xstar,meanstar,'-k')\n",
    "plt.plot(xstar,meanstar[:,0] - 2*np.sqrt(np.diag(covstar)),'-b')\n",
    "plt.plot(xstar,meanstar[:,0] + 2*np.sqrt(np.diag(covstar)),'-b')\n",
    "plt.plot(inducingX.numpy(),inducingX.numpy()*0,'.r',markersize=2)\n",
    "plt.plot(inducingX.numpy(),mu.numpy(),'.r',markersize=20)\n",
    "plt.plot(trainingX.numpy(),trainingY.numpy(),'xk',markersize=20)\n",
    "plt.ylim([-7,7])\n",
    "plt.xlim([-6,12])\n",
    "plt.savefig('weird.png')"
   ]
  },
  {
   "cell_type": "code",
   "execution_count": 53,
   "metadata": {},
   "outputs": [
    {
     "data": {
      "text/plain": [
       "<tf.Variable 'Variable:0' shape=(3,) dtype=float32, numpy=array([-2.  , -1.  ,  0.01], dtype=float32)>"
      ]
     },
     "execution_count": 53,
     "metadata": {},
     "output_type": "execute_result"
    }
   ],
   "source": [
    "mu"
   ]
  },
  {
   "cell_type": "code",
   "execution_count": 54,
   "metadata": {},
   "outputs": [
    {
     "data": {
      "text/plain": [
       "array([[ 1.62, -1.83,  0.  ],\n",
       "       [-1.83,  3.45, -0.  ],\n",
       "       [ 0.  , -0.  ,  0.  ]], dtype=float32)"
      ]
     },
     "execution_count": 54,
     "metadata": {},
     "output_type": "execute_result"
    }
   ],
   "source": [
    "cov"
   ]
  },
  {
   "cell_type": "code",
   "execution_count": 56,
   "metadata": {},
   "outputs": [
    {
     "name": "stdout",
     "output_type": "stream",
     "text": [
      "nothing to optimize\n"
     ]
    },
    {
     "data": {
      "text/html": [
       "<style type=\"text/css\">\n",
       ".tg  {padding:2px 3px;word-break:normal;border-collapse:collapse;border-spacing:0;border-color:#DCDCDC;margin:0px auto;width:100%;}\n",
       ".tg td{font-family:\"Courier New\", Courier, monospace !important;font-weight:bold;color:#444;background-color:#F7FDFA;border-style:solid;border-width:1px;overflow:hidden;word-break:normal;border-color:#DCDCDC;}\n",
       ".tg th{font-family:\"Courier New\", Courier, monospace !important;font-weight:normal;color:#fff;background-color:#26ADE4;border-style:solid;border-width:1px;overflow:hidden;word-break:normal;border-color:#DCDCDC;}\n",
       ".tg .tg-left{font-family:\"Courier New\", Courier, monospace !important;font-weight:normal;text-align:left;}\n",
       ".tg .tg-right{font-family:\"Courier New\", Courier, monospace !important;font-weight:normal;text-align:right;}\n",
       "</style>\n",
       "<table class=\"tg\">\n",
       "\n",
       "<tr>\n",
       "  <th><b>index</b></th>\n",
       "  <th><b>sparse_gp.inducing_inputs</b></th>\n",
       "  <th><b>constraints</b></th><th><b>priors</b></th>\n",
       "</tr>\n",
       "<tr><td class=tg-left>  [0 0]</td><td class=tg-right>                     1.00</td><td class=tg-left>   fixed   </td><td class=tg-left>      </td></tr>\n",
       "<tr><td class=tg-left>  [1 0]</td><td class=tg-right>                     2.00</td><td class=tg-left>   fixed   </td><td class=tg-left>      </td></tr>\n",
       "<tr><td class=tg-left>  [2 0]</td><td class=tg-right>                     3.00</td><td class=tg-left>   fixed   </td><td class=tg-left>      </td></tr>"
      ],
      "text/plain": [
       "\u001b[1msparse_gp.inducing_inputs\u001b[0;0m:\n",
       "Param([[1.],\n",
       "       [2.],\n",
       "       [3.]])"
      ]
     },
     "execution_count": 56,
     "metadata": {},
     "output_type": "execute_result"
    }
   ],
   "source": [
    "import GPy\n",
    "m = GPy.models.SparseGPRegression(X=trainingX.numpy(),Y=trainingY.numpy(),kernel=GPy.kern.RBF(1,lengthscale=0.1),Z=np.array([1,2,3])[:,None])\n",
    "m.Z.fix()\n",
    "m.Gaussian_noise.fix(1e-6)\n",
    "m.rbf.variance.fix(1.0)\n",
    "m.rbf.lengthscale.fix(2.0)\n",
    "m.optimize()\n",
    "m.inducing_inputs"
   ]
  },
  {
   "cell_type": "code",
   "execution_count": 58,
   "metadata": {},
   "outputs": [
    {
     "data": {
      "text/html": [
       "<style type=\"text/css\">\n",
       ".pd{\n",
       "    font-family: \"Courier New\", Courier, monospace !important;\n",
       "    width: 100%;\n",
       "    padding: 3px;\n",
       "}\n",
       "</style>\n",
       "\n",
       "<p class=pd>\n",
       "<b>Model</b>: sparse_gp<br>\n",
       "<b>Objective</b>: 356404.32168732025<br>\n",
       "<b>Number of Parameters</b>: 6<br>\n",
       "<b>Number of Optimization Parameters</b>: 0<br>\n",
       "<b>Updates</b>: True<br>\n",
       "</p>\n",
       "<style type=\"text/css\">\n",
       ".tg  {font-family:\"Courier New\", Courier, monospace !important;padding:2px 3px;word-break:normal;border-collapse:collapse;border-spacing:0;border-color:#DCDCDC;margin:0px auto;width:100%;}\n",
       ".tg td{font-family:\"Courier New\", Courier, monospace !important;font-weight:bold;color:#444;background-color:#F7FDFA;border-style:solid;border-width:1px;overflow:hidden;word-break:normal;border-color:#DCDCDC;}\n",
       ".tg th{font-family:\"Courier New\", Courier, monospace !important;font-weight:normal;color:#fff;background-color:#26ADE4;border-style:solid;border-width:1px;overflow:hidden;word-break:normal;border-color:#DCDCDC;}\n",
       ".tg .tg-left{font-family:\"Courier New\", Courier, monospace !important;font-weight:normal;text-align:left;}\n",
       ".tg .tg-center{font-family:\"Courier New\", Courier, monospace !important;font-weight:normal;text-align:center;}\n",
       ".tg .tg-right{font-family:\"Courier New\", Courier, monospace !important;font-weight:normal;text-align:right;}\n",
       "</style>\n",
       "<table class=\"tg\"><tr><th><b>  sparse_gp.             </b></th><th><b> value</b></th><th><b>constraints</b></th><th><b>priors</b></th></tr>\n",
       "<tr><td class=tg-left>  inducing inputs        </td><td class=tg-right>(3, 1)</td><td class=tg-center>   fixed   </td><td class=tg-center>      </td></tr>\n",
       "<tr><td class=tg-left>  rbf.variance           </td><td class=tg-right>   1.0</td><td class=tg-center> +ve fixed </td><td class=tg-center>      </td></tr>\n",
       "<tr><td class=tg-left>  rbf.lengthscale        </td><td class=tg-right>   2.0</td><td class=tg-center> +ve fixed </td><td class=tg-center>      </td></tr>\n",
       "<tr><td class=tg-left>  Gaussian_noise.variance</td><td class=tg-right> 1e-06</td><td class=tg-center> +ve fixed </td><td class=tg-center>      </td></tr>\n",
       "</table>"
      ],
      "text/plain": [
       "<GPy.models.sparse_gp_regression.SparseGPRegression at 0x7f944cfb3ac8>"
      ]
     },
     "execution_count": 58,
     "metadata": {},
     "output_type": "execute_result"
    }
   ],
   "source": [
    "m"
   ]
  },
  {
   "cell_type": "code",
   "execution_count": 57,
   "metadata": {},
   "outputs": [
    {
     "name": "stderr",
     "output_type": "stream",
     "text": [
      " /home/mike/anaconda3/lib/python3.6/site-packages/matplotlib/figure.py:2366: UserWarning:This figure includes Axes that are not compatible with tight_layout, so results might be incorrect.\n"
     ]
    },
    {
     "data": {
      "image/png": "[encoded data removed]",
      "text/plain": [
       "<Figure size 432x288 with 1 Axes>"
      ]
     },
     "metadata": {},
     "output_type": "display_data"
    }
   ],
   "source": [
    "m.plot(plot_limits=[-2,8])\n",
    "plt.plot(xstar,meanstar,'-k')\n",
    "plt.plot(xstar,meanstar[:,0] - 2*np.sqrt(np.diag(covstar)),'-b')\n",
    "plt.plot(xstar,meanstar[:,0] + 2*np.sqrt(np.diag(covstar)),'-b')\n",
    "plt.ylim([-3,3])\n",
    "plt.plot(inducingX.numpy(),inducingX.numpy()*0,'.r',markersize=2)\n",
    "plt.plot(inducingX.numpy(),mu.numpy(),'.r',markersize=20)\n",
    "plt.title('Optimising inducing points, medium lengthscale')\n",
    "plt.savefig('demo4.png')"
   ]
  },
  {
   "cell_type": "code",
   "execution_count": 32,
   "metadata": {},
   "outputs": [
    {
     "name": "stdout",
     "output_type": "stream",
     "text": [
      "[[ 1.12 -0.16  0.  ]\n",
      " [-0.16  0.7  -0.01]\n",
      " [ 0.   -0.01  0.  ]]\n"
     ]
    },
    {
     "ename": "NameError",
     "evalue": "name 'pdist' is not defined",
     "output_type": "error",
     "traceback": [
      "\u001b[0;31m---------------------------------------------------------------------------\u001b[0m",
      "\u001b[0;31mNameError\u001b[0m                                 Traceback (most recent call last)",
      "\u001b[0;32m<ipython-input-32-2a07e591be52>\u001b[0m in \u001b[0;36m<module>\u001b[0;34m()\u001b[0m\n\u001b[1;32m      3\u001b[0m \u001b[0mplt\u001b[0m\u001b[0;34m.\u001b[0m\u001b[0mfigure\u001b[0m\u001b[0;34m(\u001b[0m\u001b[0mfigsize\u001b[0m\u001b[0;34m=\u001b[0m\u001b[0;34m[\u001b[0m\u001b[0;36m7\u001b[0m\u001b[0;34m,\u001b[0m\u001b[0;36m7\u001b[0m\u001b[0;34m]\u001b[0m\u001b[0;34m)\u001b[0m\u001b[0;34m\u001b[0m\u001b[0;34m\u001b[0m\u001b[0m\n\u001b[1;32m      4\u001b[0m \u001b[0mdrawellipse\u001b[0m\u001b[0;34m(\u001b[0m\u001b[0mmu\u001b[0m\u001b[0;34m.\u001b[0m\u001b[0mnumpy\u001b[0m\u001b[0;34m(\u001b[0m\u001b[0;34m)\u001b[0m\u001b[0;34m,\u001b[0m\u001b[0mcov\u001b[0m\u001b[0;34m,\u001b[0m\u001b[0mcol\u001b[0m\u001b[0;34m=\u001b[0m\u001b[0;34m'k'\u001b[0m\u001b[0;34m,\u001b[0m\u001b[0mstds\u001b[0m\u001b[0;34m=\u001b[0m\u001b[0;34m[\u001b[0m\u001b[0;36m1\u001b[0m\u001b[0;34m,\u001b[0m\u001b[0;36m2\u001b[0m\u001b[0;34m]\u001b[0m\u001b[0;34m)\u001b[0m\u001b[0;34m\u001b[0m\u001b[0;34m\u001b[0m\u001b[0m\n\u001b[0;32m----> 5\u001b[0;31m \u001b[0mdrawcontour\u001b[0m\u001b[0;34m(\u001b[0m\u001b[0mpdist\u001b[0m\u001b[0;34m,\u001b[0m\u001b[0mxmin\u001b[0m\u001b[0;34m=\u001b[0m\u001b[0;34m-\u001b[0m\u001b[0;36m3\u001b[0m\u001b[0;34m,\u001b[0m\u001b[0mxmax\u001b[0m\u001b[0;34m=\u001b[0m\u001b[0;36m3\u001b[0m\u001b[0;34m,\u001b[0m\u001b[0mymin\u001b[0m\u001b[0;34m=\u001b[0m\u001b[0;34m-\u001b[0m\u001b[0;36m3\u001b[0m\u001b[0;34m,\u001b[0m\u001b[0mymax\u001b[0m\u001b[0;34m=\u001b[0m\u001b[0;36m3\u001b[0m\u001b[0;34m,\u001b[0m\u001b[0mdelta\u001b[0m\u001b[0;34m=\u001b[0m\u001b[0;36m0.01\u001b[0m\u001b[0;34m)\u001b[0m\u001b[0;34m\u001b[0m\u001b[0;34m\u001b[0m\u001b[0m\n\u001b[0m\u001b[1;32m      6\u001b[0m \u001b[0mplt\u001b[0m\u001b[0;34m.\u001b[0m\u001b[0mgrid\u001b[0m\u001b[0;34m(\u001b[0m\u001b[0;34m)\u001b[0m\u001b[0;34m\u001b[0m\u001b[0;34m\u001b[0m\u001b[0m\n\u001b[1;32m      7\u001b[0m \u001b[0mplt\u001b[0m\u001b[0;34m.\u001b[0m\u001b[0maxis\u001b[0m\u001b[0;34m(\u001b[0m\u001b[0;34m'equal'\u001b[0m\u001b[0;34m)\u001b[0m\u001b[0;34m\u001b[0m\u001b[0;34m\u001b[0m\u001b[0m\n",
      "\u001b[0;31mNameError\u001b[0m: name 'pdist' is not defined"
     ]
    },
    {
     "data": {
      "image/png": "[encoded data removed]",
      "text/plain": [
       "<Figure size 504x504 with 1 Axes>"
      ]
     },
     "metadata": {},
     "output_type": "display_data"
    }
   ],
   "source": [
    "cov = scale.numpy() @ scale.numpy().T\n",
    "print(cov)\n",
    "plt.figure(figsize=[7,7])\n",
    "drawellipse(mu.numpy(),cov,col='k',stds=[1,2])\n",
    "drawcontour(pdist,xmin=-3,xmax=3,ymin=-3,ymax=3,delta=0.01)\n",
    "plt.grid()\n",
    "plt.axis('equal')"
   ]
  },
  {
   "cell_type": "code",
   "execution_count": 33,
   "metadata": {},
   "outputs": [
    {
     "ename": "SyntaxError",
     "evalue": "invalid syntax (<ipython-input-33-4cf4f10edf52>, line 1)",
     "output_type": "error",
     "traceback": [
      "\u001b[0;36m  File \u001b[0;32m\"<ipython-input-33-4cf4f10edf52>\"\u001b[0;36m, line \u001b[0;32m1\u001b[0m\n\u001b[0;31m    import\u001b[0m\n\u001b[0m           ^\u001b[0m\n\u001b[0;31mSyntaxError\u001b[0m\u001b[0;31m:\u001b[0m invalid syntax\n"
     ]
    }
   ],
   "source": [
    "import "
   ]
  },
  {
   "cell_type": "code",
   "execution_count": 34,
   "metadata": {},
   "outputs": [
    {
     "ename": "NameError",
     "evalue": "name 'pdist' is not defined",
     "output_type": "error",
     "traceback": [
      "\u001b[0;31m---------------------------------------------------------------------------\u001b[0m",
      "\u001b[0;31mNameError\u001b[0m                                 Traceback (most recent call last)",
      "\u001b[0;32m<ipython-input-34-09a721fac181>\u001b[0m in \u001b[0;36m<module>\u001b[0;34m()\u001b[0m\n\u001b[1;32m      1\u001b[0m \u001b[0minx\u001b[0m \u001b[0;34m=\u001b[0m \u001b[0mnp\u001b[0m\u001b[0;34m.\u001b[0m\u001b[0mlinspace\u001b[0m\u001b[0;34m(\u001b[0m\u001b[0;34m-\u001b[0m\u001b[0;36m10\u001b[0m\u001b[0;34m,\u001b[0m\u001b[0;36m10\u001b[0m\u001b[0;34m,\u001b[0m\u001b[0;36m100\u001b[0m\u001b[0;34m)\u001b[0m\u001b[0;34m\u001b[0m\u001b[0;34m\u001b[0m\u001b[0m\n\u001b[0;32m----> 2\u001b[0;31m \u001b[0ma\u001b[0m \u001b[0;34m=\u001b[0m \u001b[0mpdist\u001b[0m\u001b[0;34m(\u001b[0m\u001b[0minx\u001b[0m\u001b[0;34m)\u001b[0m\u001b[0;34m\u001b[0m\u001b[0;34m\u001b[0m\u001b[0m\n\u001b[0m\u001b[1;32m      3\u001b[0m \u001b[0;31m#np.sum(a)*(inx[1]-inx[0])\u001b[0m\u001b[0;34m\u001b[0m\u001b[0;34m\u001b[0m\u001b[0;34m\u001b[0m\u001b[0m\n\u001b[1;32m      4\u001b[0m \u001b[0mplt\u001b[0m\u001b[0;34m.\u001b[0m\u001b[0mplot\u001b[0m\u001b[0;34m(\u001b[0m\u001b[0minx\u001b[0m\u001b[0;34m,\u001b[0m\u001b[0ma\u001b[0m\u001b[0;34m)\u001b[0m\u001b[0;34m\u001b[0m\u001b[0;34m\u001b[0m\u001b[0m\n\u001b[1;32m      5\u001b[0m \u001b[0mplt\u001b[0m\u001b[0;34m.\u001b[0m\u001b[0mplot\u001b[0m\u001b[0;34m(\u001b[0m\u001b[0minx\u001b[0m\u001b[0;34m,\u001b[0m\u001b[0msurrogate_posterior\u001b[0m\u001b[0;34m.\u001b[0m\u001b[0mprob\u001b[0m\u001b[0;34m(\u001b[0m\u001b[0minx\u001b[0m\u001b[0;34m)\u001b[0m\u001b[0;34m)\u001b[0m\u001b[0;34m\u001b[0m\u001b[0;34m\u001b[0m\u001b[0m\n",
      "\u001b[0;31mNameError\u001b[0m: name 'pdist' is not defined"
     ]
    }
   ],
   "source": [
    "inx = np.linspace(-10,10,100)\n",
    "a = pdist(inx)\n",
    "#np.sum(a)*(inx[1]-inx[0])\n",
    "plt.plot(inx,a)\n",
    "plt.plot(inx,surrogate_posterior.prob(inx))"
   ]
  },
  {
   "cell_type": "code",
   "execution_count": null,
   "metadata": {},
   "outputs": [],
   "source": []
  }
 ],
 "metadata": {
  "kernelspec": {
   "display_name": "Python 3",
   "language": "python",
   "name": "python3"
  },
  "language_info": {
   "codemirror_mode": {
    "name": "ipython",
    "version": 3
   },
   "file_extension": ".py",
   "mimetype": "text/x-python",
   "name": "python",
   "nbconvert_exporter": "python",
   "pygments_lexer": "ipython3",
   "version": "3.6.9"
  }
 },
 "nbformat": 4,
 "nbformat_minor": 2
}
