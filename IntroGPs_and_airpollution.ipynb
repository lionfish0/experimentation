{
 "cells": [
  {
   "cell_type": "markdown",
   "metadata": {},
   "source": [
    "- Set up [anaconda with python 3.7](https://www.anaconda.com/distribution/#download-section). **If you already have it installed** but you don't want to change the versions of your modules etc, you can make a new conda environment, with: ``conda create --name py37 python=3.7`` then activate it with ``source activate py37``.\n",
    "    \n",
    "- Next install [GPFlow](https://github.com/GPflow/GPflow). To do this we install from their development branch which can deal with the new Tensorflow:\n",
    "\n",
    "        pip install git+https://github.com/GPflow/GPflow.git@develop#egg=gpflow\n",
    "        \n",
    "- \"This will automatically install all required dependencies. (Note: as of January 2020, PyPI only has tensorflow 2.x for python 3.6 and 3.7, not for python 3.8, which is the latest release and the Anaconda default.)\"\n",
    "- I found that because I had an older version of tensorflow this broke, and I had to install the new version of tensorflow. And also run pip install --upgrade multipledispatch\n",
    "\n",
    "Then based on the [notebook](https://github.com/GPflow/docs/blob/master/doc/source/notebooks/basics/regression.ipynb) provided by James."
   ]
  },
  {
   "cell_type": "code",
   "execution_count": 37,
   "metadata": {},
   "outputs": [],
   "source": [
    "import gpflow\n",
    "import numpy as np\n",
    "import matplotlib.pyplot as plt\n",
    "from gpflow.utilities import print_summary\n",
    "%matplotlib inline"
   ]
  },
  {
   "cell_type": "code",
   "execution_count": 34,
   "metadata": {},
   "outputs": [],
   "source": [
    "X = 4+4*np.random.rand(20)[:,None]\n",
    "Y = 1+np.cos(X)+0.1*np.random.randn(X.shape[0])[:,None]\n",
    "k = gpflow.kernels.Matern52()\n",
    "Y = Y - np.mean(Y)\n",
    "m = gpflow.models.GPR(data=(X, Y), kernel=k, mean_function=None)\n",
    "\n",
    "##We can set the parameters manually\n",
    "#m.likelihood.variance.assign(0.01)\n",
    "#m.kernel.lengthscales.assign(0.3)\n",
    "\n",
    "##Or use maximum likelihood optimisation\n",
    "#opt = gpflow.optimizers.Scipy()\n",
    "#def objective_closure():\n",
    "#    return - m.log_marginal_likelihood()\n",
    "#\n",
    "#opt_logs = opt.minimize(objective_closure,\n",
    "#                        m.trainable_variables,\n",
    "#                        options=dict(maxiter=100))"
   ]
  },
  {
   "cell_type": "code",
   "execution_count": 38,
   "metadata": {},
   "outputs": [
    {
     "name": "stdout",
     "output_type": "stream",
     "text": [
      "╒═════════════════════════╤═══════════╤══════════════════╤═════════╤═════════════╤═════════╤═════════╤═════════╕\n",
      "│ name                    │ class     │ transform        │ prior   │ trainable   │ shape   │ dtype   │   value │\n",
      "╞═════════════════════════╪═══════════╪══════════════════╪═════════╪═════════════╪═════════╪═════════╪═════════╡\n",
      "│ GPR.kernel.variance     │ Parameter │ Softplus         │         │ True        │ ()      │ float64 │       1 │\n",
      "├─────────────────────────┼───────────┼──────────────────┼─────────┼─────────────┼─────────┼─────────┼─────────┤\n",
      "│ GPR.kernel.lengthscales │ Parameter │ Softplus         │         │ True        │ ()      │ float64 │       1 │\n",
      "├─────────────────────────┼───────────┼──────────────────┼─────────┼─────────────┼─────────┼─────────┼─────────┤\n",
      "│ GPR.likelihood.variance │ Parameter │ Softplus + Shift │         │ True        │ ()      │ float64 │       1 │\n",
      "╘═════════════════════════╧═══════════╧══════════════════╧═════════╧═════════════╧═════════╧═════════╧═════════╛\n"
     ]
    }
   ],
   "source": [
    "print_summary(m)"
   ]
  },
  {
   "cell_type": "code",
   "execution_count": 35,
   "metadata": {},
   "outputs": [
    {
     "data": {
      "text/plain": [
       "[<matplotlib.lines.Line2D at 0x7f5926002cf8>]"
      ]
     },
     "execution_count": 35,
     "metadata": {},
     "output_type": "execute_result"
    },
    {
     "data": {
      "image/png": "[encoded data removed]",
      "text/plain": [
       "<Figure size 432x288 with 1 Axes>"
      ]
     },
     "metadata": {},
     "output_type": "display_data"
    }
   ],
   "source": [
    "testX = np.linspace(0,10,100)[:,None]\n",
    "testmeans, testvars = m.predict_f(testX)\n",
    "plt.scatter(X,Y)\n",
    "plt.xlim([0,10])\n",
    "#plt.ylim([0,2])\n",
    "plt.plot(testX,testmeans)\n",
    "plt.plot(testX,testmeans+np.sqrt(testvars))\n",
    "plt.plot(testX,testmeans-np.sqrt(testvars))"
   ]
  },
  {
   "cell_type": "markdown",
   "metadata": {},
   "source": [
    "# Get Sensor Data\n",
    "\n",
    "We need to install google-cloud-bigquery:\n",
    "\n",
    "        pip install google-cloud-bigquery\n",
    "        \n",
    "Then using Dennis' code:"
   ]
  },
  {
   "cell_type": "code",
   "execution_count": 40,
   "metadata": {},
   "outputs": [],
   "source": [
    "import pandas as pd\n",
    "from google.cloud import bigquery\n",
    "import numpy as np"
   ]
  },
  {
   "cell_type": "code",
   "execution_count": 47,
   "metadata": {},
   "outputs": [],
   "source": [
    "client = bigquery.Client.from_service_account_json(\"/home/mike/.gcp_keys/AirQo-519978d8cadc.json\")"
   ]
  },
  {
   "cell_type": "code",
   "execution_count": 69,
   "metadata": {},
   "outputs": [],
   "source": [
    "def get_static_channels():\n",
    "    sql = \"\"\"\n",
    "        SELECT channel_id \n",
    "        FROM `airqo-250220.thingspeak.channel` \n",
    "        WHERE NOT LOWER(name) LIKE '%mobile%' \n",
    "        LIMIT 1000\n",
    "    \"\"\"\n",
    "    channels = [channel.channel_id for channel in client.query(sql).result()]\n",
    "    return channels\n",
    "\n",
    "channels = get_static_channels()\n",
    "channels[0:5]\n",
    "\n",
    "\n",
    "\n",
    "def get_df(channel_id):\n",
    "    sql = \"\"\"\n",
    "    SELECT * FROM `airqo-250220.thingspeak.clean_feeds_pms` WHERE channel_id={}\n",
    "    \"\"\".format(channel_id)\n",
    "\n",
    "    df = client.query(sql).to_dataframe()\n",
    "    return df\n",
    "\n",
    "def get_loc(channel_id):\n",
    "    sql = \"\"\"\n",
    "    SELECT channel_id, longitude, latitude \n",
    "    FROM `airqo-250220.thingspeak.channel`\n",
    "    WHERE channel_id={}\n",
    "    \"\"\".format(channel_id)\n",
    "\n",
    "    df = client.query(sql).to_dataframe()\n",
    "    \n",
    "    return df\n"
   ]
  },
  {
   "cell_type": "code",
   "execution_count": 74,
   "metadata": {},
   "outputs": [],
   "source": [
    "def get_entries_since(channel_id,daysago=7):\n",
    "    from datetime import datetime,timedelta\n",
    "    datestring = (datetime.now()-timedelta(daysago)).strftime(\"%Y-%m-%d %H:%M:%S\") # current date and time\n",
    "\n",
    "    sql = \"\"\"\n",
    "    SELECT created_at, channel_id, pm2_5 \n",
    "    FROM `airqo-250220.thingspeak.clean_feeds_pms` \n",
    "    WHERE channel_id={} \n",
    "    AND created_at > '{}'\n",
    "    \"\"\".format(channel_id,datestring)\n",
    "\n",
    "    df = client.query(sql).to_dataframe() \n",
    "    \n",
    "    return df\n",
    "\n",
    "for chan in channels:\n",
    "    d = get_entries_since(chan)\n",
    "    loc = get_loc(chan)\n",
    "    break"
   ]
  },
  {
   "cell_type": "code",
   "execution_count": 75,
   "metadata": {},
   "outputs": [
    {
     "data": {
      "text/html": [
       "<div>\n",
       "<style scoped>\n",
       "    .dataframe tbody tr th:only-of-type {\n",
       "        vertical-align: middle;\n",
       "    }\n",
       "\n",
       "    .dataframe tbody tr th {\n",
       "        vertical-align: top;\n",
       "    }\n",
       "\n",
       "    .dataframe thead th {\n",
       "        text-align: right;\n",
       "    }\n",
       "</style>\n",
       "<table border=\"1\" class=\"dataframe\">\n",
       "  <thead>\n",
       "    <tr style=\"text-align: right;\">\n",
       "      <th></th>\n",
       "      <th>channel_id</th>\n",
       "      <th>longitude</th>\n",
       "      <th>latitude</th>\n",
       "    </tr>\n",
       "  </thead>\n",
       "  <tbody>\n",
       "    <tr>\n",
       "      <th>0</th>\n",
       "      <td>930426</td>\n",
       "      <td>32.6468</td>\n",
       "      <td>0.3655</td>\n",
       "    </tr>\n",
       "  </tbody>\n",
       "</table>\n",
       "</div>"
      ],
      "text/plain": [
       "   channel_id  longitude  latitude\n",
       "0      930426    32.6468    0.3655"
      ]
     },
     "execution_count": 75,
     "metadata": {},
     "output_type": "execute_result"
    }
   ],
   "source": [
    "loc"
   ]
  },
  {
   "cell_type": "code",
   "execution_count": 77,
   "metadata": {},
   "outputs": [
    {
     "data": {
      "text/plain": [
       "6016"
      ]
     },
     "execution_count": 77,
     "metadata": {},
     "output_type": "execute_result"
    }
   ],
   "source": []
  },
  {
   "cell_type": "code",
   "execution_count": 88,
   "metadata": {},
   "outputs": [
    {
     "data": {
      "text/html": [
       "<div>\n",
       "<style scoped>\n",
       "    .dataframe tbody tr th:only-of-type {\n",
       "        vertical-align: middle;\n",
       "    }\n",
       "\n",
       "    .dataframe tbody tr th {\n",
       "        vertical-align: top;\n",
       "    }\n",
       "\n",
       "    .dataframe thead th {\n",
       "        text-align: right;\n",
       "    }\n",
       "</style>\n",
       "<table border=\"1\" class=\"dataframe\">\n",
       "  <thead>\n",
       "    <tr style=\"text-align: right;\">\n",
       "      <th></th>\n",
       "      <th>created_at</th>\n",
       "      <th>channel_id</th>\n",
       "      <th>pm2_5</th>\n",
       "    </tr>\n",
       "  </thead>\n",
       "  <tbody>\n",
       "    <tr>\n",
       "      <th>0</th>\n",
       "      <td>2020-03-22 13:37:00</td>\n",
       "      <td>930426</td>\n",
       "      <td>16.13</td>\n",
       "    </tr>\n",
       "    <tr>\n",
       "      <th>1</th>\n",
       "      <td>2020-03-22 12:16:29</td>\n",
       "      <td>930426</td>\n",
       "      <td>55.18</td>\n",
       "    </tr>\n",
       "    <tr>\n",
       "      <th>2</th>\n",
       "      <td>2020-03-22 07:01:31</td>\n",
       "      <td>930426</td>\n",
       "      <td>15.18</td>\n",
       "    </tr>\n",
       "    <tr>\n",
       "      <th>3</th>\n",
       "      <td>2020-03-22 14:04:28</td>\n",
       "      <td>930426</td>\n",
       "      <td>30.00</td>\n",
       "    </tr>\n",
       "    <tr>\n",
       "      <th>4</th>\n",
       "      <td>2020-03-22 07:45:50</td>\n",
       "      <td>930426</td>\n",
       "      <td>21.97</td>\n",
       "    </tr>\n",
       "    <tr>\n",
       "      <th>...</th>\n",
       "      <td>...</td>\n",
       "      <td>...</td>\n",
       "      <td>...</td>\n",
       "    </tr>\n",
       "    <tr>\n",
       "      <th>6011</th>\n",
       "      <td>2020-03-17 23:45:52</td>\n",
       "      <td>930426</td>\n",
       "      <td>6.02</td>\n",
       "    </tr>\n",
       "    <tr>\n",
       "      <th>6012</th>\n",
       "      <td>2020-03-18 00:00:15</td>\n",
       "      <td>930426</td>\n",
       "      <td>17.43</td>\n",
       "    </tr>\n",
       "    <tr>\n",
       "      <th>6013</th>\n",
       "      <td>2020-03-17 23:30:40</td>\n",
       "      <td>930426</td>\n",
       "      <td>9.32</td>\n",
       "    </tr>\n",
       "    <tr>\n",
       "      <th>6014</th>\n",
       "      <td>2020-03-17 23:38:50</td>\n",
       "      <td>930426</td>\n",
       "      <td>4.55</td>\n",
       "    </tr>\n",
       "    <tr>\n",
       "      <th>6015</th>\n",
       "      <td>2020-03-17 23:32:01</td>\n",
       "      <td>930426</td>\n",
       "      <td>9.12</td>\n",
       "    </tr>\n",
       "  </tbody>\n",
       "</table>\n",
       "<p>6016 rows × 3 columns</p>\n",
       "</div>"
      ],
      "text/plain": [
       "              created_at  channel_id  pm2_5\n",
       "0    2020-03-22 13:37:00      930426  16.13\n",
       "1    2020-03-22 12:16:29      930426  55.18\n",
       "2    2020-03-22 07:01:31      930426  15.18\n",
       "3    2020-03-22 14:04:28      930426  30.00\n",
       "4    2020-03-22 07:45:50      930426  21.97\n",
       "...                  ...         ...    ...\n",
       "6011 2020-03-17 23:45:52      930426   6.02\n",
       "6012 2020-03-18 00:00:15      930426  17.43\n",
       "6013 2020-03-17 23:30:40      930426   9.32\n",
       "6014 2020-03-17 23:38:50      930426   4.55\n",
       "6015 2020-03-17 23:32:01      930426   9.12\n",
       "\n",
       "[6016 rows x 3 columns]"
      ]
     },
     "execution_count": 88,
     "metadata": {},
     "output_type": "execute_result"
    }
   ],
   "source": [
    "d"
   ]
  },
  {
   "cell_type": "code",
   "execution_count": 113,
   "metadata": {},
   "outputs": [],
   "source": [
    "X = np.c_[np.repeat(np.array(loc)[:,1:],d.shape[0],0),[n.timestamp()/3600 for n in d['created_at']]]\n",
    "X[:,-1]-=np.min(X[:,-1])"
   ]
  },
  {
   "cell_type": "code",
   "execution_count": 118,
   "metadata": {},
   "outputs": [],
   "source": [
    "Y = np.array(d['pm2_5'])[:,None]"
   ]
  },
  {
   "cell_type": "code",
   "execution_count": 119,
   "metadata": {},
   "outputs": [
    {
     "data": {
      "text/plain": [
       "array([[ 32.6468    ,   0.3655    , 110.28805556],\n",
       "       [ 32.6468    ,   0.3655    , 108.94611111],\n",
       "       [ 32.6468    ,   0.3655    , 103.69666667],\n",
       "       ...,\n",
       "       [ 32.6468    ,   0.3655    ,   0.1825    ],\n",
       "       [ 32.6468    ,   0.3655    ,   0.31861111],\n",
       "       [ 32.6468    ,   0.3655    ,   0.205     ]])"
      ]
     },
     "execution_count": 119,
     "metadata": {},
     "output_type": "execute_result"
    }
   ],
   "source": [
    "X"
   ]
  },
  {
   "cell_type": "code",
   "execution_count": 120,
   "metadata": {},
   "outputs": [
    {
     "data": {
      "text/plain": [
       "array([[16.13],\n",
       "       [55.18],\n",
       "       [15.18],\n",
       "       ...,\n",
       "       [ 9.32],\n",
       "       [ 4.55],\n",
       "       [ 9.12]])"
      ]
     },
     "execution_count": 120,
     "metadata": {},
     "output_type": "execute_result"
    }
   ],
   "source": [
    "Y"
   ]
  },
  {
   "cell_type": "code",
   "execution_count": 123,
   "metadata": {},
   "outputs": [
    {
     "data": {
      "text/plain": [
       "[<matplotlib.lines.Line2D at 0x7f5914fddba8>]"
      ]
     },
     "execution_count": 123,
     "metadata": {},
     "output_type": "execute_result"
    },
    {
     "data": {
      "image/png": "[encoded data removed]",
      "text/plain": [
       "<Figure size 432x288 with 1 Axes>"
      ]
     },
     "metadata": {},
     "output_type": "display_data"
    }
   ],
   "source": [
    "plt.plot(X[:,-1],Y,'.')"
   ]
  },
  {
   "cell_type": "code",
   "execution_count": null,
   "metadata": {},
   "outputs": [],
   "source": []
  }
 ],
 "metadata": {
  "kernelspec": {
   "display_name": "Python 3",
   "language": "python",
   "name": "python3"
  },
  "language_info": {
   "codemirror_mode": {
    "name": "ipython",
    "version": 3
   },
   "file_extension": ".py",
   "mimetype": "text/x-python",
   "name": "python",
   "nbconvert_exporter": "python",
   "pygments_lexer": "ipython3",
   "version": "3.6.9"
  }
 },
 "nbformat": 4,
 "nbformat_minor": 2
}
