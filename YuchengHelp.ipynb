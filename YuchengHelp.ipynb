{
 "cells": [
  {
   "cell_type": "code",
   "execution_count": 119,
   "metadata": {},
   "outputs": [
    {
     "data": {
      "text/plain": [
       "array([[ 0.        ],\n",
       "       [ 1.11111111],\n",
       "       [ 2.22222222],\n",
       "       [ 3.33333333],\n",
       "       [ 4.44444444],\n",
       "       [ 5.55555556],\n",
       "       [ 6.66666667],\n",
       "       [ 7.77777778],\n",
       "       [ 8.88888889],\n",
       "       [10.        ]])"
      ]
     },
     "execution_count": 119,
     "metadata": {},
     "output_type": "execute_result"
    }
   ],
   "source": [
    "X"
   ]
  },
  {
   "cell_type": "code",
   "execution_count": 128,
   "metadata": {},
   "outputs": [],
   "source": [
    "N = 10\n",
    "addednoise = np.random.randn(N,1)*0.1"
   ]
  },
  {
   "cell_type": "code",
   "execution_count": 185,
   "metadata": {},
   "outputs": [],
   "source": [
    "import numpy as np\n",
    "import GPy\n",
    "\n",
    "X = np.linspace(0,10,N)[:,None]\n",
    "X[::3,:]=5\n",
    "\n",
    "y = np.cos(X)+addednoise\n",
    "\n",
    "\n",
    "Xtest = np.linspace(0.5,9.5,N)[:,None]\n",
    "ytest = np.cos(Xtest)+np.random.randn(N,1)*0.1\n"
   ]
  },
  {
   "cell_type": "code",
   "execution_count": 186,
   "metadata": {},
   "outputs": [
    {
     "data": {
      "text/plain": [
       "0.003963852280176434"
      ]
     },
     "execution_count": 186,
     "metadata": {},
     "output_type": "execute_result"
    }
   ],
   "source": [
    "np.var(addednoise)"
   ]
  },
  {
   "cell_type": "code",
   "execution_count": 187,
   "metadata": {},
   "outputs": [
    {
     "data": {
      "text/plain": [
       "<paramz.optimization.optimization.opt_lbfgsb at 0x7fd50d2416a0>"
      ]
     },
     "execution_count": 187,
     "metadata": {},
     "output_type": "execute_result"
    }
   ],
   "source": [
    "m = GPy.models.GPRegression(X,y)\n",
    "#m.Gaussian_noise.fix(0.01)\n",
    "#m.Gaussian_noise = 0.1\n",
    "m.optimize()"
   ]
  },
  {
   "cell_type": "code",
   "execution_count": 188,
   "metadata": {},
   "outputs": [
    {
     "data": {
      "text/plain": [
       "<matplotlib.collections.PathCollection at 0x7fd50d190820>"
      ]
     },
     "execution_count": 188,
     "metadata": {},
     "output_type": "execute_result"
    },
    {
     "data": {
      "image/png": "[encoded data removed]",
      "text/plain": [
       "<Figure size 432x288 with 1 Axes>"
      ]
     },
     "metadata": {
      "needs_background": "light"
     },
     "output_type": "display_data"
    }
   ],
   "source": [
    "import matplotlib.pyplot as plt\n",
    "%matplotlib inline\n",
    "m.plot(plot_limits=[0,10])\n",
    "plt.scatter(Xtest[:,0],ytest[:,0])"
   ]
  },
  {
   "cell_type": "code",
   "execution_count": 189,
   "metadata": {},
   "outputs": [
    {
     "data": {
      "text/html": [
       "<style type=\"text/css\">\n",
       ".tg  {font-family:\"Courier New\", Courier, monospace !important;padding:2px 3px;word-break:normal;border-collapse:collapse;border-spacing:0;border-color:#DCDCDC;margin:0px auto;width:100%;}\n",
       ".tg td{font-family:\"Courier New\", Courier, monospace !important;font-weight:bold;color:#444;background-color:#F7FDFA;border-style:solid;border-width:1px;overflow:hidden;word-break:normal;border-color:#DCDCDC;}\n",
       ".tg th{font-family:\"Courier New\", Courier, monospace !important;font-weight:normal;color:#fff;background-color:#26ADE4;border-style:solid;border-width:1px;overflow:hidden;word-break:normal;border-color:#DCDCDC;}\n",
       ".tg .tg-left{font-family:\"Courier New\", Courier, monospace !important;font-weight:normal;text-align:left;}\n",
       ".tg .tg-center{font-family:\"Courier New\", Courier, monospace !important;font-weight:normal;text-align:center;}\n",
       ".tg .tg-right{font-family:\"Courier New\", Courier, monospace !important;font-weight:normal;text-align:right;}\n",
       "</style>\n",
       "<table class=\"tg\"><tr><th><b>  Gaussian_noise.</b></th><th><b>               value</b></th><th><b>constraints</b></th><th><b>priors</b></th></tr>\n",
       "<tr><td class=tg-left>  variance       </td><td class=tg-right>0.007711613426057971</td><td class=tg-center>    +ve    </td><td class=tg-center>      </td></tr>\n",
       "</table>"
      ],
      "text/plain": [
       "<GPy.likelihoods.gaussian.Gaussian at 0x7fd50d241c40>"
      ]
     },
     "execution_count": 189,
     "metadata": {},
     "output_type": "execute_result"
    }
   ],
   "source": [
    "m.Gaussian_noise"
   ]
  },
  {
   "cell_type": "code",
   "execution_count": 190,
   "metadata": {},
   "outputs": [],
   "source": [
    "#m.log_likelihood()"
   ]
  },
  {
   "cell_type": "code",
   "execution_count": 191,
   "metadata": {},
   "outputs": [
    {
     "data": {
      "text/plain": [
       "-6.643010887968196"
      ]
     },
     "execution_count": 191,
     "metadata": {},
     "output_type": "execute_result"
    }
   ],
   "source": [
    "from scipy.stats import norm\n",
    "predmeans,predvars = m.predict(Xtest)\n",
    "np.sum(-np.log(norm(predmeans, np.sqrt(predvars)).pdf(ytest)))"
   ]
  },
  {
   "cell_type": "markdown",
   "metadata": {},
   "source": [
    "# Future weeks... integrating out our hyperparameters..."
   ]
  },
  {
   "cell_type": "code",
   "execution_count": 102,
   "metadata": {},
   "outputs": [
    {
     "data": {
      "text/plain": [
       "array([1.00000000e-05, 2.33572147e-05, 5.45559478e-05, 1.27427499e-04,\n",
       "       2.97635144e-04, 6.95192796e-04, 1.62377674e-03, 3.79269019e-03,\n",
       "       8.85866790e-03, 2.06913808e-02, 4.83293024e-02, 1.12883789e-01,\n",
       "       2.63665090e-01, 6.15848211e-01, 1.43844989e+00, 3.35981829e+00,\n",
       "       7.84759970e+00, 1.83298071e+01, 4.28133240e+01, 1.00000000e+02])"
      ]
     },
     "execution_count": 102,
     "metadata": {},
     "output_type": "execute_result"
    }
   ],
   "source": [
    "\n",
    "    "
   ]
  },
  {
   "cell_type": "code",
   "execution_count": 110,
   "metadata": {},
   "outputs": [
    {
     "name": "stdout",
     "output_type": "stream",
     "text": [
      "   0.00001,  inf\n",
      "   0.00002,  inf\n",
      "   0.00005,  inf\n",
      "   0.00013,  inf\n",
      "   0.00030,  inf\n",
      "   0.00070,  inf\n",
      "   0.00162, 4497.8\n",
      "   0.00379, 1899.1\n",
      "   0.00886, 793.7\n",
      "   0.02069, 327.8\n",
      "   0.04833, 135.6\n",
      "   0.11288, 60.5\n",
      "   0.26367, 35.7\n",
      "   0.61585, 32.3\n",
      "   1.43845, 38.2\n",
      "   3.35982, 48.0\n",
      "   7.84760, 59.4\n",
      "  18.32981, 71.6\n",
      "  42.81332, 84.1\n",
      " 100.00000, 96.7\n"
     ]
    },
    {
     "name": "stderr",
     "output_type": "stream",
     "text": [
      " <ipython-input-110-490970f2883d>:14: RuntimeWarning:divide by zero encountered in log\n"
     ]
    }
   ],
   "source": [
    "Xtest = np.linspace(0,10,30)[:,None]\n",
    "ytest = np.cos(Xtest)+np.random.randn(30,1)*0.1\n",
    "#m = GPy.models.GPRegression(X,y)\n",
    "predy = []\n",
    "m.optimize()\n",
    "prob = np.zeros([30,1])\n",
    "for nv in np.logspace(-5,2,20):\n",
    "    #for ls in np.arange(0.2,5,0.2):\n",
    "    #    m.kern.lengthscale = ls\n",
    "    m.Gaussian_noise = nv\n",
    "    #print(\"%6.2f %6.2f\" % (ls,m.log_likelihood()))\n",
    "    predmeans,predvars = m.predict(Xtest)\n",
    "    prob += norm(predmeans, np.sqrt(predvars)).pdf(ytest)/20\n",
    "    print(\"%10.5f, %4.1f\" % (nv, np.sum(-np.log(norm(predmeans, np.sqrt(predvars)).pdf(ytest)))))\n"
   ]
  },
  {
   "cell_type": "code",
   "execution_count": 111,
   "metadata": {},
   "outputs": [
    {
     "data": {
      "text/plain": [
       "array([[0.05145727],\n",
       "       [0.0630673 ],\n",
       "       [0.08315908],\n",
       "       [0.11206044],\n",
       "       [0.15945096],\n",
       "       [2.63817495],\n",
       "       [0.12724431],\n",
       "       [0.07570526],\n",
       "       [0.07364697],\n",
       "       [0.05983978],\n",
       "       [0.07880086],\n",
       "       [0.06022879],\n",
       "       [0.1005925 ],\n",
       "       [0.2415426 ],\n",
       "       [0.22629756],\n",
       "       [0.22353097],\n",
       "       [0.0889319 ],\n",
       "       [0.05367938],\n",
       "       [0.05638724],\n",
       "       [0.05887575],\n",
       "       [0.07251779],\n",
       "       [0.13027771],\n",
       "       [0.19649815],\n",
       "       [0.52696008],\n",
       "       [0.1488456 ],\n",
       "       [0.08270486],\n",
       "       [0.06577371],\n",
       "       [0.05857281],\n",
       "       [0.05587224],\n",
       "       [0.07143811]])"
      ]
     },
     "execution_count": 111,
     "metadata": {},
     "output_type": "execute_result"
    }
   ],
   "source": [
    "prob"
   ]
  },
  {
   "cell_type": "code",
   "execution_count": 40,
   "metadata": {},
   "outputs": [
    {
     "data": {
      "text/plain": [
       "array([[2.89371689e-03],\n",
       "       [4.67082024e+00],\n",
       "       [4.36067077e-04],\n",
       "       [1.12737645e-03],\n",
       "       [5.87201195e-03],\n",
       "       [2.85581295e-03],\n",
       "       [5.00055605e+00],\n",
       "       [2.90495495e-01],\n",
       "       [5.47670504e-05],\n",
       "       [8.11931962e-05],\n",
       "       [1.99146333e-05],\n",
       "       [8.31327493e-02],\n",
       "       [3.89010029e-02],\n",
       "       [6.92865252e-01],\n",
       "       [2.57675796e+00],\n",
       "       [4.08738102e+00],\n",
       "       [4.37510869e-04],\n",
       "       [7.34586702e-03],\n",
       "       [3.60131007e-11],\n",
       "       [2.50398545e-10],\n",
       "       [2.38633511e+00],\n",
       "       [3.75031445e+00],\n",
       "       [3.60639118e-01],\n",
       "       [1.92654166e-06],\n",
       "       [8.07668615e-04],\n",
       "       [8.31291459e-11],\n",
       "       [4.21112078e-07],\n",
       "       [5.88311981e-01],\n",
       "       [9.30419369e-01],\n",
       "       [1.12058919e-09]])"
      ]
     },
     "execution_count": 40,
     "metadata": {},
     "output_type": "execute_result"
    }
   ],
   "source": [
    "from scipy.stats import norm\n",
    "norm(predmeans, np.sqrt(predvars)).pdf(ytest)"
   ]
  },
  {
   "cell_type": "code",
   "execution_count": 37,
   "metadata": {},
   "outputs": [],
   "source": [
    "predmeans, predvars = m.predict(Xtest)"
   ]
  },
  {
   "cell_type": "code",
   "execution_count": 27,
   "metadata": {},
   "outputs": [
    {
     "data": {
      "text/plain": [
       "4.396871088174567"
      ]
     },
     "execution_count": 27,
     "metadata": {},
     "output_type": "execute_result"
    }
   ],
   "source": [
    "m.log_likelihood()"
   ]
  }
 ],
 "metadata": {
  "kernelspec": {
   "display_name": "Python 3",
   "language": "python",
   "name": "python3"
  },
  "language_info": {
   "codemirror_mode": {
    "name": "ipython",
    "version": 3
   },
   "file_extension": ".py",
   "mimetype": "text/x-python",
   "name": "python",
   "nbconvert_exporter": "python",
   "pygments_lexer": "ipython3",
   "version": "3.8.3"
  }
 },
 "nbformat": 4,
 "nbformat_minor": 4
}
