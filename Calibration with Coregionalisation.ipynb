{
 "cells": [
  {
   "cell_type": "markdown",
   "metadata": {},
   "source": [
    "# Demo of Coregionalisation for Calibration\n",
    "\n",
    "We can calibrate one sensor with another, using coregionalisation.\n",
    "\n",
    "We need to estimate the vector, $W$, to produce the rank-one matrix $W W^\\top$.\n",
    "\n",
    "This is done below by looking at the RMSE, however it would be better to use the log-likelihood.\n",
    "\n",
    "In particular we should use a laplace approximation, or the CCD approximation to get the uncertainty over this coregionalisation. We can then make predictions with the uncertainty of the coregionalisation.\n",
    "\n",
    "The idea would be that additional observations would reduce this uncertainty.\n",
    "\n",
    "We could also in the future look at the coregionalisation such that this varies over time..."
   ]
  },
  {
   "cell_type": "code",
   "execution_count": 65,
   "metadata": {},
   "outputs": [],
   "source": [
    "#import GPy\n",
    "import numpy as np\n",
    "import matplotlib.pyplot as plt\n",
    "%matplotlib inline"
   ]
  },
  {
   "cell_type": "code",
   "execution_count": 66,
   "metadata": {
    "scrolled": true
   },
   "outputs": [
    {
     "name": "stdout",
     "output_type": "stream",
     "text": [
      "[[0.4 0.4 0. ]] 1.3764795588348517\n",
      "[[0.4 0.4 0.6]] 1.373167166863018\n",
      "[[0.4 0.4 1.2]] 1.3721625955320913\n",
      "[[0.4 0.4 1.8]] 1.372068758910044\n",
      "[[0.4 0.4 2.4]] 1.3721657867200354\n",
      "[[0.4 0.4 3. ]] 1.3722787487050783\n",
      "[[0.4 0.4 3.6]] 1.3723748413146877\n",
      "[[0.4 0.4 4.2]] 1.3724520597301086\n",
      "[[0.4 0.4 4.8]] 1.3725141228591131\n",
      "[[0.4 0.4 5.4]] 1.3725649315922699\n",
      "[[0.4 0.4 6. ]] 1.3726075591225144\n",
      "[[0.4 1.  0. ]] 1.4602570291596884\n",
      "[[0.4 1.  0.6]] 1.4566303705739163\n",
      "[[0.4 1.  1.2]] 1.4555723428091527\n",
      "[[0.4 1.  1.8]] 1.456133495709564\n",
      "[[0.4 1.  2.4]] 1.4569073460577142\n",
      "[[0.4 1.  3. ]] 1.4575399965785205\n",
      "[[0.4 1.  3.6]] 1.4580144828821204\n",
      "[[0.4 1.  4.2]] 1.458370112599097\n",
      "[[0.4 1.  4.8]] 1.4586435501421604\n",
      "[[0.4 1.  5.4]] 1.4588610609587795\n",
      "[[0.4 1.  6. ]] 1.459040384140658\n",
      "[[0.4 1.6 0. ]] 1.5916805274140688\n",
      "[[0.4 1.6 0.6]] 1.5884418866553014\n",
      "[[0.4 1.6 1.2]] 1.5867649047203485\n",
      "[[0.4 1.6 1.8]] 1.5870161826471487\n",
      "[[0.4 1.6 2.4]] 1.5879366527480359\n",
      "[[0.4 1.6 3. ]] 1.588892115272362\n",
      "[[0.4 1.6 3.6]] 1.5897093805703233\n",
      "[[0.4 1.6 4.2]] 1.5903739830709298\n",
      "[[0.4 1.6 4.8]] 1.5909122152905952\n",
      "[[0.4 1.6 5.4]] 1.59135458475052\n",
      "[[0.4 1.6 6. ]] 1.5917265620769576\n",
      "[[0.4 2.2 0. ]] 1.673693137581531\n",
      "[[0.4 2.2 0.6]] 1.670840621072872\n",
      "[[0.4 2.2 1.2]] 1.668892925143055\n",
      "[[0.4 2.2 1.8]] 1.6685968132201912\n",
      "[[0.4 2.2 2.4]] 1.6692231337137744\n",
      "[[0.4 2.2 3. ]] 1.6701535925663245\n",
      "[[0.4 2.2 3.6]] 1.671101121481545\n",
      "[[0.4 2.2 4.2]] 1.6719638552143468\n",
      "[[0.4 2.2 4.8]] 1.6727198185159649\n",
      "[[0.4 2.2 5.4]] 1.6733767949815093\n",
      "[[0.4 2.2 6. ]] 1.6739512566991757\n",
      "[[0.4 2.8 0. ]] 1.733028577594554\n"
     ]
    },
    {
     "ename": "KeyboardInterrupt",
     "evalue": "",
     "output_type": "error",
     "traceback": [
      "\u001b[0;31m---------------------------------------------------------------------------\u001b[0m",
      "\u001b[0;31mKeyboardInterrupt\u001b[0m                         Traceback (most recent call last)",
      "\u001b[0;32m<ipython-input-66-f52f734c3734>\u001b[0m in \u001b[0;36m<module>\u001b[0;34m()\u001b[0m\n\u001b[1;32m     63\u001b[0m                 \u001b[0mkstar\u001b[0m \u001b[0;34m=\u001b[0m \u001b[0mcalckstar\u001b[0m\u001b[0;34m(\u001b[0m\u001b[0mxtest\u001b[0m\u001b[0;34m,\u001b[0m\u001b[0mXdrop\u001b[0m\u001b[0;34m,\u001b[0m\u001b[0mW\u001b[0m\u001b[0;34m)\u001b[0m\u001b[0;34m\u001b[0m\u001b[0m\n\u001b[1;32m     64\u001b[0m                 \u001b[0;31m#kstarstar = k(xtest,xtest)\u001b[0m\u001b[0;34m\u001b[0m\u001b[0;34m\u001b[0m\u001b[0m\n\u001b[0;32m---> 65\u001b[0;31m                 \u001b[0mKinv\u001b[0m \u001b[0;34m=\u001b[0m \u001b[0mnp\u001b[0m\u001b[0;34m.\u001b[0m\u001b[0mlinalg\u001b[0m\u001b[0;34m.\u001b[0m\u001b[0minv\u001b[0m\u001b[0;34m(\u001b[0m\u001b[0mK\u001b[0m\u001b[0;34m+\u001b[0m\u001b[0mnp\u001b[0m\u001b[0;34m.\u001b[0m\u001b[0meye\u001b[0m\u001b[0;34m(\u001b[0m\u001b[0mlen\u001b[0m\u001b[0;34m(\u001b[0m\u001b[0mK\u001b[0m\u001b[0;34m)\u001b[0m\u001b[0;34m)\u001b[0m\u001b[0;34m)\u001b[0m\u001b[0;34m\u001b[0m\u001b[0m\n\u001b[0m\u001b[1;32m     66\u001b[0m                 \u001b[0mpredy\u001b[0m \u001b[0;34m=\u001b[0m \u001b[0mkstar\u001b[0m\u001b[0;34m.\u001b[0m\u001b[0mT\u001b[0m\u001b[0;34m@\u001b[0m\u001b[0mKinv\u001b[0m\u001b[0;34m@\u001b[0m\u001b[0mYdrop\u001b[0m\u001b[0;34m\u001b[0m\u001b[0m\n\u001b[1;32m     67\u001b[0m                 \u001b[0mrmse\u001b[0m\u001b[0;34m.\u001b[0m\u001b[0mappend\u001b[0m\u001b[0;34m(\u001b[0m\u001b[0;34m(\u001b[0m\u001b[0mpredy\u001b[0m\u001b[0;34m-\u001b[0m\u001b[0mY\u001b[0m\u001b[0;34m[\u001b[0m\u001b[0mdropi\u001b[0m\u001b[0;34m]\u001b[0m\u001b[0;34m)\u001b[0m\u001b[0;34m**\u001b[0m\u001b[0;36m2\u001b[0m\u001b[0;34m)\u001b[0m\u001b[0;34m\u001b[0m\u001b[0m\n",
      "\u001b[0;32m~/anaconda3/lib/python3.6/site-packages/numpy/linalg/linalg.py\u001b[0m in \u001b[0;36minv\u001b[0;34m(a)\u001b[0m\n\u001b[1;32m    526\u001b[0m     \u001b[0msignature\u001b[0m \u001b[0;34m=\u001b[0m \u001b[0;34m'D->D'\u001b[0m \u001b[0;32mif\u001b[0m \u001b[0misComplexType\u001b[0m\u001b[0;34m(\u001b[0m\u001b[0mt\u001b[0m\u001b[0;34m)\u001b[0m \u001b[0;32melse\u001b[0m \u001b[0;34m'd->d'\u001b[0m\u001b[0;34m\u001b[0m\u001b[0m\n\u001b[1;32m    527\u001b[0m     \u001b[0mextobj\u001b[0m \u001b[0;34m=\u001b[0m \u001b[0mget_linalg_error_extobj\u001b[0m\u001b[0;34m(\u001b[0m\u001b[0m_raise_linalgerror_singular\u001b[0m\u001b[0;34m)\u001b[0m\u001b[0;34m\u001b[0m\u001b[0m\n\u001b[0;32m--> 528\u001b[0;31m     \u001b[0mainv\u001b[0m \u001b[0;34m=\u001b[0m \u001b[0m_umath_linalg\u001b[0m\u001b[0;34m.\u001b[0m\u001b[0minv\u001b[0m\u001b[0;34m(\u001b[0m\u001b[0ma\u001b[0m\u001b[0;34m,\u001b[0m \u001b[0msignature\u001b[0m\u001b[0;34m=\u001b[0m\u001b[0msignature\u001b[0m\u001b[0;34m,\u001b[0m \u001b[0mextobj\u001b[0m\u001b[0;34m=\u001b[0m\u001b[0mextobj\u001b[0m\u001b[0;34m)\u001b[0m\u001b[0;34m\u001b[0m\u001b[0m\n\u001b[0m\u001b[1;32m    529\u001b[0m     \u001b[0;32mreturn\u001b[0m \u001b[0mwrap\u001b[0m\u001b[0;34m(\u001b[0m\u001b[0mainv\u001b[0m\u001b[0;34m.\u001b[0m\u001b[0mastype\u001b[0m\u001b[0;34m(\u001b[0m\u001b[0mresult_t\u001b[0m\u001b[0;34m,\u001b[0m \u001b[0mcopy\u001b[0m\u001b[0;34m=\u001b[0m\u001b[0;32mFalse\u001b[0m\u001b[0;34m)\u001b[0m\u001b[0;34m)\u001b[0m\u001b[0;34m\u001b[0m\u001b[0m\n\u001b[1;32m    530\u001b[0m \u001b[0;34m\u001b[0m\u001b[0m\n",
      "\u001b[0;31mKeyboardInterrupt\u001b[0m: "
     ]
    }
   ],
   "source": [
    "def sim(x):\n",
    "    if x[1]==0:\n",
    "        v = x[0] #pollution rising linearly with time in location 0\n",
    "    if x[1]==1:\n",
    "        v = np.sin(x[0]) #pollution rising as square of time in loc 1\n",
    "    scales = [1,0.5,0.3]\n",
    "    return scales[int(x[2])]*v\n",
    "    \n",
    "X = np.zeros([0,3])\n",
    "\n",
    "N = 6 #number of time points\n",
    "#time, space, region\n",
    "#fixed station 0\n",
    "X = np.r_[X,np.c_[np.arange(N)[:,None],np.full(N,0.0)[:,None],np.full(N,0)[:,None]]]\n",
    "#mobile\n",
    "X = np.r_[X,np.c_[np.arange(N)[:,None],np.full(N,1.0)[:,None],np.full(N,1)[:,None]]]\n",
    "X[-3:,1] = 0\n",
    "#fixed station 1\n",
    "X = np.r_[X,np.c_[np.arange(N)[:,None],np.full(N,1.0)[:,None],np.full(N,2)[:,None]]]\n",
    "\n",
    "\n",
    "Y = np.empty([len(X),1])\n",
    "for i,x in enumerate(X):\n",
    "    Y[i,0] = sim(x)\n",
    "#latent real values\n",
    "#X = np.r_[X,np.c_[np.arange(4)[:,None],np.full(4,0.0)[:,None],np.full(4,3)[:,None]]]\n",
    "#X = np.r_[X,np.c_[np.arange(4)[:,None],np.full(4,1.0)[:,None],np.full(4,3)[:,None]]]\n",
    "\n",
    "\n",
    "\n",
    "def k(X,X2,W,l_time=2.0,l_dist=0.1):\n",
    "    coregmat = W.T @ W\n",
    "    k_time = np.exp(-(X[0]-X2[0])**2/(2*l_time))\n",
    "    k_dist = np.exp(-(X[1]-X2[1])**2/(2*l_dist))\n",
    "    k_coreg = coregmat[int(X[2]),int(X2[2])]\n",
    "    return k_time * k_dist * k_coreg\n",
    "\n",
    "def calcK(X,W = np.array([[1,1,1]])):\n",
    "    K = np.empty([len(X),len(X)])\n",
    "    for i,x in enumerate(X):\n",
    "        for j,x2 in enumerate(X):\n",
    "            K[i,j] = k(x,x2,W)\n",
    "    return K\n",
    "\n",
    "def calckstar(xtest,X,W = np.array([[1,1,1]])):\n",
    "    kstar = np.empty([len(X),1])\n",
    "    for i in range(len(X)):\n",
    "        kstar[i,:]=k(xtest,X[i,:],W)\n",
    "    return kstar\n",
    "\n",
    "leastrmse = np.inf\n",
    "leastWs = None\n",
    "for W0 in np.arange(0.4,6.01,0.6):\n",
    "    for W1 in np.arange(0.4,6.01,0.6):\n",
    "        for W2 in np.arange(0,6.01,0.6):\n",
    "            W = np.array([[W0,W1,W2]])\n",
    "            rmse = []\n",
    "            for dropi in range(len(X)):\n",
    "                Xdrop = np.delete(X,dropi,0)\n",
    "                Ydrop = np.delete(Y,dropi,0)\n",
    "                K = calcK(Xdrop,W)\n",
    "                xtest = X[dropi,:]\n",
    "                kstar = calckstar(xtest,Xdrop,W)    \n",
    "                #kstarstar = k(xtest,xtest)\n",
    "                Kinv = np.linalg.inv(K+np.eye(len(K)))\n",
    "                predy = kstar.T@Kinv@Ydrop\n",
    "                rmse.append((predy-Y[dropi])**2)\n",
    "                #kstarstar - kstar.T@Kinv@kstar\n",
    "            rmse = np.sqrt(np.mean(np.array(rmse)))\n",
    "            print(W,rmse)\n",
    "            if rmse<leastrmse:\n",
    "                leastrmse = rmse\n",
    "                leastWs = W"
   ]
  },
  {
   "cell_type": "code",
   "execution_count": 59,
   "metadata": {},
   "outputs": [
    {
     "data": {
      "text/plain": [
       "array([[5.8, 2.8, 1.8]])"
      ]
     },
     "execution_count": 59,
     "metadata": {},
     "output_type": "execute_result"
    }
   ],
   "source": [
    "leastWs"
   ]
  },
  {
   "cell_type": "code",
   "execution_count": 64,
   "metadata": {},
   "outputs": [
    {
     "data": {
      "text/plain": [
       "array([5.8 , 2.9 , 1.74])"
      ]
     },
     "execution_count": 64,
     "metadata": {},
     "output_type": "execute_result"
    }
   ],
   "source": [
    "np.array([1,0.5,0.3])*5.8"
   ]
  },
  {
   "cell_type": "code",
   "execution_count": 56,
   "metadata": {},
   "outputs": [
    {
     "data": {
      "text/plain": [
       "<matplotlib.image.AxesImage at 0x7fe558ed66a0>"
      ]
     },
     "execution_count": 56,
     "metadata": {},
     "output_type": "execute_result"
    },
    {
     "data": {
      "image/png": "[encoded data removed]",
      "text/plain": [
       "<matplotlib.figure.Figure at 0x7fe58972d0f0>"
      ]
     },
     "metadata": {},
     "output_type": "display_data"
    }
   ],
   "source": [
    "plt.matshow(K)"
   ]
  }
 ],
 "metadata": {
  "kernelspec": {
   "display_name": "Python 3",
   "language": "python",
   "name": "python3"
  },
  "language_info": {
   "codemirror_mode": {
    "name": "ipython",
    "version": 3
   },
   "file_extension": ".py",
   "mimetype": "text/x-python",
   "name": "python",
   "nbconvert_exporter": "python",
   "pygments_lexer": "ipython3",
   "version": "3.6.3"
  }
 },
 "nbformat": 4,
 "nbformat_minor": 2
}
