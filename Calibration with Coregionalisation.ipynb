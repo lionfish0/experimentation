{
 "cells": [
  {
   "cell_type": "markdown",
   "metadata": {},
   "source": [
    "# Demo of Coregionalisation for Calibration\n",
    "\n",
    "We can calibrate one sensor with another, using coregionalisation.\n",
    "\n",
    "We need to estimate the vector, $W$, to produce the rank-one matrix $W W^\\top$.\n",
    "\n",
    "This is done below by looking at the RMSE, however it would be better to use the log-likelihood.\n",
    "\n",
    "In particular we should use a laplace approximation, or the CCD approximation to get the uncertainty over this coregionalisation. We can then make predictions with the uncertainty of the coregionalisation.\n",
    "\n",
    "The idea would be that additional observations would reduce this uncertainty.\n",
    "\n",
    "We could also in the future look at the coregionalisation such that this varies over time..."
   ]
  },
  {
   "cell_type": "code",
   "execution_count": 1,
   "metadata": {},
   "outputs": [],
   "source": [
    "#import GPy\n",
    "import numpy as np\n",
    "import matplotlib.pyplot as plt\n",
    "%matplotlib inline"
   ]
  },
  {
   "cell_type": "code",
   "execution_count": null,
   "metadata": {
    "scrolled": true
   },
   "outputs": [],
   "source": [
    "def sim(x):\n",
    "    if x[1]==0:\n",
    "        v = x[0] #pollution rising linearly with time in location 0\n",
    "    if x[1]==1:\n",
    "        v = np.sin(x[0]) #pollution rising as square of time in loc 1\n",
    "    scales = [1,0.5,0.3]\n",
    "    return scales[int(x[2])]*v\n",
    "    \n",
    "X = np.zeros([0,3])\n",
    "\n",
    "N = 6 #number of time points\n",
    "#time, space, region\n",
    "#fixed station 0\n",
    "X = np.r_[X,np.c_[np.arange(N)[:,None],np.full(N,0.0)[:,None],np.full(N,0)[:,None]]]\n",
    "#mobile\n",
    "X = np.r_[X,np.c_[np.arange(N)[:,None],np.full(N,1.0)[:,None],np.full(N,1)[:,None]]]\n",
    "X[-3:,1] = 0\n",
    "#fixed station 1\n",
    "X = np.r_[X,np.c_[np.arange(N)[:,None],np.full(N,1.0)[:,None],np.full(N,2)[:,None]]]\n",
    "\n",
    "\n",
    "Y = np.empty([len(X),1])\n",
    "for i,x in enumerate(X):\n",
    "    Y[i,0] = sim(x)\n",
    "#latent real values\n",
    "#X = np.r_[X,np.c_[np.arange(4)[:,None],np.full(4,0.0)[:,None],np.full(4,3)[:,None]]]\n",
    "#X = np.r_[X,np.c_[np.arange(4)[:,None],np.full(4,1.0)[:,None],np.full(4,3)[:,None]]]\n",
    "\n",
    "\n",
    "\n",
    "def k(X,X2,W,l_time=2.0,l_dist=0.1):\n",
    "    coregmat = W.T @ W\n",
    "    k_time = np.exp(-(X[0]-X2[0])**2/(2*l_time))\n",
    "    k_dist = np.exp(-(X[1]-X2[1])**2/(2*l_dist))\n",
    "    k_coreg = coregmat[int(X[2]),int(X2[2])]\n",
    "    return k_time * k_dist * k_coreg\n",
    "\n",
    "def calcK(X,W = np.array([[1,1,1]])):\n",
    "    K = np.empty([len(X),len(X)])\n",
    "    for i,x in enumerate(X):\n",
    "        for j,x2 in enumerate(X):\n",
    "            K[i,j] = k(x,x2,W)\n",
    "    return K\n",
    "\n",
    "def calckstar(xtest,X,W = np.array([[1,1,1]])):\n",
    "    kstar = np.empty([len(X),1])\n",
    "    for i in range(len(X)):\n",
    "        kstar[i,:]=k(xtest,X[i,:],W)\n",
    "    return kstar\n",
    "\n",
    "leastrmse = np.inf\n",
    "leastWs = None\n",
    "for W0 in np.arange(0.4,6.01,0.6):\n",
    "    for W1 in np.arange(0.4,6.01,0.6):\n",
    "        for W2 in np.arange(0,6.01,0.6):\n",
    "            W = np.array([[W0,W1,W2]])\n",
    "            rmse = []\n",
    "            for dropi in range(len(X)):\n",
    "                Xdrop = np.delete(X,dropi,0)\n",
    "                Ydrop = np.delete(Y,dropi,0)\n",
    "                K = calcK(Xdrop,W)\n",
    "                xtest = X[dropi,:]\n",
    "                kstar = calckstar(xtest,Xdrop,W)    \n",
    "                #kstarstar = k(xtest,xtest)\n",
    "                Kinv = np.linalg.inv(K+np.eye(len(K)))\n",
    "                predy = kstar.T@Kinv@Ydrop\n",
    "                rmse.append((predy-Y[dropi])**2)\n",
    "                #kstarstar - kstar.T@Kinv@kstar\n",
    "            rmse = np.sqrt(np.mean(np.array(rmse)))\n",
    "            print(W,rmse)\n",
    "            if rmse<leastrmse:\n",
    "                leastrmse = rmse\n",
    "                leastWs = W"
   ]
  },
  {
   "cell_type": "code",
   "execution_count": 4,
   "metadata": {},
   "outputs": [
    {
     "data": {
      "text/plain": [
       "array([[5.8, 2.8, 1.8]])"
      ]
     },
     "execution_count": 4,
     "metadata": {},
     "output_type": "execute_result"
    }
   ],
   "source": [
    "leastWs"
   ]
  },
  {
   "cell_type": "code",
   "execution_count": 5,
   "metadata": {},
   "outputs": [
    {
     "data": {
      "text/plain": [
       "array([5.8 , 2.9 , 1.74])"
      ]
     },
     "execution_count": 5,
     "metadata": {},
     "output_type": "execute_result"
    }
   ],
   "source": [
    "np.array([1,0.5,0.3])*5.8"
   ]
  },
  {
   "cell_type": "code",
   "execution_count": 6,
   "metadata": {},
   "outputs": [
    {
     "data": {
      "text/plain": [
       "<matplotlib.image.AxesImage at 0x7f579e376908>"
      ]
     },
     "execution_count": 6,
     "metadata": {},
     "output_type": "execute_result"
    },
    {
     "data": {
      "image/png": "[encoded data removed]",
      "text/plain": [
       "<matplotlib.figure.Figure at 0x7f57ce7fa080>"
      ]
     },
     "metadata": {},
     "output_type": "display_data"
    }
   ],
   "source": [
    "plt.matshow(K)"
   ]
  }
 ],
 "metadata": {
  "kernelspec": {
   "display_name": "Python 3",
   "language": "python",
   "name": "python3"
  },
  "language_info": {
   "codemirror_mode": {
    "name": "ipython",
    "version": 3
   },
   "file_extension": ".py",
   "mimetype": "text/x-python",
   "name": "python",
   "nbconvert_exporter": "python",
   "pygments_lexer": "ipython3",
   "version": "3.6.3"
  }
 },
 "nbformat": 4,
 "nbformat_minor": 2
}
